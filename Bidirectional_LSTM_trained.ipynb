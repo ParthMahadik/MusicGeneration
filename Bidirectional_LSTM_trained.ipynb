{
  "nbformat": 4,
  "nbformat_minor": 0,
  "metadata": {
    "colab": {
      "provenance": [],
      "collapsed_sections": [
        "b_Xx5gskmIpS",
        "Wt9kgQZyq0mq",
        "4sMftRkCrCLs"
      ],
      "include_colab_link": true
    },
    "kernelspec": {
      "name": "python3",
      "display_name": "Python 3"
    },
    "language_info": {
      "name": "python"
    },
    "accelerator": "GPU"
  },
  "cells": [
    {
      "cell_type": "markdown",
      "metadata": {
        "id": "view-in-github",
        "colab_type": "text"
      },
      "source": [
        "<a href=\"https://colab.research.google.com/github/ParthMahadik/MusicGeneration/blob/main/Bidirectional_LSTM_trained.ipynb\" target=\"_parent\"><img src=\"https://colab.research.google.com/assets/colab-badge.svg\" alt=\"Open In Colab\"/></a>"
      ]
    },
    {
      "cell_type": "code",
      "metadata": {
        "id": "tBrehFj58qGF"
      },
      "source": [
        "from music21 import converter, chord, note\n",
        "import glob\n",
        "import os\n",
        "import numpy as np\n",
        "import pickle\n",
        "from keras.utils import np_utils"
      ],
      "execution_count": null,
      "outputs": []
    },
    {
      "cell_type": "markdown",
      "metadata": {
        "id": "6vhNLl4_KxIj"
      },
      "source": [
        "## Data Preprocessing"
      ]
    },
    {
      "cell_type": "code",
      "metadata": {
        "id": "3qLIwDspJbY1"
      },
      "source": [
        "!mkdir /content/data"
      ],
      "execution_count": null,
      "outputs": []
    },
    {
      "cell_type": "code",
      "metadata": {
        "id": "i83A7VS_Ee0M",
        "colab": {
          "base_uri": "https://localhost:8080/"
        },
        "outputId": "840beca4-b3e3-4b65-9ecb-2271949d135c"
      },
      "source": [
        "!rm /content/*.zip"
      ],
      "execution_count": null,
      "outputs": [
        {
          "output_type": "stream",
          "text": [
            "rm: cannot remove '/content/*.zip': No such file or directory\n"
          ],
          "name": "stdout"
        }
      ]
    },
    {
      "cell_type": "code",
      "metadata": {
        "id": "4R9vjW9QK3eR",
        "colab": {
          "base_uri": "https://localhost:8080/"
        },
        "outputId": "2d1c08a7-c15a-4c70-e71b-94f2a0949176"
      },
      "source": [
        "!wget -P /content http://www.jsbach.net/midi/bwv1007.zip http://www.jsbach.net/midi/bwv1008.zip http://www.jsbach.net/midi/bwv1009.zip http://www.jsbach.net/midi/bwv1010.zip http://www.jsbach.net/midi/bwv1011.zip http://www.jsbach.net/midi/bwv1012.zip"
      ],
      "execution_count": null,
      "outputs": [
        {
          "output_type": "stream",
          "text": [
            "--2021-05-29 14:10:23--  http://www.jsbach.net/midi/bwv1007.zip\n",
            "Resolving www.jsbach.net (www.jsbach.net)... 98.129.229.34\n",
            "Connecting to www.jsbach.net (www.jsbach.net)|98.129.229.34|:80... connected.\n",
            "HTTP request sent, awaiting response... 200 OK\n",
            "Length: 7206 (7.0K) [application/zip]\n",
            "Saving to: ‘/content/bwv1007.zip’\n",
            "\n",
            "bwv1007.zip         100%[===================>]   7.04K  --.-KB/s    in 0s      \n",
            "\n",
            "2021-05-29 14:10:23 (584 MB/s) - ‘/content/bwv1007.zip’ saved [7206/7206]\n",
            "\n",
            "--2021-05-29 14:10:23--  http://www.jsbach.net/midi/bwv1008.zip\n",
            "Reusing existing connection to www.jsbach.net:80.\n",
            "HTTP request sent, awaiting response... 200 OK\n",
            "Length: 8021 (7.8K) [application/zip]\n",
            "Saving to: ‘/content/bwv1008.zip’\n",
            "\n",
            "bwv1008.zip         100%[===================>]   7.83K  --.-KB/s    in 0s      \n",
            "\n",
            "2021-05-29 14:10:23 (818 MB/s) - ‘/content/bwv1008.zip’ saved [8021/8021]\n",
            "\n",
            "--2021-05-29 14:10:23--  http://www.jsbach.net/midi/bwv1009.zip\n",
            "Reusing existing connection to www.jsbach.net:80.\n",
            "HTTP request sent, awaiting response... 200 OK\n",
            "Length: 8783 (8.6K) [application/zip]\n",
            "Saving to: ‘/content/bwv1009.zip’\n",
            "\n",
            "bwv1009.zip         100%[===================>]   8.58K  --.-KB/s    in 0s      \n",
            "\n",
            "2021-05-29 14:10:23 (212 MB/s) - ‘/content/bwv1009.zip’ saved [8783/8783]\n",
            "\n",
            "--2021-05-29 14:10:23--  http://www.jsbach.net/midi/bwv1010.zip\n",
            "Reusing existing connection to www.jsbach.net:80.\n",
            "HTTP request sent, awaiting response... 200 OK\n",
            "Length: 8622 (8.4K) [application/zip]\n",
            "Saving to: ‘/content/bwv1010.zip’\n",
            "\n",
            "bwv1010.zip         100%[===================>]   8.42K  --.-KB/s    in 0s      \n",
            "\n",
            "2021-05-29 14:10:23 (242 MB/s) - ‘/content/bwv1010.zip’ saved [8622/8622]\n",
            "\n",
            "--2021-05-29 14:10:23--  http://www.jsbach.net/midi/bwv1011.zip\n",
            "Reusing existing connection to www.jsbach.net:80.\n",
            "HTTP request sent, awaiting response... 200 OK\n",
            "Length: 8973 (8.8K) [application/zip]\n",
            "Saving to: ‘/content/bwv1011.zip’\n",
            "\n",
            "bwv1011.zip         100%[===================>]   8.76K  --.-KB/s    in 0s      \n",
            "\n",
            "2021-05-29 14:10:23 (245 MB/s) - ‘/content/bwv1011.zip’ saved [8973/8973]\n",
            "\n",
            "--2021-05-29 14:10:23--  http://www.jsbach.net/midi/bwv1012.zip\n",
            "Reusing existing connection to www.jsbach.net:80.\n",
            "HTTP request sent, awaiting response... 200 OK\n",
            "Length: 10242 (10K) [application/zip]\n",
            "Saving to: ‘/content/bwv1012.zip’\n",
            "\n",
            "bwv1012.zip         100%[===================>]  10.00K  --.-KB/s    in 0s      \n",
            "\n",
            "2021-05-29 14:10:23 (301 MB/s) - ‘/content/bwv1012.zip’ saved [10242/10242]\n",
            "\n",
            "FINISHED --2021-05-29 14:10:23--\n",
            "Total wall clock time: 0.3s\n",
            "Downloaded: 6 files, 51K in 0s (305 MB/s)\n"
          ],
          "name": "stdout"
        }
      ]
    },
    {
      "cell_type": "code",
      "metadata": {
        "id": "JJWVP_S3MEJ1",
        "colab": {
          "base_uri": "https://localhost:8080/"
        },
        "outputId": "0ac77cd3-cc97-4f0f-b20e-3684a11a28f7"
      },
      "source": [
        "!rm /content/data/*"
      ],
      "execution_count": null,
      "outputs": [
        {
          "output_type": "stream",
          "text": [
            "rm: cannot remove '/content/data/*': No such file or directory\n"
          ],
          "name": "stdout"
        }
      ]
    },
    {
      "cell_type": "code",
      "metadata": {
        "id": "h9J6rCh6ZDbv"
      },
      "source": [
        "!unzip -q bwv1007.zip -d /content/data\n",
        "!unzip -q bwv1008.zip -d /content/data\n",
        "!unzip -q bwv1009.zip -d /content/data\n",
        "!unzip -q bwv1010.zip -d /content/data\n",
        "!unzip -q bwv1011.zip -d /content/data\n",
        "!unzip -q bwv1012.zip -d /content/data"
      ],
      "execution_count": null,
      "outputs": []
    },
    {
      "cell_type": "code",
      "metadata": {
        "id": "i3HxEQgbJFb7"
      },
      "source": [
        "filename = 'cs1-1pre.mid'\n",
        "file = \"/content/data/{}\".format(filename)\n",
        "\n",
        "orig_score = converter.parse(file).chordify()"
      ],
      "execution_count": null,
      "outputs": []
    },
    {
      "cell_type": "code",
      "metadata": {
        "id": "sjH_xolzJZcI",
        "colab": {
          "base_uri": "https://localhost:8080/"
        },
        "outputId": "89860572-4f65-4348-8b21-4ac7e592f2f6"
      },
      "source": [
        "orig_score.show('text')"
      ],
      "execution_count": null,
      "outputs": [
        {
          "output_type": "stream",
          "text": [
            "{0.0} <music21.instrument.Violoncello Violoncello>\n",
            "{0.0} <music21.tempo.MetronomeMark andantino Quarter=80.0>\n",
            "{0.0} <music21.key.Key of G major>\n",
            "{0.0} <music21.meter.TimeSignature 4/4>\n",
            "{0.0} <music21.chord.Chord G2>\n",
            "{0.25} <music21.chord.Chord D3>\n",
            "{0.5} <music21.chord.Chord B3>\n",
            "{0.75} <music21.chord.Chord A3>\n",
            "{1.0} <music21.chord.Chord B3>\n",
            "{1.25} <music21.chord.Chord D3>\n",
            "{1.5} <music21.chord.Chord B3>\n",
            "{1.75} <music21.chord.Chord D3>\n",
            "{2.0} <music21.chord.Chord G2>\n",
            "{2.25} <music21.chord.Chord D3>\n",
            "{2.5} <music21.chord.Chord B3>\n",
            "{2.75} <music21.chord.Chord A3>\n",
            "{3.0} <music21.chord.Chord B3>\n",
            "{3.25} <music21.chord.Chord D3>\n",
            "{3.5} <music21.chord.Chord B3>\n",
            "{3.75} <music21.chord.Chord D3>\n",
            "{4.0} <music21.chord.Chord G2>\n",
            "{4.25} <music21.chord.Chord E3>\n",
            "{4.5} <music21.chord.Chord C4>\n",
            "{4.75} <music21.chord.Chord B3>\n",
            "{5.0} <music21.chord.Chord C4>\n",
            "{5.25} <music21.chord.Chord E3>\n",
            "{5.5} <music21.chord.Chord C4>\n",
            "{5.75} <music21.chord.Chord E3>\n",
            "{6.0} <music21.chord.Chord G2>\n",
            "{6.25} <music21.chord.Chord E3>\n",
            "{6.5} <music21.chord.Chord C4>\n",
            "{6.75} <music21.chord.Chord B3>\n",
            "{7.0} <music21.chord.Chord C4>\n",
            "{7.25} <music21.chord.Chord E3>\n",
            "{7.5} <music21.chord.Chord C4>\n",
            "{7.75} <music21.chord.Chord E3>\n",
            "{8.0} <music21.chord.Chord G2>\n",
            "{8.25} <music21.chord.Chord F#3>\n",
            "{8.5} <music21.chord.Chord C4>\n",
            "{8.75} <music21.chord.Chord B3>\n",
            "{9.0} <music21.chord.Chord C4>\n",
            "{9.25} <music21.chord.Chord F#3>\n",
            "{9.5} <music21.chord.Chord C4>\n",
            "{9.75} <music21.chord.Chord F#3>\n",
            "{10.0} <music21.chord.Chord G2>\n",
            "{10.25} <music21.chord.Chord F#3>\n",
            "{10.5} <music21.chord.Chord C4>\n",
            "{10.75} <music21.chord.Chord B3>\n",
            "{11.0} <music21.chord.Chord C4>\n",
            "{11.25} <music21.chord.Chord F#3>\n",
            "{11.5} <music21.chord.Chord C4>\n",
            "{11.75} <music21.chord.Chord F#3>\n",
            "{12.0} <music21.chord.Chord G2>\n",
            "{12.25} <music21.chord.Chord G3>\n",
            "{12.5} <music21.chord.Chord B3>\n",
            "{12.75} <music21.chord.Chord A3>\n",
            "{13.0} <music21.chord.Chord B3>\n",
            "{13.25} <music21.chord.Chord G3>\n",
            "{13.5} <music21.chord.Chord B3>\n",
            "{13.75} <music21.chord.Chord G3>\n",
            "{14.0} <music21.chord.Chord G2>\n",
            "{14.25} <music21.chord.Chord G3>\n",
            "{14.5} <music21.chord.Chord B3>\n",
            "{14.75} <music21.chord.Chord A3>\n",
            "{15.0} <music21.chord.Chord B3>\n",
            "{15.25} <music21.chord.Chord G3>\n",
            "{15.5} <music21.chord.Chord B3>\n",
            "{15.75} <music21.chord.Chord F#3>\n",
            "{16.0} <music21.chord.Chord G2>\n",
            "{16.25} <music21.chord.Chord E3>\n",
            "{16.5} <music21.chord.Chord B3>\n",
            "{16.75} <music21.chord.Chord A3>\n",
            "{17.0} <music21.chord.Chord B3>\n",
            "{17.25} <music21.chord.Chord G3>\n",
            "{17.5} <music21.chord.Chord F#3>\n",
            "{17.75} <music21.chord.Chord G3>\n",
            "{18.0} <music21.chord.Chord E3>\n",
            "{18.25} <music21.chord.Chord G3>\n",
            "{18.5} <music21.chord.Chord F#3>\n",
            "{18.75} <music21.chord.Chord G3>\n",
            "{19.0} <music21.chord.Chord B2>\n",
            "{19.25} <music21.chord.Chord D3>\n",
            "{19.5} <music21.chord.Chord C#3>\n",
            "{19.75} <music21.chord.Chord B2>\n",
            "{20.0} <music21.chord.Chord C#3>\n",
            "{20.25} <music21.chord.Chord G3>\n",
            "{20.5} <music21.chord.Chord A3>\n",
            "{20.75} <music21.chord.Chord G3>\n",
            "{21.0} <music21.chord.Chord A3>\n",
            "{21.25} <music21.chord.Chord G3>\n",
            "{21.5} <music21.chord.Chord A3>\n",
            "{21.75} <music21.chord.Chord G3>\n",
            "{22.0} <music21.chord.Chord C#3>\n",
            "{22.25} <music21.chord.Chord G3>\n",
            "{22.5} <music21.chord.Chord A3>\n",
            "{22.75} <music21.chord.Chord G3>\n",
            "{23.0} <music21.chord.Chord A3>\n",
            "{23.25} <music21.chord.Chord G3>\n",
            "{23.5} <music21.chord.Chord A3>\n",
            "{23.75} <music21.chord.Chord G3>\n",
            "{24.0} <music21.chord.Chord F#3>\n",
            "{24.25} <music21.chord.Chord A3>\n",
            "{24.5} <music21.chord.Chord D4>\n",
            "{24.75} <music21.chord.Chord C#4>\n",
            "{25.0} <music21.chord.Chord D4>\n",
            "{25.25} <music21.chord.Chord A3>\n",
            "{25.5} <music21.chord.Chord G3>\n",
            "{25.75} <music21.chord.Chord A3>\n",
            "{26.0} <music21.chord.Chord F#3>\n",
            "{26.25} <music21.chord.Chord A3>\n",
            "{26.5} <music21.chord.Chord G3>\n",
            "{26.75} <music21.chord.Chord A3>\n",
            "{27.0} <music21.chord.Chord D3>\n",
            "{27.25} <music21.chord.Chord F#3>\n",
            "{27.5} <music21.chord.Chord E3>\n",
            "{27.75} <music21.chord.Chord D3>\n",
            "{28.0} <music21.chord.Chord E2>\n",
            "{28.25} <music21.chord.Chord B2>\n",
            "{28.5} <music21.chord.Chord G3>\n",
            "{28.75} <music21.chord.Chord F#3>\n",
            "{29.0} <music21.chord.Chord G3>\n",
            "{29.25} <music21.chord.Chord B2>\n",
            "{29.5} <music21.chord.Chord G3>\n",
            "{29.75} <music21.chord.Chord B2>\n",
            "{30.0} <music21.chord.Chord E2>\n",
            "{30.25} <music21.chord.Chord B2>\n",
            "{30.5} <music21.chord.Chord G3>\n",
            "{30.75} <music21.chord.Chord F#3>\n",
            "{31.0} <music21.chord.Chord G3>\n",
            "{31.25} <music21.chord.Chord B2>\n",
            "{31.5} <music21.chord.Chord G3>\n",
            "{31.75} <music21.chord.Chord B2>\n",
            "{32.0} <music21.chord.Chord E2>\n",
            "{32.25} <music21.chord.Chord C#3>\n",
            "{32.5} <music21.chord.Chord D3>\n",
            "{32.75} <music21.chord.Chord E3>\n",
            "{33.0} <music21.chord.Chord D3>\n",
            "{33.25} <music21.chord.Chord C#3>\n",
            "{33.5} <music21.chord.Chord B2>\n",
            "{33.75} <music21.chord.Chord A2>\n",
            "{34.0} <music21.chord.Chord G3>\n",
            "{34.25} <music21.chord.Chord F#3>\n",
            "{34.5} <music21.chord.Chord E3>\n",
            "{34.75} <music21.chord.Chord D4>\n",
            "{35.0} <music21.chord.Chord C#4>\n",
            "{35.25} <music21.chord.Chord B3>\n",
            "{35.5} <music21.chord.Chord A3>\n",
            "{35.75} <music21.chord.Chord G3>\n",
            "{36.0} <music21.chord.Chord F#3>\n",
            "{36.25} <music21.chord.Chord E3>\n",
            "{36.5} <music21.chord.Chord D3>\n",
            "{36.75} <music21.chord.Chord D4>\n",
            "{37.0} <music21.chord.Chord A3>\n",
            "{37.25} <music21.chord.Chord D4>\n",
            "{37.5} <music21.chord.Chord F#3>\n",
            "{37.75} <music21.chord.Chord A3>\n",
            "{38.0} <music21.chord.Chord D3>\n",
            "{38.25} <music21.chord.Chord E3>\n",
            "{38.5} <music21.chord.Chord F#3>\n",
            "{38.75} <music21.chord.Chord A3>\n",
            "{39.0} <music21.chord.Chord G3>\n",
            "{39.25} <music21.chord.Chord F#3>\n",
            "{39.5} <music21.chord.Chord E3>\n",
            "{39.75} <music21.chord.Chord D3>\n",
            "{40.0} <music21.chord.Chord G#3>\n",
            "{40.25} <music21.chord.Chord D3>\n",
            "{40.5} <music21.chord.Chord F3>\n",
            "{40.75} <music21.chord.Chord E3>\n",
            "{41.0} <music21.chord.Chord F3>\n",
            "{41.25} <music21.chord.Chord D3>\n",
            "{41.5} <music21.chord.Chord G#3>\n",
            "{41.75} <music21.chord.Chord D3>\n",
            "{42.0} <music21.chord.Chord B3>\n",
            "{42.25} <music21.chord.Chord D3>\n",
            "{42.5} <music21.chord.Chord F3>\n",
            "{42.75} <music21.chord.Chord E3>\n",
            "{43.0} <music21.chord.Chord F3>\n",
            "{43.25} <music21.chord.Chord D3>\n",
            "{43.5} <music21.chord.Chord G#3>\n",
            "{43.75} <music21.chord.Chord D3>\n",
            "{44.0} <music21.chord.Chord C3>\n",
            "{44.25} <music21.chord.Chord E3>\n",
            "{44.5} <music21.chord.Chord A3>\n",
            "{44.75} <music21.chord.Chord B3>\n",
            "{45.0} <music21.chord.Chord C4>\n",
            "{45.25} <music21.chord.Chord A3>\n",
            "{45.5} <music21.chord.Chord E3>\n",
            "{45.75} <music21.chord.Chord D3>\n",
            "{46.0} <music21.chord.Chord C3>\n",
            "{46.25} <music21.chord.Chord E3>\n",
            "{46.5} <music21.chord.Chord A3>\n",
            "{46.75} <music21.chord.Chord B3>\n",
            "{47.0} <music21.chord.Chord C4>\n",
            "{47.25} <music21.chord.Chord A3>\n",
            "{47.5} <music21.chord.Chord F#3>\n",
            "{47.75} <music21.chord.Chord E3>\n",
            "{48.0} <music21.chord.Chord E-3>\n",
            "{48.25} <music21.chord.Chord F#3>\n",
            "{48.5} <music21.chord.Chord E-3>\n",
            "{48.75} <music21.chord.Chord F#3>\n",
            "{49.0} <music21.chord.Chord A3>\n",
            "{49.25} <music21.chord.Chord F#3>\n",
            "{49.5} <music21.chord.Chord A3>\n",
            "{49.75} <music21.chord.Chord F#3>\n",
            "{50.0} <music21.chord.Chord E-3>\n",
            "{50.25} <music21.chord.Chord F#3>\n",
            "{50.5} <music21.chord.Chord E-3>\n",
            "{50.75} <music21.chord.Chord F#3>\n",
            "{51.0} <music21.chord.Chord A3>\n",
            "{51.25} <music21.chord.Chord F#3>\n",
            "{51.5} <music21.chord.Chord A3>\n",
            "{51.75} <music21.chord.Chord F#3>\n",
            "{52.0} <music21.chord.Chord G3>\n",
            "{52.25} <music21.chord.Chord F#3>\n",
            "{52.5} <music21.chord.Chord E3>\n",
            "{52.75} <music21.chord.Chord G3>\n",
            "{53.0} <music21.chord.Chord F#3>\n",
            "{53.25} <music21.chord.Chord G3>\n",
            "{53.5} <music21.chord.Chord A3>\n",
            "{53.75} <music21.chord.Chord F#3>\n",
            "{54.0} <music21.chord.Chord G3>\n",
            "{54.25} <music21.chord.Chord F#3>\n",
            "{54.5} <music21.chord.Chord E3>\n",
            "{54.75} <music21.chord.Chord D3>\n",
            "{55.0} <music21.chord.Chord C3>\n",
            "{55.25} <music21.chord.Chord B2>\n",
            "{55.5} <music21.chord.Chord A2>\n",
            "{55.75} <music21.chord.Chord G2>\n",
            "{56.0} <music21.chord.Chord F#2>\n",
            "{56.25} <music21.chord.Chord C3>\n",
            "{56.5} <music21.chord.Chord D3>\n",
            "{56.75} <music21.chord.Chord C3>\n",
            "{57.0} <music21.chord.Chord D3>\n",
            "{57.25} <music21.chord.Chord C3>\n",
            "{57.5} <music21.chord.Chord D3>\n",
            "{57.75} <music21.chord.Chord C3>\n",
            "{58.0} <music21.chord.Chord F#2>\n",
            "{58.25} <music21.chord.Chord C3>\n",
            "{58.5} <music21.chord.Chord D3>\n",
            "{58.75} <music21.chord.Chord C3>\n",
            "{59.0} <music21.chord.Chord D3>\n",
            "{59.25} <music21.chord.Chord C3>\n",
            "{59.5} <music21.chord.Chord D3>\n",
            "{59.75} <music21.chord.Chord C3>\n",
            "{60.0} <music21.chord.Chord G2>\n",
            "{60.25} <music21.chord.Chord B2>\n",
            "{60.5} <music21.chord.Chord F3>\n",
            "{60.75} <music21.chord.Chord E3>\n",
            "{61.0} <music21.chord.Chord F3>\n",
            "{61.25} <music21.chord.Chord B2>\n",
            "{61.5} <music21.chord.Chord F3>\n",
            "{61.75} <music21.chord.Chord B2>\n",
            "{62.0} <music21.chord.Chord G2>\n",
            "{62.25} <music21.chord.Chord B2>\n",
            "{62.5} <music21.chord.Chord F3>\n",
            "{62.75} <music21.chord.Chord E3>\n",
            "{63.0} <music21.chord.Chord F3>\n",
            "{63.25} <music21.chord.Chord B2>\n",
            "{63.5} <music21.chord.Chord F3>\n",
            "{63.75} <music21.chord.Chord B2>\n",
            "{64.0} <music21.chord.Chord G2>\n",
            "{64.25} <music21.chord.Chord C3>\n",
            "{64.5} <music21.chord.Chord E3>\n",
            "{64.75} <music21.chord.Chord D3>\n",
            "{65.0} <music21.chord.Chord E3>\n",
            "{65.25} <music21.chord.Chord C3>\n",
            "{65.5} <music21.chord.Chord E3>\n",
            "{65.75} <music21.chord.Chord C3>\n",
            "{66.0} <music21.chord.Chord G2>\n",
            "{66.25} <music21.chord.Chord C3>\n",
            "{66.5} <music21.chord.Chord E3>\n",
            "{66.75} <music21.chord.Chord D3>\n",
            "{67.0} <music21.chord.Chord E3>\n",
            "{67.25} <music21.chord.Chord C3>\n",
            "{67.5} <music21.chord.Chord E3>\n",
            "{67.75} <music21.chord.Chord C3>\n",
            "{68.0} <music21.chord.Chord G2>\n",
            "{68.25} <music21.chord.Chord F#3>\n",
            "{68.5} <music21.chord.Chord C4>\n",
            "{68.75} <music21.chord.Chord B3>\n",
            "{69.0} <music21.chord.Chord C4>\n",
            "{69.25} <music21.chord.Chord F#3>\n",
            "{69.5} <music21.chord.Chord C4>\n",
            "{69.75} <music21.chord.Chord F#3>\n",
            "{70.0} <music21.chord.Chord G2>\n",
            "{70.25} <music21.chord.Chord F#3>\n",
            "{70.5} <music21.chord.Chord C4>\n",
            "{70.75} <music21.chord.Chord B3>\n",
            "{71.0} <music21.chord.Chord C4>\n",
            "{71.25} <music21.chord.Chord F#3>\n",
            "{71.5} <music21.chord.Chord C4>\n",
            "{71.75} <music21.chord.Chord F#3>\n",
            "{72.0} <music21.chord.Chord G2>\n",
            "{72.25} <music21.chord.Chord D3>\n",
            "{72.5} <music21.chord.Chord B3>\n",
            "{72.75} <music21.chord.Chord A3>\n",
            "{73.0} <music21.chord.Chord B3>\n",
            "{73.25} <music21.chord.Chord G3>\n",
            "{73.5} <music21.chord.Chord F#3>\n",
            "{73.75} <music21.chord.Chord E3>\n",
            "{74.0} <music21.chord.Chord D3>\n",
            "{74.25} <music21.chord.Chord C3>\n",
            "{74.5} <music21.chord.Chord B2>\n",
            "{74.75} <music21.chord.Chord A2>\n",
            "{75.0} <music21.chord.Chord G2>\n",
            "{75.25} <music21.chord.Chord F#2>\n",
            "{75.5} <music21.chord.Chord E2>\n",
            "{75.75} <music21.chord.Chord D2>\n",
            "{76.0} <music21.chord.Chord C#2>\n",
            "{76.25} <music21.chord.Chord A2>\n",
            "{76.5} <music21.chord.Chord E3>\n",
            "{76.75} <music21.chord.Chord F#3>\n",
            "{77.0} <music21.chord.Chord G3>\n",
            "{77.25} <music21.chord.Chord E3>\n",
            "{77.5} <music21.chord.Chord F#3>\n",
            "{77.75} <music21.chord.Chord G3>\n",
            "{78.0} <music21.chord.Chord C#2>\n",
            "{78.25} <music21.chord.Chord A2>\n",
            "{78.5} <music21.chord.Chord E3>\n",
            "{78.75} <music21.chord.Chord F#3>\n",
            "{79.0} <music21.chord.Chord G3>\n",
            "{79.25} <music21.chord.Chord E3>\n",
            "{79.5} <music21.chord.Chord F#3>\n",
            "{79.75} <music21.chord.Chord G3>\n",
            "{80.0} <music21.chord.Chord C2>\n",
            "{80.25} <music21.chord.Chord A2>\n",
            "{80.5} <music21.chord.Chord D3>\n",
            "{80.75} <music21.chord.Chord E3>\n",
            "{81.0} <music21.chord.Chord F#3>\n",
            "{81.25} <music21.chord.Chord D3>\n",
            "{81.5} <music21.chord.Chord E3>\n",
            "{81.75} <music21.chord.Chord F#3>\n",
            "{82.0} <music21.chord.Chord C2>\n",
            "{82.25} <music21.chord.Chord A2>\n",
            "{82.5} <music21.chord.Chord D3>\n",
            "{82.75} <music21.chord.Chord E3>\n",
            "{83.0} <music21.chord.Chord F#3>\n",
            "{83.25} <music21.chord.Chord D3>\n",
            "{83.5} <music21.chord.Chord E3>\n",
            "{83.75} <music21.chord.Chord F#3>\n",
            "{84.0} <music21.chord.Chord C2>\n",
            "{84.25} <music21.chord.Chord A2>\n",
            "{84.5} <music21.chord.Chord D3>\n",
            "{84.75} <music21.chord.Chord F#3>\n",
            "{85.0} <music21.chord.Chord A3>\n",
            "{85.25} <music21.chord.Chord C#4>\n",
            "{85.5} <music21.tempo.MetronomeMark Quarter=20.0>\n",
            "{85.5} <music21.chord.Chord D4>\n",
            "{86.0} <music21.tempo.MetronomeMark Quarter=77.0>\n",
            "{86.25} <music21.chord.Chord A2>\n",
            "{86.5} <music21.chord.Chord B2>\n",
            "{86.75} <music21.chord.Chord C3>\n",
            "{87.0} <music21.chord.Chord D3>\n",
            "{87.25} <music21.chord.Chord E3>\n",
            "{87.5} <music21.chord.Chord F#3>\n",
            "{87.75} <music21.chord.Chord G3>\n",
            "{88.0} <music21.chord.Chord A3>\n",
            "{88.25} <music21.chord.Chord F#3>\n",
            "{88.5} <music21.chord.Chord D3>\n",
            "{88.75} <music21.chord.Chord E3>\n",
            "{89.0} <music21.chord.Chord F#3>\n",
            "{89.25} <music21.chord.Chord G3>\n",
            "{89.5} <music21.chord.Chord A3>\n",
            "{89.75} <music21.chord.Chord B3>\n",
            "{90.0} <music21.chord.Chord C4>\n",
            "{90.25} <music21.chord.Chord A3>\n",
            "{90.5} <music21.chord.Chord F#3>\n",
            "{90.75} <music21.chord.Chord G3>\n",
            "{91.0} <music21.chord.Chord A3>\n",
            "{91.25} <music21.chord.Chord B3>\n",
            "{91.5} <music21.chord.Chord C4>\n",
            "{91.75} <music21.chord.Chord D4>\n",
            "{92.0} <music21.chord.Chord E-4>\n",
            "{92.25} <music21.chord.Chord D4>\n",
            "{92.5} <music21.chord.Chord C#4>\n",
            "{92.75} <music21.chord.Chord D4>\n",
            "{93.0} <music21.chord.Chord D4>\n",
            "{93.25} <music21.chord.Chord C4>\n",
            "{93.5} <music21.chord.Chord B3>\n",
            "{93.75} <music21.chord.Chord C4>\n",
            "{94.0} <music21.chord.Chord C4>\n",
            "{94.25} <music21.chord.Chord A3>\n",
            "{94.5} <music21.chord.Chord F#3>\n",
            "{94.75} <music21.chord.Chord E3>\n",
            "{95.0} <music21.chord.Chord D3>\n",
            "{95.25} <music21.chord.Chord A2>\n",
            "{95.5} <music21.chord.Chord B2>\n",
            "{95.75} <music21.chord.Chord C3>\n",
            "{96.0} <music21.chord.Chord D2>\n",
            "{96.25} <music21.chord.Chord A2>\n",
            "{96.5} <music21.chord.Chord D3>\n",
            "{96.75} <music21.chord.Chord F#3>\n",
            "{97.0} <music21.chord.Chord A3>\n",
            "{97.25} <music21.chord.Chord B3>\n",
            "{97.5} <music21.chord.Chord C4>\n",
            "{97.75} <music21.chord.Chord A3>\n",
            "{98.0} <music21.chord.Chord B3>\n",
            "{98.25} <music21.chord.Chord G3>\n",
            "{98.5} <music21.chord.Chord D3>\n",
            "{98.75} <music21.chord.Chord C3>\n",
            "{99.0} <music21.chord.Chord B2>\n",
            "{99.25} <music21.chord.Chord G2>\n",
            "{99.5} <music21.chord.Chord A2>\n",
            "{99.75} <music21.chord.Chord B2>\n",
            "{100.0} <music21.chord.Chord D2>\n",
            "{100.25} <music21.chord.Chord G2>\n",
            "{100.5} <music21.chord.Chord B2>\n",
            "{100.75} <music21.chord.Chord D3>\n",
            "{101.0} <music21.chord.Chord G3>\n",
            "{101.25} <music21.chord.Chord A3>\n",
            "{101.5} <music21.chord.Chord B3>\n",
            "{101.75} <music21.chord.Chord G3>\n",
            "{102.0} <music21.chord.Chord C#4>\n",
            "{102.25} <music21.chord.Chord B3>\n",
            "{102.5} <music21.chord.Chord A3>\n",
            "{102.75} <music21.chord.Chord B-3>\n",
            "{103.0} <music21.chord.Chord B-3>\n",
            "{103.25} <music21.chord.Chord A3>\n",
            "{103.5} <music21.chord.Chord G#3>\n",
            "{103.75} <music21.chord.Chord A3>\n",
            "{104.0} <music21.chord.Chord A3>\n",
            "{104.25} <music21.chord.Chord G3>\n",
            "{104.5} <music21.chord.Chord F#3>\n",
            "{104.75} <music21.chord.Chord G3>\n",
            "{105.0} <music21.chord.Chord G3>\n",
            "{105.25} <music21.chord.Chord E3>\n",
            "{105.5} <music21.chord.Chord C#3>\n",
            "{105.75} <music21.chord.Chord B2>\n",
            "{106.0} <music21.chord.Chord A2>\n",
            "{106.25} <music21.chord.Chord C#3>\n",
            "{106.5} <music21.chord.Chord E3>\n",
            "{106.75} <music21.chord.Chord G3>\n",
            "{107.0} <music21.chord.Chord A3>\n",
            "{107.25} <music21.chord.Chord C#4>\n",
            "{107.5} <music21.chord.Chord D4>\n",
            "{107.75} <music21.chord.Chord C#4>\n",
            "{108.0} <music21.chord.Chord D4>\n",
            "{108.25} <music21.chord.Chord A3>\n",
            "{108.5} <music21.chord.Chord F#3>\n",
            "{108.75} <music21.chord.Chord E3>\n",
            "{109.0} <music21.chord.Chord F#3>\n",
            "{109.25} <music21.chord.Chord A3>\n",
            "{109.5} <music21.chord.Chord D3>\n",
            "{109.75} <music21.chord.Chord F#3>\n",
            "{110.0} <music21.chord.Chord A2>\n",
            "{110.25} <music21.chord.Chord D3>\n",
            "{110.5} <music21.chord.Chord C#3>\n",
            "{110.75} <music21.chord.Chord B2>\n",
            "{111.0} <music21.chord.Chord A2>\n",
            "{111.25} <music21.chord.Chord G2>\n",
            "{111.5} <music21.chord.Chord F#2>\n",
            "{111.75} <music21.chord.Chord E2>\n",
            "{112.0} <music21.chord.Chord D2>\n",
            "{112.5} <music21.chord.Chord C4>\n",
            "{112.75} <music21.chord.Chord B3>\n",
            "{113.0} <music21.chord.Chord A3>\n",
            "{113.25} <music21.chord.Chord G3>\n",
            "{113.5} <music21.chord.Chord F#3>\n",
            "{113.75} <music21.chord.Chord E3>\n",
            "{114.0} <music21.chord.Chord D3>\n",
            "{114.25} <music21.chord.Chord C4>\n",
            "{114.5} <music21.chord.Chord B3>\n",
            "{114.75} <music21.chord.Chord A3>\n",
            "{115.0} <music21.chord.Chord G3>\n",
            "{115.25} <music21.chord.Chord F#3>\n",
            "{115.5} <music21.chord.Chord E3>\n",
            "{115.75} <music21.chord.Chord D3>\n",
            "{116.0} <music21.chord.Chord C3>\n",
            "{116.25} <music21.chord.Chord B3>\n",
            "{116.5} <music21.chord.Chord A3>\n",
            "{116.75} <music21.chord.Chord G3>\n",
            "{117.0} <music21.chord.Chord F#3>\n",
            "{117.25} <music21.chord.Chord E3>\n",
            "{117.5} <music21.chord.Chord D3>\n",
            "{117.75} <music21.chord.Chord C3>\n",
            "{118.0} <music21.chord.Chord B2>\n",
            "{118.25} <music21.chord.Chord A3>\n",
            "{118.5} <music21.chord.Chord G3>\n",
            "{118.75} <music21.chord.Chord F#3>\n",
            "{119.0} <music21.chord.Chord E3>\n",
            "{119.25} <music21.chord.Chord D3>\n",
            "{119.5} <music21.chord.Chord C3>\n",
            "{119.75} <music21.chord.Chord B2>\n",
            "{120.0} <music21.chord.Chord A2>\n",
            "{120.25} <music21.chord.Chord G3>\n",
            "{120.5} <music21.chord.Chord F#3>\n",
            "{120.75} <music21.chord.Chord E3>\n",
            "{121.0} <music21.chord.Chord F#3>\n",
            "{121.25} <music21.chord.Chord A3>\n",
            "{121.5} <music21.chord.Chord D3>\n",
            "{121.75} <music21.chord.Chord A3>\n",
            "{122.0} <music21.chord.Chord E3>\n",
            "{122.25} <music21.chord.Chord A3>\n",
            "{122.5} <music21.chord.Chord F#3>\n",
            "{122.75} <music21.chord.Chord A3>\n",
            "{123.0} <music21.chord.Chord G3>\n",
            "{123.25} <music21.chord.Chord A3>\n",
            "{123.5} <music21.chord.Chord E3>\n",
            "{123.75} <music21.chord.Chord A3>\n",
            "{124.0} <music21.chord.Chord F#3>\n",
            "{124.25} <music21.chord.Chord A3>\n",
            "{124.5} <music21.chord.Chord D3>\n",
            "{124.75} <music21.chord.Chord A3>\n",
            "{125.0} <music21.chord.Chord G3>\n",
            "{125.25} <music21.chord.Chord A3>\n",
            "{125.5} <music21.chord.Chord E3>\n",
            "{125.75} <music21.chord.Chord A3>\n",
            "{126.0} <music21.chord.Chord F#3>\n",
            "{126.25} <music21.chord.Chord A3>\n",
            "{126.5} <music21.chord.Chord D3>\n",
            "{126.75} <music21.chord.Chord A3>\n",
            "{127.0} <music21.chord.Chord G3>\n",
            "{127.25} <music21.chord.Chord A3>\n",
            "{127.5} <music21.chord.Chord E3>\n",
            "{127.75} <music21.chord.Chord A3>\n",
            "{128.0} <music21.chord.Chord F#3>\n",
            "{128.25} <music21.chord.Chord A3>\n",
            "{128.5} <music21.chord.Chord D3>\n",
            "{128.75} <music21.chord.Chord A3>\n",
            "{129.0} <music21.chord.Chord E3>\n",
            "{129.25} <music21.chord.Chord A3>\n",
            "{129.5} <music21.chord.Chord F#3>\n",
            "{129.75} <music21.chord.Chord A3>\n",
            "{130.0} <music21.chord.Chord G3>\n",
            "{130.25} <music21.chord.Chord A3>\n",
            "{130.5} <music21.chord.Chord A3>\n",
            "{130.75} <music21.chord.Chord A3>\n",
            "{131.0} <music21.chord.Chord B3>\n",
            "{131.25} <music21.chord.Chord A3>\n",
            "{131.5} <music21.chord.Chord D3>\n",
            "{131.75} <music21.chord.Chord A3>\n",
            "{132.0} <music21.chord.Chord A3>\n",
            "{132.25} <music21.chord.Chord A3>\n",
            "{132.5} <music21.chord.Chord B3>\n",
            "{132.75} <music21.chord.Chord A3>\n",
            "{133.0} <music21.chord.Chord C4>\n",
            "{133.25} <music21.chord.Chord A3>\n",
            "{133.5} <music21.chord.Chord D3>\n",
            "{133.75} <music21.chord.Chord A3>\n",
            "{134.0} <music21.chord.Chord B3>\n",
            "{134.25} <music21.chord.Chord A3>\n",
            "{134.5} <music21.chord.Chord C4>\n",
            "{134.75} <music21.chord.Chord A3>\n",
            "{135.0} <music21.chord.Chord D4>\n",
            "{135.25} <music21.chord.Chord A3>\n",
            "{135.5} <music21.chord.Chord B3>\n",
            "{135.75} <music21.chord.Chord A3>\n",
            "{136.0} <music21.chord.Chord C4>\n",
            "{136.25} <music21.chord.Chord A3>\n",
            "{136.5} <music21.chord.Chord B3>\n",
            "{136.75} <music21.chord.Chord A3>\n",
            "{137.0} <music21.chord.Chord C4>\n",
            "{137.25} <music21.chord.Chord A3>\n",
            "{137.5} <music21.chord.Chord A3>\n",
            "{137.75} <music21.chord.Chord A3>\n",
            "{138.0} <music21.chord.Chord B3>\n",
            "{138.25} <music21.chord.Chord A3>\n",
            "{138.5} <music21.chord.Chord A3>\n",
            "{138.75} <music21.chord.Chord A3>\n",
            "{139.0} <music21.chord.Chord B3>\n",
            "{139.25} <music21.chord.Chord A3>\n",
            "{139.5} <music21.chord.Chord G3>\n",
            "{139.75} <music21.chord.Chord A3>\n",
            "{140.0} <music21.chord.Chord A3>\n",
            "{140.25} <music21.chord.Chord A3>\n",
            "{140.5} <music21.chord.Chord G3>\n",
            "{140.75} <music21.chord.Chord A3>\n",
            "{141.0} <music21.chord.Chord A3>\n",
            "{141.25} <music21.chord.Chord A3>\n",
            "{141.5} <music21.chord.Chord F#3>\n",
            "{141.75} <music21.chord.Chord A3>\n",
            "{142.0} <music21.chord.Chord G3>\n",
            "{142.25} <music21.chord.Chord A3>\n",
            "{142.5} <music21.chord.Chord F#3>\n",
            "{142.75} <music21.chord.Chord A3>\n",
            "{143.0} <music21.chord.Chord G3>\n",
            "{143.25} <music21.chord.Chord A3>\n",
            "{143.5} <music21.chord.Chord E3>\n",
            "{143.75} <music21.chord.Chord A3>\n",
            "{144.0} <music21.chord.Chord F#3>\n",
            "{144.25} <music21.chord.Chord A3>\n",
            "{144.5} <music21.chord.Chord D3>\n",
            "{144.75} <music21.chord.Chord E3>\n",
            "{145.0} <music21.chord.Chord F3>\n",
            "{145.25} <music21.chord.Chord D3>\n",
            "{145.5} <music21.chord.Chord F#3>\n",
            "{145.75} <music21.chord.Chord D3>\n",
            "{146.0} <music21.chord.Chord G3>\n",
            "{146.25} <music21.chord.Chord D3>\n",
            "{146.5} <music21.chord.Chord G#3>\n",
            "{146.75} <music21.chord.Chord D3>\n",
            "{147.0} <music21.chord.Chord A3>\n",
            "{147.25} <music21.chord.Chord D3>\n",
            "{147.5} <music21.chord.Chord B-3>\n",
            "{147.75} <music21.chord.Chord D3>\n",
            "{148.0} <music21.chord.Chord B3>\n",
            "{148.25} <music21.chord.Chord D3>\n",
            "{148.5} <music21.chord.Chord C4>\n",
            "{148.75} <music21.chord.Chord D3>\n",
            "{149.0} <music21.chord.Chord C#4>\n",
            "{149.25} <music21.chord.Chord D3>\n",
            "{149.5} <music21.chord.Chord D4>\n",
            "{149.75} <music21.chord.Chord D3>\n",
            "{150.0} <music21.chord.Chord E-4>\n",
            "{150.25} <music21.chord.Chord D3>\n",
            "{150.5} <music21.chord.Chord E4>\n",
            "{150.75} <music21.chord.Chord D3>\n",
            "{151.0} <music21.chord.Chord F4>\n",
            "{151.25} <music21.chord.Chord D3>\n",
            "{151.5} <music21.chord.Chord F#4>\n",
            "{151.75} <music21.chord.Chord D3>\n",
            "{152.0} <music21.chord.Chord G4>\n",
            "{152.25} <music21.chord.Chord B3>\n",
            "{152.5} <music21.chord.Chord D3>\n",
            "{152.75} <music21.chord.Chord B3>\n",
            "{153.0} <music21.chord.Chord G4>\n",
            "{153.25} <music21.chord.Chord B3>\n",
            "{153.5} <music21.chord.Chord G4>\n",
            "{153.75} <music21.chord.Chord B3>\n",
            "{154.0} <music21.chord.Chord G4>\n",
            "{154.25} <music21.chord.Chord B3>\n",
            "{154.5} <music21.chord.Chord D3>\n",
            "{154.75} <music21.chord.Chord B3>\n",
            "{155.0} <music21.chord.Chord G4>\n",
            "{155.25} <music21.chord.Chord B3>\n",
            "{155.5} <music21.chord.Chord G4>\n",
            "{155.75} <music21.chord.Chord B3>\n",
            "{156.0} <music21.chord.Chord G4>\n",
            "{156.25} <music21.chord.Chord A3>\n",
            "{156.5} <music21.chord.Chord D3>\n",
            "{156.75} <music21.chord.Chord A3>\n",
            "{157.0} <music21.chord.Chord G4>\n",
            "{157.25} <music21.chord.Chord A3>\n",
            "{157.5} <music21.chord.Chord G4>\n",
            "{157.75} <music21.chord.Chord A3>\n",
            "{158.0} <music21.chord.Chord G4>\n",
            "{158.25} <music21.chord.Chord A3>\n",
            "{158.5} <music21.chord.Chord D3>\n",
            "{158.75} <music21.chord.Chord A3>\n",
            "{159.0} <music21.chord.Chord G4>\n",
            "{159.25} <music21.chord.Chord A3>\n",
            "{159.5} <music21.chord.Chord G4>\n",
            "{159.75} <music21.chord.Chord A3>\n",
            "{160.0} <music21.chord.Chord F#4>\n",
            "{160.25} <music21.chord.Chord C4>\n",
            "{160.5} <music21.chord.Chord D3>\n",
            "{160.75} <music21.chord.Chord C4>\n",
            "{161.0} <music21.chord.Chord F#4>\n",
            "{161.25} <music21.chord.Chord C4>\n",
            "{161.5} <music21.chord.Chord F#4>\n",
            "{161.75} <music21.chord.Chord C4>\n",
            "{162.0} <music21.chord.Chord F#4>\n",
            "{162.25} <music21.chord.Chord C4>\n",
            "{162.5} <music21.chord.Chord D3>\n",
            "{162.75} <music21.chord.Chord C4>\n",
            "{163.0} <music21.chord.Chord F#4>\n",
            "{163.25} <music21.chord.Chord C4>\n",
            "{163.5} <music21.chord.Chord F#4>\n",
            "{163.75} <music21.chord.Chord C4>\n",
            "{164.0} <music21.chord.Chord G2 B3 G4>\n"
          ],
          "name": "stdout"
        }
      ]
    },
    {
      "cell_type": "code",
      "metadata": {
        "id": "uzOpqvf9Jj4g"
      },
      "source": [
        "notes = []\n",
        "durations = []\n",
        "\n",
        "for element in orig_score.flat:\n",
        "    \n",
        "    if isinstance(element, chord.Chord):\n",
        "        notes.append('.'.join(n.nameWithOctave for n in element.pitches))\n",
        "        durations.append(element.duration.quarterLength)\n",
        "\n",
        "    elif isinstance(element, note.Note):\n",
        "        if element.isRest:\n",
        "            notes.append(str(element.name))\n",
        "            durations.append(element.duration.quarterLength)\n",
        "        else:\n",
        "            notes.append(str(element.nameWithOctave))\n",
        "            durations.append(element.duration.quarterLength)\n"
      ],
      "execution_count": null,
      "outputs": []
    },
    {
      "cell_type": "code",
      "metadata": {
        "colab": {
          "base_uri": "https://localhost:8080/"
        },
        "id": "YnuZM9yqMOT_",
        "outputId": "f1624785-5216-4c73-9e00-60f18a67b884"
      },
      "source": [
        "N_NOTES = 10 # shows the starting 10 notes\n",
        "\n",
        "# take minimum of these 2 in case we have less notes in the song than N_NOTES\n",
        "n_notes = min(N_NOTES, len(notes))\n",
        "\n",
        "print(\"Showing first {} notes:\".format(n_notes))\n",
        "\n",
        "print('\\nDuration', 'Pitch')\n",
        "for ind, nd in enumerate(zip(notes, durations)):\n",
        "    print(nd[1], '\\t', nd[0])\n",
        "    if (ind > n_notes):\n",
        "      break"
      ],
      "execution_count": null,
      "outputs": [
        {
          "output_type": "stream",
          "text": [
            "Showing first 10 notes:\n",
            "\n",
            "Duration Pitch\n",
            "0.25 \t G2\n",
            "0.25 \t D3\n",
            "0.25 \t B3\n",
            "0.25 \t A3\n",
            "0.25 \t B3\n",
            "0.25 \t D3\n",
            "0.25 \t B3\n",
            "0.25 \t D3\n",
            "0.25 \t G2\n",
            "0.25 \t D3\n",
            "0.25 \t B3\n",
            "0.25 \t A3\n"
          ],
          "name": "stdout"
        }
      ]
    },
    {
      "cell_type": "code",
      "metadata": {
        "id": "mok6YB7KQLFq"
      },
      "source": [
        "DATA_FOLDER = '/content/data'"
      ],
      "execution_count": null,
      "outputs": []
    },
    {
      "cell_type": "code",
      "metadata": {
        "id": "IDD3-g7fj6yo"
      },
      "source": [
        "intervals = range(1)\n",
        "SEQ_LEN = 32"
      ],
      "execution_count": null,
      "outputs": []
    },
    {
      "cell_type": "code",
      "metadata": {
        "colab": {
          "base_uri": "https://localhost:8080/"
        },
        "id": "RHjquUtXM-mt",
        "outputId": "830ea009-af40-4e2d-b060-db30b210cf5b"
      },
      "source": [
        "files = glob.glob(os.path.join(DATA_FOLDER, \"*.mid\"))\n",
        "print(\"Starting parsing of {} files to extract data.\".format(len(files)))\n",
        "\n",
        "notes = []\n",
        "durations = []\n",
        "\n",
        "print(\"Parsing files: \")\n",
        "for idx, file in enumerate(files):\n",
        "  print(\"{0} {1}\".format(idx + 1, file))\n",
        "\n",
        "  score = converter.parse(file).chordify()\n",
        "\n",
        "  for interval in intervals:\n",
        "    sc = score.transpose(interval)\n",
        "\n",
        "    notes.extend(['START'] * SEQ_LEN)\n",
        "    durations.extend([0] * SEQ_LEN)\n",
        "\n",
        "    for element in sc.flat:\n",
        "      if isinstance(element, chord.Chord):\n",
        "        notes.append('.'.join(npitch.nameWithOctave for npitch in element.pitches))\n",
        "        durations.append(element.duration.quarterLength)\n",
        "\n",
        "      elif isinstance(element, note.Note):\n",
        "          if element.isRest:\n",
        "              notes.append(str(element.name))\n",
        "              durations.append(element.duration.quarterLength)\n",
        "          else:\n",
        "              notes.append(str(element.nameWithOctave))\n",
        "              durations.append(element.duration.quarterLength)\n"
      ],
      "execution_count": null,
      "outputs": [
        {
          "output_type": "stream",
          "text": [
            "Starting parsing of 36 files to extract data.\n",
            "Parsing files: \n",
            "1 /content/data/cs1-1pre.mid\n",
            "2 /content/data/cs3-5bou.mid\n",
            "3 /content/data/cs2-6gig.mid\n",
            "4 /content/data/cs2-3cou.mid\n",
            "5 /content/data/cs5-1pre.mid\n",
            "6 /content/data/cs2-1pre.mid\n",
            "7 /content/data/cs1-5men.mid\n",
            "8 /content/data/cs1-4sar.mid\n",
            "9 /content/data/cs3-4sar.mid\n",
            "10 /content/data/cs6-4sar.mid\n",
            "11 /content/data/cs1-3cou.mid\n",
            "12 /content/data/cs3-6gig.mid\n",
            "13 /content/data/cs4-6gig.mid\n",
            "14 /content/data/cs1-6gig.mid\n",
            "15 /content/data/cs5-6gig.mid\n",
            "16 /content/data/cs4-5bou.mid\n",
            "17 /content/data/cs5-5gav.mid\n",
            "18 /content/data/cs6-6gig.mid\n",
            "19 /content/data/cs2-2all.mid\n",
            "20 /content/data/cs4-2all.mid\n",
            "21 /content/data/cs4-1pre.mid\n",
            "22 /content/data/cs3-2all.mid\n",
            "23 /content/data/cs4-4sar.mid\n",
            "24 /content/data/cs3-3cou.mid\n",
            "25 /content/data/cs5-2all.mid\n",
            "26 /content/data/cs5-4sar.mid\n",
            "27 /content/data/cs6-5gav.mid\n",
            "28 /content/data/cs2-4sar.mid\n",
            "29 /content/data/cs4-3cou.mid\n",
            "30 /content/data/cs5-3cou.mid\n",
            "31 /content/data/cs6-2all.mid\n",
            "32 /content/data/cs6-3cou.mid\n",
            "33 /content/data/cs3-1pre.mid\n",
            "34 /content/data/cs2-5men.mid\n",
            "35 /content/data/cs1-2all.mid\n",
            "36 /content/data/cs6-1pre.mid\n"
          ],
          "name": "stdout"
        }
      ]
    },
    {
      "cell_type": "code",
      "metadata": {
        "colab": {
          "base_uri": "https://localhost:8080/"
        },
        "id": "N0wCUXSikyl_",
        "outputId": "0d7e6352-edab-4728-b22f-9d58459ff03b"
      },
      "source": [
        "# let's have a preview\n",
        "# upto first SEQ_LEN entries we have only 'START'\n",
        "print(notes[(SEQ_LEN - 1):(SEQ_LEN + 10)])\n",
        "print(durations[(SEQ_LEN - 1):(SEQ_LEN + 10)])\n",
        "\n",
        "print(len(notes), len(durations))"
      ],
      "execution_count": null,
      "outputs": [
        {
          "output_type": "stream",
          "text": [
            "['START', 'G2', 'D3', 'B3', 'A3', 'B3', 'D3', 'B3', 'D3', 'G2', 'D3']\n",
            "[0, 0.25, 0.25, 0.25, 0.25, 0.25, 0.25, 0.25, 0.25, 0.25, 0.25]\n",
            "28813 28813\n"
          ],
          "name": "stdout"
        }
      ]
    },
    {
      "cell_type": "code",
      "metadata": {
        "id": "sGO7McYemo1M"
      },
      "source": [
        "!mkdir /content/processed"
      ],
      "execution_count": null,
      "outputs": []
    },
    {
      "cell_type": "code",
      "metadata": {
        "id": "8hwLcSxclmDm"
      },
      "source": [
        "PROCESSED_DATA_FOLDER = \"/content/processed\"\n",
        "NOTES_FILEN = \"notes.hmm\"\n",
        "DURATIONS_FILEN = \"durations.hmm\""
      ],
      "execution_count": null,
      "outputs": []
    },
    {
      "cell_type": "code",
      "metadata": {
        "id": "J11Fh4RYnFSX"
      },
      "source": [
        "# Save the extracted notes:\n",
        "with open(os.path.join(PROCESSED_DATA_FOLDER, NOTES_FILEN), 'wb') as file_h:\n",
        "  pickle.dump(notes, file_h)"
      ],
      "execution_count": null,
      "outputs": []
    },
    {
      "cell_type": "code",
      "metadata": {
        "id": "z9BEytJ0nq32"
      },
      "source": [
        "# Save the extracted durations\n",
        "with open(os.path.join(PROCESSED_DATA_FOLDER, DURATIONS_FILEN), 'wb') as file_h:\n",
        "  pickle.dump(durations, file_h)"
      ],
      "execution_count": null,
      "outputs": []
    },
    {
      "cell_type": "code",
      "metadata": {
        "id": "8gBsbnE5qN_4"
      },
      "source": [
        "DISTINCTS_FILEN = \"distinct_notes_durations.hmm\""
      ],
      "execution_count": null,
      "outputs": []
    },
    {
      "cell_type": "code",
      "metadata": {
        "id": "C3QsAIcln2_6"
      },
      "source": [
        "unique_notes = sorted(set(notes))\n",
        "n_u_notes = len(unique_notes)\n",
        "\n",
        "unique_durations = sorted(set(durations))\n",
        "n_u_durations = len(unique_durations)\n",
        "\n",
        "# To make pickling all this together easy:\n",
        "# (Note that while deserializing too, this order should be followed)\n",
        "distincts = [unique_notes, n_u_notes, unique_durations, n_u_durations]\n",
        "\n",
        "with open(os.path.join(PROCESSED_DATA_FOLDER, DISTINCTS_FILEN), 'wb') as file_h:\n",
        "  pickle.dump(distincts, file_h)"
      ],
      "execution_count": null,
      "outputs": []
    },
    {
      "cell_type": "code",
      "metadata": {
        "id": "EYuD0OJJsXFc"
      },
      "source": [
        "LOOKUP_FILEN = \"lookups.hmm\""
      ],
      "execution_count": null,
      "outputs": []
    },
    {
      "cell_type": "code",
      "metadata": {
        "id": "5Yd3WjQQqwEe"
      },
      "source": [
        "note_int = {note: idx for (idx, note) in enumerate(unique_notes)}\n",
        "int_note = {idx: note for (idx, note) in enumerate(unique_notes)}\n",
        "\n",
        "duration_int = {dur: idx for (idx, dur) in enumerate(unique_durations)}\n",
        "int_duration = {idx: dur for (idx, dur) in enumerate(unique_durations)}"
      ],
      "execution_count": null,
      "outputs": []
    },
    {
      "cell_type": "code",
      "metadata": {
        "id": "3TiWOZTKsI_K"
      },
      "source": [
        "# So that we can save them all together:\n",
        "# (Note that this order must be followed during deserialization too.)\n",
        "lookups = [note_int, int_note, duration_int, int_duration]"
      ],
      "execution_count": null,
      "outputs": []
    },
    {
      "cell_type": "code",
      "metadata": {
        "id": "mG6555TqsUzK"
      },
      "source": [
        "with open(os.path.join(PROCESSED_DATA_FOLDER, LOOKUP_FILEN), 'wb') as file_h:\n",
        "  pickle.dump(lookups, file_h)"
      ],
      "execution_count": null,
      "outputs": []
    },
    {
      "cell_type": "code",
      "metadata": {
        "colab": {
          "base_uri": "https://localhost:8080/"
        },
        "id": "QtruLlcdsj1Q",
        "outputId": "19703f41-1973-4c9f-d070-983139930a3f"
      },
      "source": [
        "duration_int"
      ],
      "execution_count": null,
      "outputs": [
        {
          "output_type": "execute_result",
          "data": {
            "text/plain": [
              "{0: 0,\n",
              " Fraction(1, 12): 1,\n",
              " Fraction(1, 6): 2,\n",
              " 0.25: 3,\n",
              " Fraction(1, 3): 4,\n",
              " Fraction(5, 12): 5,\n",
              " 0.5: 6,\n",
              " Fraction(2, 3): 7,\n",
              " 0.75: 8,\n",
              " 1.0: 9,\n",
              " 1.25: 10,\n",
              " Fraction(4, 3): 11,\n",
              " 1.5: 12,\n",
              " 1.75: 13,\n",
              " 2.0: 14,\n",
              " 2.25: 15,\n",
              " 2.5: 16,\n",
              " 3.0: 17,\n",
              " 4.0: 18}"
            ]
          },
          "metadata": {
            "tags": []
          },
          "execution_count": 25
        }
      ]
    },
    {
      "cell_type": "code",
      "metadata": {
        "colab": {
          "base_uri": "https://localhost:8080/"
        },
        "id": "6VmDCiIqtBaS",
        "outputId": "bb700cc5-18aa-4719-d48d-91e1374677b7"
      },
      "source": [
        "int_duration"
      ],
      "execution_count": null,
      "outputs": [
        {
          "output_type": "execute_result",
          "data": {
            "text/plain": [
              "{0: 0,\n",
              " 1: Fraction(1, 12),\n",
              " 2: Fraction(1, 6),\n",
              " 3: 0.25,\n",
              " 4: Fraction(1, 3),\n",
              " 5: Fraction(5, 12),\n",
              " 6: 0.5,\n",
              " 7: Fraction(2, 3),\n",
              " 8: 0.75,\n",
              " 9: 1.0,\n",
              " 10: 1.25,\n",
              " 11: Fraction(4, 3),\n",
              " 12: 1.5,\n",
              " 13: 1.75,\n",
              " 14: 2.0,\n",
              " 15: 2.25,\n",
              " 16: 2.5,\n",
              " 17: 3.0,\n",
              " 18: 4.0}"
            ]
          },
          "metadata": {
            "tags": []
          },
          "execution_count": 26
        }
      ]
    },
    {
      "cell_type": "code",
      "metadata": {
        "id": "reMquN9iwWKe"
      },
      "source": [
        "notes_net_inp = []\n",
        "notes_net_out = []\n",
        "\n",
        "durations_net_inp = []\n",
        "durations_net_out = []"
      ],
      "execution_count": null,
      "outputs": []
    },
    {
      "cell_type": "code",
      "metadata": {
        "id": "uRJemJWzy8Jc"
      },
      "source": [
        "for i in range(len(notes) - SEQ_LEN):\n",
        "  notes_inp_seq = notes[i:(i + SEQ_LEN)]\n",
        "  notes_out_seq = notes[i + SEQ_LEN]\n",
        "\n",
        "  # note_int is the dictionary lookup to get index for a note in our dictionary\n",
        "  notes_net_inp.append([note_int[in_note] for in_note in notes_inp_seq]) # several notes in notes_inp_seq\n",
        "  notes_net_out.append(note_int[notes_out_seq]) # only one note as output\n",
        "\n",
        "  # do the same thing for the durations:\n",
        "\n",
        "  dur_inp_seq = durations[i:(i + SEQ_LEN)]\n",
        "  dur_out_seq = durations[i + SEQ_LEN]\n",
        "\n",
        "  # duration_int is the dictionary lookup to get index for a note in our dictionary\n",
        "  durations_net_inp.append([duration_int[in_dur] for in_dur in dur_inp_seq])\n",
        "  durations_net_out.append(duration_int[dur_out_seq])"
      ],
      "execution_count": null,
      "outputs": []
    },
    {
      "cell_type": "code",
      "metadata": {
        "id": "YhwjVd1f3TH2"
      },
      "source": [
        "n_training_instances = len(notes_net_inp)\n",
        "\n",
        "# reshape the input into a format compatible with LSTM layers\n",
        "notes_net_inp = np.reshape(notes_net_inp, (n_training_instances, SEQ_LEN))\n",
        "durations_net_inp = np.reshape(durations_net_inp, (n_training_instances, SEQ_LEN))\n",
        "net_input = [notes_net_inp, durations_net_inp]\n",
        "\n",
        "notes_net_out = np_utils.to_categorical(notes_net_out, num_classes=n_u_notes)\n",
        "durations_net_out = np_utils.to_categorical(durations_net_out, num_classes=n_u_durations)\n",
        "net_output = [notes_net_out, durations_net_out]"
      ],
      "execution_count": null,
      "outputs": []
    },
    {
      "cell_type": "code",
      "metadata": {
        "colab": {
          "base_uri": "https://localhost:8080/"
        },
        "id": "YBkP-8yQDJ-j",
        "outputId": "e71c2d4d-e0a0-4851-8ab1-ff0aaf1372a8"
      },
      "source": [
        "net_input"
      ],
      "execution_count": null,
      "outputs": [
        {
          "output_type": "execute_result",
          "data": {
            "text/plain": [
              "[array([[460, 460, 460, ..., 460, 460, 460],\n",
              "        [460, 460, 460, ..., 460, 460, 400],\n",
              "        [460, 460, 460, ..., 460, 400, 206],\n",
              "        ...,\n",
              "        [305, 126, 305, ..., 206,   0, 187],\n",
              "        [126, 305, 238, ...,   0, 187,   0],\n",
              "        [305, 238, 305, ..., 187,   0, 317]]), array([[0, 0, 0, ..., 0, 0, 0],\n",
              "        [0, 0, 0, ..., 0, 0, 3],\n",
              "        [0, 0, 0, ..., 0, 3, 3],\n",
              "        ...,\n",
              "        [6, 6, 6, ..., 6, 6, 6],\n",
              "        [6, 6, 6, ..., 6, 6, 6],\n",
              "        [6, 6, 6, ..., 6, 6, 6]])]"
            ]
          },
          "metadata": {
            "tags": []
          },
          "execution_count": 30
        }
      ]
    },
    {
      "cell_type": "code",
      "metadata": {
        "colab": {
          "base_uri": "https://localhost:8080/"
        },
        "id": "21R2N-1bEmDY",
        "outputId": "24fbe513-755e-4c80-c51e-d15bcc560a7c"
      },
      "source": [
        "net_output"
      ],
      "execution_count": null,
      "outputs": [
        {
          "output_type": "execute_result",
          "data": {
            "text/plain": [
              "[array([[0., 0., 0., ..., 0., 0., 0.],\n",
              "        [0., 0., 0., ..., 0., 0., 0.],\n",
              "        [0., 0., 0., ..., 0., 0., 0.],\n",
              "        ...,\n",
              "        [1., 0., 0., ..., 0., 0., 0.],\n",
              "        [0., 0., 0., ..., 0., 0., 0.],\n",
              "        [0., 0., 0., ..., 0., 0., 0.]], dtype=float32),\n",
              " array([[0., 0., 0., ..., 0., 0., 0.],\n",
              "        [0., 0., 0., ..., 0., 0., 0.],\n",
              "        [0., 0., 0., ..., 0., 0., 0.],\n",
              "        ...,\n",
              "        [0., 0., 0., ..., 0., 0., 0.],\n",
              "        [0., 0., 0., ..., 0., 0., 0.],\n",
              "        [0., 0., 0., ..., 0., 0., 0.]], dtype=float32)]"
            ]
          },
          "metadata": {
            "tags": []
          },
          "execution_count": 31
        }
      ]
    },
    {
      "cell_type": "code",
      "metadata": {
        "id": "9mo3lBJmEolg"
      },
      "source": [
        "MODEL_TRAIN_DATA_FILEN = \"training_data.hmm\""
      ],
      "execution_count": null,
      "outputs": []
    },
    {
      "cell_type": "code",
      "metadata": {
        "id": "vVF8YKHKE30N"
      },
      "source": [
        "net_inp_out = [net_input, net_output]\n",
        " \n",
        "with open(os.path.join(PROCESSED_DATA_FOLDER, MODEL_TRAIN_DATA_FILEN), 'wb') as file_h:\n",
        "  pickle.dump(net_inp_out, file_h)"
      ],
      "execution_count": null,
      "outputs": []
    },
    {
      "cell_type": "markdown",
      "metadata": {
        "id": "npOUtv7NFrXG"
      },
      "source": [
        "**End of preprocessing of raw data.**"
      ]
    },
    {
      "cell_type": "markdown",
      "metadata": {
        "id": "8fUDkRUsXLjK"
      },
      "source": [
        "# Making the model\n",
        "\n",
        "Embeded plus LSTM plus Bidirectional"
      ]
    },
    {
      "cell_type": "code",
      "metadata": {
        "id": "q_2cD5Yoxpbh"
      },
      "source": [
        "with open(\"/content/processed/training_data.hmm\", \"rb\") as file_td:\n",
        "  net_input, net_output = pickle.load(file_td)"
      ],
      "execution_count": null,
      "outputs": []
    },
    {
      "cell_type": "code",
      "metadata": {
        "id": "RnEMhO0Cyn3M"
      },
      "source": [
        "with open(\"/content/processed/distinct_notes_durations.hmm\", \"rb\") as file_nd:\n",
        "  unique_notes, n_notes, unique_durations, n_u_durations = pickle.load(file_nd)"
      ],
      "execution_count": null,
      "outputs": []
    },
    {
      "cell_type": "code",
      "metadata": {
        "id": "atRGs-Cg1ExZ"
      },
      "source": [
        "from keras.layers import LSTM, Input, Dropout, Dense, Activation, Embedding, Concatenate, Reshape, Bidirectional\n",
        "from keras.layers import Flatten, RepeatVector, Permute, TimeDistributed\n",
        "from keras.layers import Multiply, Lambda, Softmax\n",
        "import keras.backend as K \n",
        "from keras.models import Model\n",
        "from keras.optimizers import RMSprop\n",
        "from keras.callbacks import ModelCheckpoint, EarlyStopping"
      ],
      "execution_count": null,
      "outputs": []
    },
    {
      "cell_type": "code",
      "metadata": {
        "id": "murVe-EKzWmG"
      },
      "source": [
        "def create_network(n_notes, n_durations, embed_size = 100, rnn_units = 256):\n",
        "    \"\"\" create the structure of the neural network \"\"\"\n",
        "\n",
        "    notes_in = Input(shape = (None,))\n",
        "    durations_in = Input(shape = (None,))\n",
        "\n",
        "    x1 = Embedding(n_notes, embed_size)(notes_in)\n",
        "    x2 = Embedding(n_durations, embed_size)(durations_in) \n",
        "\n",
        "    x = Concatenate()([x1,x2])\n",
        "\n",
        "    x = LSTM(rnn_units, return_sequences=True)(x)\n",
        "    # x = Dropout(0.2)(x)\n",
        "\n",
        "    c = Bidirectional(LSTM(rnn_units))(x)\n",
        "    # c = Dropout(0.2)(c)\n",
        "                                    \n",
        "    notes_out = Dense(n_notes, activation = 'softmax', name = 'pitch')(c)\n",
        "    durations_out = Dense(n_durations, activation = 'softmax', name = 'duration')(c)\n",
        "   \n",
        "    model = Model([notes_in, durations_in], [notes_out, durations_out])\n",
        "\n",
        "    opti = RMSprop(lr = 0.001)\n",
        "    model.compile(loss=['categorical_crossentropy', 'categorical_crossentropy'], optimizer=opti)\n",
        "\n",
        "    return model"
      ],
      "execution_count": null,
      "outputs": []
    },
    {
      "cell_type": "code",
      "metadata": {
        "id": "GPIm17uZ2JkU"
      },
      "source": [
        "# run params\n",
        "section = 'compose'\n",
        "run_id = '0006'\n",
        "music_name = 'cello'\n",
        "\n",
        "run_folder = 'run/{}/'.format(section)\n",
        "run_folder += '_'.join([run_id, music_name])\n",
        "\n",
        "\n",
        "store_folder = os.path.join(run_folder, 'store')\n",
        "data_folder = os.path.join('data', music_name)\n",
        "\n",
        "mode = 'build' # 'load' # \n",
        "\n",
        "# data params\n",
        "intervals = range(1)\n",
        "seq_len = 32\n",
        "\n",
        "# model params\n",
        "embed_size = 100\n",
        "rnn_units = 256\n"
      ],
      "execution_count": null,
      "outputs": []
    },
    {
      "cell_type": "code",
      "metadata": {
        "colab": {
          "base_uri": "https://localhost:8080/"
        },
        "id": "Zr8V5Z_B1Ioc",
        "outputId": "55637bc0-5ba1-4067-9f05-67e01620011c"
      },
      "source": [
        "model = create_network(n_notes, n_u_durations, embed_size, rnn_units)\n",
        "model.summary()"
      ],
      "execution_count": null,
      "outputs": [
        {
          "output_type": "stream",
          "text": [
            "Model: \"model_1\"\n",
            "__________________________________________________________________________________________________\n",
            "Layer (type)                    Output Shape         Param #     Connected to                     \n",
            "==================================================================================================\n",
            "input_3 (InputLayer)            [(None, None)]       0                                            \n",
            "__________________________________________________________________________________________________\n",
            "input_4 (InputLayer)            [(None, None)]       0                                            \n",
            "__________________________________________________________________________________________________\n",
            "embedding_2 (Embedding)         (None, None, 100)    46100       input_3[0][0]                    \n",
            "__________________________________________________________________________________________________\n",
            "embedding_3 (Embedding)         (None, None, 100)    1900        input_4[0][0]                    \n",
            "__________________________________________________________________________________________________\n",
            "concatenate_1 (Concatenate)     (None, None, 200)    0           embedding_2[0][0]                \n",
            "                                                                 embedding_3[0][0]                \n",
            "__________________________________________________________________________________________________\n",
            "lstm_2 (LSTM)                   (None, None, 256)    467968      concatenate_1[0][0]              \n",
            "__________________________________________________________________________________________________\n",
            "bidirectional_1 (Bidirectional) (None, 512)          1050624     lstm_2[0][0]                     \n",
            "__________________________________________________________________________________________________\n",
            "pitch (Dense)                   (None, 461)          236493      bidirectional_1[0][0]            \n",
            "__________________________________________________________________________________________________\n",
            "duration (Dense)                (None, 19)           9747        bidirectional_1[0][0]            \n",
            "==================================================================================================\n",
            "Total params: 1,812,832\n",
            "Trainable params: 1,812,832\n",
            "Non-trainable params: 0\n",
            "__________________________________________________________________________________________________\n"
          ],
          "name": "stdout"
        },
        {
          "output_type": "stream",
          "text": [
            "/usr/local/lib/python3.7/dist-packages/tensorflow/python/keras/optimizer_v2/optimizer_v2.py:375: UserWarning: The `lr` argument is deprecated, use `learning_rate` instead.\n",
            "  \"The `lr` argument is deprecated, use `learning_rate` instead.\")\n"
          ],
          "name": "stderr"
        }
      ]
    },
    {
      "cell_type": "code",
      "metadata": {
        "id": "HSUle2fl2lmo"
      },
      "source": [
        "weights_folder = os.path.join(run_folder, 'weights')\n",
        "# model.load_weights(os.path.join(weights_folder, \"weights.h5\"))"
      ],
      "execution_count": null,
      "outputs": []
    },
    {
      "cell_type": "code",
      "metadata": {
        "colab": {
          "base_uri": "https://localhost:8080/"
        },
        "id": "Jl00xaMG2yZz",
        "outputId": "b3d70391-6867-40ba-d5da-7d01aef31f7d"
      },
      "source": [
        "weights_folder = os.path.join(run_folder, 'weights')\n",
        "\n",
        "checkpoint1 = ModelCheckpoint(\n",
        "    os.path.join(weights_folder, \"weights-improvement-{epoch:02d}-{loss:.4f}-bigger.h5\"),\n",
        "    monitor='loss',\n",
        "    verbose=0,\n",
        "    save_best_only=True,\n",
        "    mode='min'\n",
        ")\n",
        "\n",
        "checkpoint2 = ModelCheckpoint(\n",
        "    os.path.join(weights_folder, \"weights.h5\"),\n",
        "    monitor='loss',\n",
        "    verbose=0,\n",
        "    save_best_only=True,\n",
        "    mode='min'\n",
        ")\n",
        "\n",
        "early_stopping = EarlyStopping(\n",
        "    monitor='loss'\n",
        "    , restore_best_weights=True\n",
        "    , patience = 10\n",
        ")\n",
        "\n",
        "\n",
        "callbacks_list = [\n",
        "    checkpoint1\n",
        "    , checkpoint2\n",
        "    , early_stopping\n",
        " ]\n",
        "\n",
        "model.fit(net_input, net_output\n",
        "          , epochs=2000000, batch_size=32\n",
        "          , validation_split = 0.2\n",
        "          , callbacks=callbacks_list\n",
        "          , shuffle=True\n",
        "         )"
      ],
      "execution_count": null,
      "outputs": [
        {
          "output_type": "stream",
          "text": [
            "Epoch 1/2000000\n",
            "720/720 [==============================] - 11s 15ms/step - loss: 3.3848 - pitch_loss: 2.8782 - duration_loss: 0.5066 - val_loss: 3.5814 - val_pitch_loss: 3.1210 - val_duration_loss: 0.4605\n",
            "Epoch 2/2000000\n",
            "720/720 [==============================] - 10s 14ms/step - loss: 3.0481 - pitch_loss: 2.6098 - duration_loss: 0.4383 - val_loss: 3.5069 - val_pitch_loss: 3.0550 - val_duration_loss: 0.4518\n",
            "Epoch 3/2000000\n",
            "720/720 [==============================] - 11s 15ms/step - loss: 2.6575 - pitch_loss: 2.3011 - duration_loss: 0.3564 - val_loss: 3.5866 - val_pitch_loss: 3.1108 - val_duration_loss: 0.4758\n",
            "Epoch 4/2000000\n",
            "720/720 [==============================] - 11s 15ms/step - loss: 2.2303 - pitch_loss: 1.9579 - duration_loss: 0.2724 - val_loss: 3.6838 - val_pitch_loss: 3.1872 - val_duration_loss: 0.4966\n",
            "Epoch 5/2000000\n",
            "720/720 [==============================] - 10s 15ms/step - loss: 1.7908 - pitch_loss: 1.5966 - duration_loss: 0.1943 - val_loss: 3.8897 - val_pitch_loss: 3.3046 - val_duration_loss: 0.5851\n",
            "Epoch 6/2000000\n",
            "720/720 [==============================] - 10s 14ms/step - loss: 1.3702 - pitch_loss: 1.2366 - duration_loss: 0.1336 - val_loss: 4.1193 - val_pitch_loss: 3.4962 - val_duration_loss: 0.6231\n",
            "Epoch 7/2000000\n",
            "720/720 [==============================] - 10s 14ms/step - loss: 1.0367 - pitch_loss: 0.9424 - duration_loss: 0.0943 - val_loss: 4.3126 - val_pitch_loss: 3.6570 - val_duration_loss: 0.6556\n",
            "Epoch 8/2000000\n",
            "720/720 [==============================] - 10s 14ms/step - loss: 0.7736 - pitch_loss: 0.7055 - duration_loss: 0.0681 - val_loss: 4.6268 - val_pitch_loss: 3.8702 - val_duration_loss: 0.7566\n",
            "Epoch 9/2000000\n",
            "720/720 [==============================] - 11s 15ms/step - loss: 0.5916 - pitch_loss: 0.5376 - duration_loss: 0.0541 - val_loss: 4.8352 - val_pitch_loss: 4.0840 - val_duration_loss: 0.7512\n",
            "Epoch 10/2000000\n",
            "720/720 [==============================] - 11s 15ms/step - loss: 0.4718 - pitch_loss: 0.4292 - duration_loss: 0.0427 - val_loss: 5.0016 - val_pitch_loss: 4.2075 - val_duration_loss: 0.7941\n",
            "Epoch 11/2000000\n",
            "720/720 [==============================] - 10s 14ms/step - loss: 0.4007 - pitch_loss: 0.3643 - duration_loss: 0.0364 - val_loss: 5.2865 - val_pitch_loss: 4.4195 - val_duration_loss: 0.8669\n",
            "Epoch 12/2000000\n",
            "720/720 [==============================] - 10s 14ms/step - loss: 0.3471 - pitch_loss: 0.3113 - duration_loss: 0.0358 - val_loss: 5.3625 - val_pitch_loss: 4.5311 - val_duration_loss: 0.8314\n",
            "Epoch 13/2000000\n",
            "720/720 [==============================] - 11s 15ms/step - loss: 0.3095 - pitch_loss: 0.2810 - duration_loss: 0.0286 - val_loss: 5.4592 - val_pitch_loss: 4.5753 - val_duration_loss: 0.8840\n",
            "Epoch 14/2000000\n",
            "720/720 [==============================] - 11s 15ms/step - loss: 0.2797 - pitch_loss: 0.2521 - duration_loss: 0.0276 - val_loss: 5.6487 - val_pitch_loss: 4.7496 - val_duration_loss: 0.8991\n",
            "Epoch 15/2000000\n",
            "720/720 [==============================] - 11s 15ms/step - loss: 0.2545 - pitch_loss: 0.2317 - duration_loss: 0.0228 - val_loss: 5.8151 - val_pitch_loss: 4.8888 - val_duration_loss: 0.9263\n",
            "Epoch 16/2000000\n",
            "720/720 [==============================] - 11s 15ms/step - loss: 0.2291 - pitch_loss: 0.2050 - duration_loss: 0.0241 - val_loss: 5.9188 - val_pitch_loss: 4.8909 - val_duration_loss: 1.0279\n",
            "Epoch 17/2000000\n",
            "720/720 [==============================] - 11s 15ms/step - loss: 0.2129 - pitch_loss: 0.1914 - duration_loss: 0.0215 - val_loss: 5.9613 - val_pitch_loss: 4.9836 - val_duration_loss: 0.9777\n",
            "Epoch 18/2000000\n",
            "720/720 [==============================] - 11s 15ms/step - loss: 0.1903 - pitch_loss: 0.1689 - duration_loss: 0.0215 - val_loss: 6.0613 - val_pitch_loss: 5.0617 - val_duration_loss: 0.9995\n",
            "Epoch 19/2000000\n",
            "720/720 [==============================] - 11s 15ms/step - loss: 0.1760 - pitch_loss: 0.1552 - duration_loss: 0.0208 - val_loss: 6.1520 - val_pitch_loss: 5.0599 - val_duration_loss: 1.0920\n",
            "Epoch 20/2000000\n",
            "720/720 [==============================] - 11s 15ms/step - loss: 0.1612 - pitch_loss: 0.1419 - duration_loss: 0.0193 - val_loss: 6.0741 - val_pitch_loss: 5.0628 - val_duration_loss: 1.0114\n",
            "Epoch 21/2000000\n",
            "720/720 [==============================] - 11s 15ms/step - loss: 0.1472 - pitch_loss: 0.1282 - duration_loss: 0.0190 - val_loss: 6.2413 - val_pitch_loss: 5.1687 - val_duration_loss: 1.0726\n",
            "Epoch 22/2000000\n",
            "720/720 [==============================] - 11s 15ms/step - loss: 0.1405 - pitch_loss: 0.1194 - duration_loss: 0.0211 - val_loss: 6.3334 - val_pitch_loss: 5.2390 - val_duration_loss: 1.0944\n",
            "Epoch 23/2000000\n",
            "720/720 [==============================] - 11s 15ms/step - loss: 0.1294 - pitch_loss: 0.1095 - duration_loss: 0.0199 - val_loss: 6.4392 - val_pitch_loss: 5.2743 - val_duration_loss: 1.1650\n",
            "Epoch 24/2000000\n",
            "720/720 [==============================] - 11s 15ms/step - loss: 0.1197 - pitch_loss: 0.1019 - duration_loss: 0.0178 - val_loss: 6.4633 - val_pitch_loss: 5.3329 - val_duration_loss: 1.1305\n",
            "Epoch 25/2000000\n",
            "720/720 [==============================] - 11s 15ms/step - loss: 0.1101 - pitch_loss: 0.0928 - duration_loss: 0.0173 - val_loss: 6.4844 - val_pitch_loss: 5.3694 - val_duration_loss: 1.1150\n",
            "Epoch 26/2000000\n",
            "720/720 [==============================] - 11s 15ms/step - loss: 0.1062 - pitch_loss: 0.0881 - duration_loss: 0.0182 - val_loss: 6.6026 - val_pitch_loss: 5.4353 - val_duration_loss: 1.1674\n",
            "Epoch 27/2000000\n",
            "720/720 [==============================] - 11s 15ms/step - loss: 0.0953 - pitch_loss: 0.0787 - duration_loss: 0.0166 - val_loss: 6.6800 - val_pitch_loss: 5.5454 - val_duration_loss: 1.1346\n",
            "Epoch 28/2000000\n",
            "720/720 [==============================] - 11s 15ms/step - loss: 0.0952 - pitch_loss: 0.0777 - duration_loss: 0.0175 - val_loss: 6.6903 - val_pitch_loss: 5.5940 - val_duration_loss: 1.0963\n",
            "Epoch 29/2000000\n",
            "720/720 [==============================] - 11s 15ms/step - loss: 0.0929 - pitch_loss: 0.0746 - duration_loss: 0.0183 - val_loss: 6.6722 - val_pitch_loss: 5.5374 - val_duration_loss: 1.1347\n",
            "Epoch 30/2000000\n",
            "720/720 [==============================] - 11s 15ms/step - loss: 0.0861 - pitch_loss: 0.0680 - duration_loss: 0.0180 - val_loss: 6.7685 - val_pitch_loss: 5.6150 - val_duration_loss: 1.1535\n",
            "Epoch 31/2000000\n",
            "720/720 [==============================] - 11s 16ms/step - loss: 0.0811 - pitch_loss: 0.0642 - duration_loss: 0.0169 - val_loss: 6.8450 - val_pitch_loss: 5.6635 - val_duration_loss: 1.1815\n",
            "Epoch 32/2000000\n",
            "720/720 [==============================] - 11s 15ms/step - loss: 0.0772 - pitch_loss: 0.0597 - duration_loss: 0.0176 - val_loss: 6.9583 - val_pitch_loss: 5.7664 - val_duration_loss: 1.1919\n",
            "Epoch 33/2000000\n",
            "720/720 [==============================] - 11s 16ms/step - loss: 0.0753 - pitch_loss: 0.0584 - duration_loss: 0.0170 - val_loss: 6.9797 - val_pitch_loss: 5.7532 - val_duration_loss: 1.2265\n",
            "Epoch 34/2000000\n",
            "720/720 [==============================] - 11s 15ms/step - loss: 0.0701 - pitch_loss: 0.0543 - duration_loss: 0.0159 - val_loss: 6.9422 - val_pitch_loss: 5.7444 - val_duration_loss: 1.1978\n",
            "Epoch 35/2000000\n",
            "720/720 [==============================] - 11s 15ms/step - loss: 0.0684 - pitch_loss: 0.0523 - duration_loss: 0.0160 - val_loss: 7.0207 - val_pitch_loss: 5.7646 - val_duration_loss: 1.2562\n",
            "Epoch 36/2000000\n",
            "720/720 [==============================] - 11s 15ms/step - loss: 0.0660 - pitch_loss: 0.0500 - duration_loss: 0.0159 - val_loss: 7.0424 - val_pitch_loss: 5.8324 - val_duration_loss: 1.2099\n",
            "Epoch 37/2000000\n",
            "720/720 [==============================] - 11s 15ms/step - loss: 0.0640 - pitch_loss: 0.0492 - duration_loss: 0.0148 - val_loss: 7.0474 - val_pitch_loss: 5.8692 - val_duration_loss: 1.1782\n",
            "Epoch 38/2000000\n",
            "720/720 [==============================] - 11s 15ms/step - loss: 0.0629 - pitch_loss: 0.0471 - duration_loss: 0.0158 - val_loss: 7.1555 - val_pitch_loss: 5.8892 - val_duration_loss: 1.2663\n",
            "Epoch 39/2000000\n",
            "720/720 [==============================] - 11s 15ms/step - loss: 0.0638 - pitch_loss: 0.0467 - duration_loss: 0.0170 - val_loss: 7.2277 - val_pitch_loss: 5.9756 - val_duration_loss: 1.2521\n",
            "Epoch 40/2000000\n",
            "720/720 [==============================] - 11s 15ms/step - loss: 0.0593 - pitch_loss: 0.0431 - duration_loss: 0.0162 - val_loss: 7.3381 - val_pitch_loss: 6.0567 - val_duration_loss: 1.2814\n",
            "Epoch 41/2000000\n",
            "720/720 [==============================] - 11s 15ms/step - loss: 0.0596 - pitch_loss: 0.0436 - duration_loss: 0.0161 - val_loss: 7.2800 - val_pitch_loss: 6.0779 - val_duration_loss: 1.2021\n",
            "Epoch 42/2000000\n",
            "720/720 [==============================] - 11s 15ms/step - loss: 0.0595 - pitch_loss: 0.0436 - duration_loss: 0.0158 - val_loss: 7.4087 - val_pitch_loss: 6.1374 - val_duration_loss: 1.2713\n",
            "Epoch 43/2000000\n",
            "720/720 [==============================] - 11s 15ms/step - loss: 0.0572 - pitch_loss: 0.0412 - duration_loss: 0.0160 - val_loss: 7.3842 - val_pitch_loss: 6.1313 - val_duration_loss: 1.2529\n",
            "Epoch 44/2000000\n",
            "720/720 [==============================] - 11s 15ms/step - loss: 0.0571 - pitch_loss: 0.0409 - duration_loss: 0.0161 - val_loss: 7.5265 - val_pitch_loss: 6.2145 - val_duration_loss: 1.3120\n",
            "Epoch 45/2000000\n",
            "720/720 [==============================] - 11s 15ms/step - loss: 0.0529 - pitch_loss: 0.0383 - duration_loss: 0.0146 - val_loss: 7.4778 - val_pitch_loss: 6.1714 - val_duration_loss: 1.3063\n",
            "Epoch 46/2000000\n",
            "720/720 [==============================] - 11s 15ms/step - loss: 0.0530 - pitch_loss: 0.0367 - duration_loss: 0.0163 - val_loss: 7.5341 - val_pitch_loss: 6.2400 - val_duration_loss: 1.2941\n",
            "Epoch 47/2000000\n",
            "720/720 [==============================] - 11s 15ms/step - loss: 0.0553 - pitch_loss: 0.0389 - duration_loss: 0.0165 - val_loss: 7.6513 - val_pitch_loss: 6.3135 - val_duration_loss: 1.3377\n",
            "Epoch 48/2000000\n",
            "720/720 [==============================] - 11s 15ms/step - loss: 0.0554 - pitch_loss: 0.0414 - duration_loss: 0.0140 - val_loss: 7.6744 - val_pitch_loss: 6.3285 - val_duration_loss: 1.3459\n",
            "Epoch 49/2000000\n",
            "720/720 [==============================] - 11s 15ms/step - loss: 0.0522 - pitch_loss: 0.0364 - duration_loss: 0.0158 - val_loss: 7.7959 - val_pitch_loss: 6.4299 - val_duration_loss: 1.3660\n",
            "Epoch 50/2000000\n",
            "720/720 [==============================] - 11s 15ms/step - loss: 0.0537 - pitch_loss: 0.0399 - duration_loss: 0.0139 - val_loss: 7.8821 - val_pitch_loss: 6.5682 - val_duration_loss: 1.3140\n",
            "Epoch 51/2000000\n",
            "720/720 [==============================] - 11s 15ms/step - loss: 0.0535 - pitch_loss: 0.0391 - duration_loss: 0.0144 - val_loss: 7.8514 - val_pitch_loss: 6.5038 - val_duration_loss: 1.3476\n",
            "Epoch 52/2000000\n",
            "720/720 [==============================] - 11s 15ms/step - loss: 0.0517 - pitch_loss: 0.0355 - duration_loss: 0.0162 - val_loss: 7.8079 - val_pitch_loss: 6.5261 - val_duration_loss: 1.2817\n",
            "Epoch 53/2000000\n",
            "720/720 [==============================] - 11s 15ms/step - loss: 0.0564 - pitch_loss: 0.0400 - duration_loss: 0.0164 - val_loss: 7.8539 - val_pitch_loss: 6.5064 - val_duration_loss: 1.3475\n",
            "Epoch 54/2000000\n",
            "720/720 [==============================] - 11s 15ms/step - loss: 0.0550 - pitch_loss: 0.0389 - duration_loss: 0.0161 - val_loss: 7.9359 - val_pitch_loss: 6.5842 - val_duration_loss: 1.3517\n",
            "Epoch 55/2000000\n",
            "720/720 [==============================] - 11s 15ms/step - loss: 0.0554 - pitch_loss: 0.0408 - duration_loss: 0.0146 - val_loss: 7.9751 - val_pitch_loss: 6.6249 - val_duration_loss: 1.3503\n",
            "Epoch 56/2000000\n",
            "720/720 [==============================] - 11s 15ms/step - loss: 0.0556 - pitch_loss: 0.0397 - duration_loss: 0.0158 - val_loss: 8.0619 - val_pitch_loss: 6.7006 - val_duration_loss: 1.3613\n",
            "Epoch 57/2000000\n",
            "720/720 [==============================] - 11s 15ms/step - loss: 0.0540 - pitch_loss: 0.0389 - duration_loss: 0.0151 - val_loss: 8.0624 - val_pitch_loss: 6.7537 - val_duration_loss: 1.3087\n",
            "Epoch 58/2000000\n",
            "720/720 [==============================] - 11s 15ms/step - loss: 0.0531 - pitch_loss: 0.0388 - duration_loss: 0.0143 - val_loss: 8.0829 - val_pitch_loss: 6.7485 - val_duration_loss: 1.3344\n",
            "Epoch 59/2000000\n",
            "720/720 [==============================] - 11s 16ms/step - loss: 0.0543 - pitch_loss: 0.0371 - duration_loss: 0.0172 - val_loss: 8.1460 - val_pitch_loss: 6.7432 - val_duration_loss: 1.4028\n",
            "Epoch 60/2000000\n",
            "720/720 [==============================] - 11s 16ms/step - loss: 0.0510 - pitch_loss: 0.0357 - duration_loss: 0.0152 - val_loss: 8.1470 - val_pitch_loss: 6.7618 - val_duration_loss: 1.3852\n",
            "Epoch 61/2000000\n",
            "720/720 [==============================] - 11s 16ms/step - loss: 0.0515 - pitch_loss: 0.0369 - duration_loss: 0.0146 - val_loss: 8.1780 - val_pitch_loss: 6.7540 - val_duration_loss: 1.4240\n",
            "Epoch 62/2000000\n",
            "720/720 [==============================] - 11s 15ms/step - loss: 0.0494 - pitch_loss: 0.0347 - duration_loss: 0.0147 - val_loss: 8.2107 - val_pitch_loss: 6.8135 - val_duration_loss: 1.3972\n",
            "Epoch 63/2000000\n",
            "720/720 [==============================] - 11s 15ms/step - loss: 0.0525 - pitch_loss: 0.0369 - duration_loss: 0.0157 - val_loss: 8.3049 - val_pitch_loss: 6.8711 - val_duration_loss: 1.4338\n",
            "Epoch 64/2000000\n",
            "720/720 [==============================] - 11s 15ms/step - loss: 0.0510 - pitch_loss: 0.0361 - duration_loss: 0.0149 - val_loss: 8.4561 - val_pitch_loss: 7.0483 - val_duration_loss: 1.4078\n",
            "Epoch 65/2000000\n",
            "720/720 [==============================] - 11s 15ms/step - loss: 0.0530 - pitch_loss: 0.0379 - duration_loss: 0.0151 - val_loss: 8.3323 - val_pitch_loss: 6.9358 - val_duration_loss: 1.3965\n",
            "Epoch 66/2000000\n",
            "720/720 [==============================] - 11s 15ms/step - loss: 0.0500 - pitch_loss: 0.0362 - duration_loss: 0.0138 - val_loss: 8.4247 - val_pitch_loss: 7.0443 - val_duration_loss: 1.3804\n",
            "Epoch 67/2000000\n",
            "720/720 [==============================] - 11s 15ms/step - loss: 0.0485 - pitch_loss: 0.0342 - duration_loss: 0.0143 - val_loss: 8.4388 - val_pitch_loss: 7.0829 - val_duration_loss: 1.3560\n",
            "Epoch 68/2000000\n",
            "720/720 [==============================] - 11s 15ms/step - loss: 0.0512 - pitch_loss: 0.0362 - duration_loss: 0.0150 - val_loss: 8.4589 - val_pitch_loss: 7.0233 - val_duration_loss: 1.4356\n",
            "Epoch 69/2000000\n",
            "720/720 [==============================] - 11s 15ms/step - loss: 0.0520 - pitch_loss: 0.0365 - duration_loss: 0.0155 - val_loss: 8.4085 - val_pitch_loss: 7.0377 - val_duration_loss: 1.3708\n",
            "Epoch 70/2000000\n",
            "720/720 [==============================] - 11s 15ms/step - loss: 0.0510 - pitch_loss: 0.0373 - duration_loss: 0.0136 - val_loss: 8.4706 - val_pitch_loss: 7.0765 - val_duration_loss: 1.3940\n",
            "Epoch 71/2000000\n",
            "720/720 [==============================] - 11s 15ms/step - loss: 0.0503 - pitch_loss: 0.0368 - duration_loss: 0.0135 - val_loss: 8.4756 - val_pitch_loss: 7.0972 - val_duration_loss: 1.3784\n",
            "Epoch 72/2000000\n",
            "720/720 [==============================] - 11s 15ms/step - loss: 0.0531 - pitch_loss: 0.0385 - duration_loss: 0.0146 - val_loss: 8.4678 - val_pitch_loss: 7.0970 - val_duration_loss: 1.3707\n",
            "Epoch 73/2000000\n",
            "720/720 [==============================] - 11s 15ms/step - loss: 0.0511 - pitch_loss: 0.0362 - duration_loss: 0.0150 - val_loss: 8.5498 - val_pitch_loss: 7.1613 - val_duration_loss: 1.3885\n",
            "Epoch 74/2000000\n",
            "720/720 [==============================] - 11s 15ms/step - loss: 0.0514 - pitch_loss: 0.0373 - duration_loss: 0.0141 - val_loss: 8.5907 - val_pitch_loss: 7.1310 - val_duration_loss: 1.4597\n",
            "Epoch 75/2000000\n",
            "720/720 [==============================] - 11s 16ms/step - loss: 0.0516 - pitch_loss: 0.0372 - duration_loss: 0.0145 - val_loss: 8.5721 - val_pitch_loss: 7.1425 - val_duration_loss: 1.4296\n",
            "Epoch 76/2000000\n",
            "720/720 [==============================] - 11s 15ms/step - loss: 0.0518 - pitch_loss: 0.0386 - duration_loss: 0.0132 - val_loss: 8.6545 - val_pitch_loss: 7.2500 - val_duration_loss: 1.4045\n",
            "Epoch 77/2000000\n",
            "720/720 [==============================] - 11s 15ms/step - loss: 0.0533 - pitch_loss: 0.0391 - duration_loss: 0.0141 - val_loss: 8.7359 - val_pitch_loss: 7.2954 - val_duration_loss: 1.4404\n"
          ],
          "name": "stdout"
        },
        {
          "output_type": "execute_result",
          "data": {
            "text/plain": [
              "<keras.callbacks.History at 0x7fcf5af32610>"
            ]
          },
          "metadata": {
            "tags": []
          },
          "execution_count": 47
        }
      ]
    },
    {
      "cell_type": "code",
      "metadata": {
        "id": "vaedkmR7dYT-"
      },
      "source": [
        "model.save('processed/BiLSTM.h5')"
      ],
      "execution_count": null,
      "outputs": []
    },
    {
      "cell_type": "markdown",
      "metadata": {
        "id": "a5dcsRcgarPY"
      },
      "source": [
        "# Prediction"
      ]
    },
    {
      "cell_type": "code",
      "metadata": {
        "id": "I8H9tnkRK2rT"
      },
      "source": [
        "with open(\"/content/processed/lookups.hmm\", \"rb\") as file_lp:\n",
        "  note_to_int, int_to_note, duration_to_int, int_to_duration = pickle.load(file_lp)\n",
        "\n",
        "with open(\"/content/processed/distinct_notes_durations.hmm\", \"rb\") as file_nd:\n",
        "  note_names, n_notes, duration_names, n_durations = pickle.load(file_nd)"
      ],
      "execution_count": null,
      "outputs": []
    },
    {
      "cell_type": "code",
      "metadata": {
        "colab": {
          "base_uri": "https://localhost:8080/"
        },
        "id": "H6dUt4nPNwuE",
        "outputId": "d3bd4152-e612-4614-bc87-8b9ffca10162"
      },
      "source": [
        "weights_folder = os.path.join(run_folder, 'weights')\n",
        "weights_file = 'weights.h5'\n",
        "\n",
        "model = create_network(n_notes, n_durations, embed_size, rnn_units)\n",
        "\n",
        "# Load the weights to each node\n",
        "weight_source = os.path.join(weights_folder,weights_file)\n",
        "model.load_weights(weight_source)\n",
        "model.summary()"
      ],
      "execution_count": null,
      "outputs": [
        {
          "output_type": "stream",
          "text": [
            "Model: \"model_2\"\n",
            "__________________________________________________________________________________________________\n",
            "Layer (type)                    Output Shape         Param #     Connected to                     \n",
            "==================================================================================================\n",
            "input_5 (InputLayer)            [(None, None)]       0                                            \n",
            "__________________________________________________________________________________________________\n",
            "input_6 (InputLayer)            [(None, None)]       0                                            \n",
            "__________________________________________________________________________________________________\n",
            "embedding_4 (Embedding)         (None, None, 100)    46100       input_5[0][0]                    \n",
            "__________________________________________________________________________________________________\n",
            "embedding_5 (Embedding)         (None, None, 100)    1900        input_6[0][0]                    \n",
            "__________________________________________________________________________________________________\n",
            "concatenate_2 (Concatenate)     (None, None, 200)    0           embedding_4[0][0]                \n",
            "                                                                 embedding_5[0][0]                \n",
            "__________________________________________________________________________________________________\n",
            "lstm_4 (LSTM)                   (None, None, 256)    467968      concatenate_2[0][0]              \n",
            "__________________________________________________________________________________________________\n",
            "bidirectional_2 (Bidirectional) (None, 512)          1050624     lstm_4[0][0]                     \n",
            "__________________________________________________________________________________________________\n",
            "pitch (Dense)                   (None, 461)          236493      bidirectional_2[0][0]            \n",
            "__________________________________________________________________________________________________\n",
            "duration (Dense)                (None, 19)           9747        bidirectional_2[0][0]            \n",
            "==================================================================================================\n",
            "Total params: 1,812,832\n",
            "Trainable params: 1,812,832\n",
            "Non-trainable params: 0\n",
            "__________________________________________________________________________________________________\n"
          ],
          "name": "stdout"
        },
        {
          "output_type": "stream",
          "text": [
            "/usr/local/lib/python3.7/dist-packages/tensorflow/python/keras/optimizer_v2/optimizer_v2.py:375: UserWarning: The `lr` argument is deprecated, use `learning_rate` instead.\n",
            "  \"The `lr` argument is deprecated, use `learning_rate` instead.\")\n"
          ],
          "name": "stderr"
        }
      ]
    },
    {
      "cell_type": "code",
      "metadata": {
        "id": "5WihxnfJOUVJ"
      },
      "source": [
        "# prediction params\n",
        "notes_temp=0.5\n",
        "duration_temp = 0.5\n",
        "max_extra_notes = 50\n",
        "max_seq_len = 32\n",
        "seq_len = 32\n",
        "\n",
        "# notes = ['START', 'D3', 'D3', 'E3', 'D3', 'G3', 'F#3','D3', 'D3', 'E3', 'D3', 'G3', 'F#3','D3', 'D3', 'E3', 'D3', 'G3', 'F#3','D3', 'D3', 'E3', 'D3', 'G3', 'F#3']\n",
        "# durations = [0, 0.75, 0.25, 1, 1, 1, 2, 0.75, 0.25, 1, 1, 1, 2, 0.75, 0.25, 1, 1, 1, 2, 0.75, 0.25, 1, 1, 1, 2]\n",
        "\n",
        "\n",
        "# notes = ['START', 'F#3', 'G#3', 'F#3', 'E3', 'F#3', 'G#3', 'F#3', 'E3', 'F#3', 'G#3', 'F#3', 'E3','F#3', 'G#3', 'F#3', 'E3', 'F#3', 'G#3', 'F#3', 'E3', 'F#3', 'G#3', 'F#3', 'E3']\n",
        "# durations = [0, 0.75, 0.25, 1, 1, 1, 2, 0.75, 0.25, 1, 1, 1, 2, 0.75, 0.25, 1, 1, 1, 2, 0.75, 0.25, 1, 1, 1, 2]\n",
        "\n",
        "\n",
        "notes = ['START']\n",
        "durations = [0]\n",
        "\n",
        "if seq_len is not None:\n",
        "    notes = ['START'] * (seq_len - len(notes)) + notes\n",
        "    durations = [0] * (seq_len - len(durations)) + durations\n",
        "\n",
        "\n",
        "sequence_length = len(notes)"
      ],
      "execution_count": null,
      "outputs": []
    },
    {
      "cell_type": "code",
      "metadata": {
        "id": "21qiZcCKPSQJ"
      },
      "source": [
        "def sample_with_temp(preds, temperature):\n",
        "\n",
        "    if temperature == 0:\n",
        "        return np.argmax(preds)\n",
        "    else:\n",
        "        preds = np.log(preds) / temperature\n",
        "        exp_preds = np.exp(preds)\n",
        "        preds = exp_preds / np.sum(exp_preds)\n",
        "        return np.random.choice(len(preds), p=preds)"
      ],
      "execution_count": null,
      "outputs": []
    },
    {
      "cell_type": "code",
      "metadata": {
        "colab": {
          "base_uri": "https://localhost:8080/"
        },
        "id": "4Uj6H8w5OWVO",
        "outputId": "e6a76ba8-463e-4f92-d218-e41bc2e0dca5"
      },
      "source": [
        "prediction_output = []\n",
        "notes_input_sequence = []\n",
        "durations_input_sequence = []\n",
        "\n",
        "overall_preds = []\n",
        "\n",
        "for n, d in zip(notes,durations):\n",
        "    note_int = note_to_int[n]\n",
        "    duration_int = duration_to_int[d]\n",
        "    \n",
        "    notes_input_sequence.append(note_int)\n",
        "    durations_input_sequence.append(duration_int)\n",
        "    \n",
        "    prediction_output.append([n, d])\n",
        "    \n",
        "    if n != 'START':\n",
        "        midi_note = note.Note(n)\n",
        "\n",
        "        new_note = np.zeros(128)\n",
        "        new_note[midi_note.pitch.midi] = 1\n",
        "        overall_preds.append(new_note)\n",
        "\n",
        "\n",
        "att_matrix = np.zeros(shape = (max_extra_notes+sequence_length, max_extra_notes))\n",
        "\n",
        "for note_index in range(max_extra_notes):\n",
        "\n",
        "    prediction_input = [\n",
        "        np.array([notes_input_sequence])\n",
        "        , np.array([durations_input_sequence])\n",
        "       ]\n",
        "\n",
        "    notes_prediction, durations_prediction = model.predict(prediction_input, verbose=0)\n",
        "    # if use_attention:\n",
        "    #     att_prediction = att_model.predict(prediction_input, verbose=0)[0]\n",
        "    #     att_matrix[(note_index-len(att_prediction)+sequence_length):(note_index+sequence_length), note_index] = att_prediction\n",
        "    \n",
        "    new_note = np.zeros(128)\n",
        "    \n",
        "    for idx, n_i in enumerate(notes_prediction[0]):\n",
        "        try:\n",
        "            note_name = int_to_note[idx]\n",
        "            midi_note = note.Note(note_name)\n",
        "            new_note[midi_note.pitch.midi] = n_i\n",
        "            \n",
        "        except:\n",
        "            pass\n",
        "        \n",
        "    overall_preds.append(new_note)\n",
        "            \n",
        "    \n",
        "    i1 = sample_with_temp(notes_prediction[0], notes_temp)\n",
        "    i2 = sample_with_temp(durations_prediction[0], duration_temp)\n",
        "    \n",
        "\n",
        "    note_result = int_to_note[i1]\n",
        "    duration_result = int_to_duration[i2]\n",
        "    \n",
        "    prediction_output.append([note_result, duration_result])\n",
        "\n",
        "    notes_input_sequence.append(i1)\n",
        "    durations_input_sequence.append(i2)\n",
        "    \n",
        "    if len(notes_input_sequence) > max_seq_len:\n",
        "        notes_input_sequence = notes_input_sequence[1:]\n",
        "        durations_input_sequence = durations_input_sequence[1:]\n",
        "        \n",
        "#     print(note_result)\n",
        "#     print(duration_result)\n",
        "        \n",
        "    if note_result == 'START':\n",
        "        break\n",
        "\n",
        "overall_preds = np.transpose(np.array(overall_preds)) \n",
        "print('Generated sequence of {} notes'.format(len(prediction_output)))"
      ],
      "execution_count": null,
      "outputs": [
        {
          "output_type": "stream",
          "text": [
            "Generated sequence of 33 notes\n"
          ],
          "name": "stdout"
        }
      ]
    }
  ]
}