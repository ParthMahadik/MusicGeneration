{
  "nbformat": 4,
  "nbformat_minor": 0,
  "metadata": {
    "colab": {
      "provenance": [],
      "collapsed_sections": [
        "b_Xx5gskmIpS",
        "Wt9kgQZyq0mq",
        "4sMftRkCrCLs"
      ],
      "include_colab_link": true
    },
    "kernelspec": {
      "name": "python3",
      "display_name": "Python 3"
    },
    "language_info": {
      "name": "python"
    },
    "accelerator": "GPU"
  },
  "cells": [
    {
      "cell_type": "markdown",
      "metadata": {
        "id": "view-in-github",
        "colab_type": "text"
      },
      "source": [
        "<a href=\"https://colab.research.google.com/github/ParthMahadik/MusicGeneration/blob/main/Attention_Layer_Trained.ipynb\" target=\"_parent\"><img src=\"https://colab.research.google.com/assets/colab-badge.svg\" alt=\"Open In Colab\"/></a>"
      ]
    },
    {
      "cell_type": "code",
      "metadata": {
        "id": "tBrehFj58qGF"
      },
      "source": [
        "from music21 import converter, chord, note\n",
        "import glob\n",
        "import os\n",
        "import numpy as np\n",
        "import pickle\n",
        "from keras.utils import np_utils"
      ],
      "execution_count": null,
      "outputs": []
    },
    {
      "cell_type": "markdown",
      "metadata": {
        "id": "6vhNLl4_KxIj"
      },
      "source": [
        "## Data Preprocessing"
      ]
    },
    {
      "cell_type": "code",
      "metadata": {
        "id": "3qLIwDspJbY1",
        "colab": {
          "base_uri": "https://localhost:8080/"
        },
        "outputId": "80743f0b-e5b6-4f35-b331-8430b156e612"
      },
      "source": [
        "!mkdir /content/data"
      ],
      "execution_count": null,
      "outputs": [
        {
          "output_type": "stream",
          "text": [
            "mkdir: cannot create directory ‘/content/data’: File exists\n"
          ],
          "name": "stdout"
        }
      ]
    },
    {
      "cell_type": "code",
      "metadata": {
        "id": "i83A7VS_Ee0M"
      },
      "source": [
        "!rm /content/*.zip"
      ],
      "execution_count": null,
      "outputs": []
    },
    {
      "cell_type": "code",
      "metadata": {
        "id": "4R9vjW9QK3eR",
        "colab": {
          "base_uri": "https://localhost:8080/"
        },
        "outputId": "2600c9dc-5ec0-4a9b-8596-40044f0822f8"
      },
      "source": [
        "!wget -P /content http://www.jsbach.net/midi/bwv1007.zip http://www.jsbach.net/midi/bwv1008.zip http://www.jsbach.net/midi/bwv1009.zip http://www.jsbach.net/midi/bwv1010.zip http://www.jsbach.net/midi/bwv1011.zip http://www.jsbach.net/midi/bwv1012.zip"
      ],
      "execution_count": null,
      "outputs": [
        {
          "output_type": "stream",
          "text": [
            "--2021-06-07 13:41:58--  http://www.jsbach.net/midi/bwv1007.zip\n",
            "Resolving www.jsbach.net (www.jsbach.net)... 98.129.229.34\n",
            "Connecting to www.jsbach.net (www.jsbach.net)|98.129.229.34|:80... connected.\n",
            "HTTP request sent, awaiting response... 200 OK\n",
            "Length: 7206 (7.0K) [application/zip]\n",
            "Saving to: ‘/content/bwv1007.zip’\n",
            "\n",
            "bwv1007.zip         100%[===================>]   7.04K  --.-KB/s    in 0s      \n",
            "\n",
            "2021-06-07 13:41:58 (434 MB/s) - ‘/content/bwv1007.zip’ saved [7206/7206]\n",
            "\n",
            "--2021-06-07 13:41:58--  http://www.jsbach.net/midi/bwv1008.zip\n",
            "Reusing existing connection to www.jsbach.net:80.\n",
            "HTTP request sent, awaiting response... 200 OK\n",
            "Length: 8021 (7.8K) [application/zip]\n",
            "Saving to: ‘/content/bwv1008.zip’\n",
            "\n",
            "bwv1008.zip         100%[===================>]   7.83K  --.-KB/s    in 0s      \n",
            "\n",
            "2021-06-07 13:41:58 (628 MB/s) - ‘/content/bwv1008.zip’ saved [8021/8021]\n",
            "\n",
            "--2021-06-07 13:41:58--  http://www.jsbach.net/midi/bwv1009.zip\n",
            "Reusing existing connection to www.jsbach.net:80.\n",
            "HTTP request sent, awaiting response... 200 OK\n",
            "Length: 8783 (8.6K) [application/zip]\n",
            "Saving to: ‘/content/bwv1009.zip’\n",
            "\n",
            "bwv1009.zip         100%[===================>]   8.58K  --.-KB/s    in 0s      \n",
            "\n",
            "2021-06-07 13:41:59 (175 MB/s) - ‘/content/bwv1009.zip’ saved [8783/8783]\n",
            "\n",
            "--2021-06-07 13:41:59--  http://www.jsbach.net/midi/bwv1010.zip\n",
            "Reusing existing connection to www.jsbach.net:80.\n",
            "HTTP request sent, awaiting response... 200 OK\n",
            "Length: 8622 (8.4K) [application/zip]\n",
            "Saving to: ‘/content/bwv1010.zip’\n",
            "\n",
            "bwv1010.zip         100%[===================>]   8.42K  --.-KB/s    in 0s      \n",
            "\n",
            "2021-06-07 13:41:59 (126 MB/s) - ‘/content/bwv1010.zip’ saved [8622/8622]\n",
            "\n",
            "--2021-06-07 13:41:59--  http://www.jsbach.net/midi/bwv1011.zip\n",
            "Reusing existing connection to www.jsbach.net:80.\n",
            "HTTP request sent, awaiting response... 200 OK\n",
            "Length: 8973 (8.8K) [application/zip]\n",
            "Saving to: ‘/content/bwv1011.zip’\n",
            "\n",
            "bwv1011.zip         100%[===================>]   8.76K  --.-KB/s    in 0s      \n",
            "\n",
            "2021-06-07 13:41:59 (174 MB/s) - ‘/content/bwv1011.zip’ saved [8973/8973]\n",
            "\n",
            "--2021-06-07 13:41:59--  http://www.jsbach.net/midi/bwv1012.zip\n",
            "Reusing existing connection to www.jsbach.net:80.\n",
            "HTTP request sent, awaiting response... 200 OK\n",
            "Length: 10242 (10K) [application/zip]\n",
            "Saving to: ‘/content/bwv1012.zip’\n",
            "\n",
            "bwv1012.zip         100%[===================>]  10.00K  --.-KB/s    in 0s      \n",
            "\n",
            "2021-06-07 13:41:59 (161 MB/s) - ‘/content/bwv1012.zip’ saved [10242/10242]\n",
            "\n",
            "FINISHED --2021-06-07 13:41:59--\n",
            "Total wall clock time: 1.1s\n",
            "Downloaded: 6 files, 51K in 0s (197 MB/s)\n"
          ],
          "name": "stdout"
        }
      ]
    },
    {
      "cell_type": "code",
      "metadata": {
        "id": "JJWVP_S3MEJ1"
      },
      "source": [
        "!rm /content/data/*"
      ],
      "execution_count": null,
      "outputs": []
    },
    {
      "cell_type": "code",
      "metadata": {
        "id": "h9J6rCh6ZDbv"
      },
      "source": [
        "!unzip -q bwv1007.zip -d /content/data\n",
        "!unzip -q bwv1008.zip -d /content/data\n",
        "!unzip -q bwv1009.zip -d /content/data\n",
        "!unzip -q bwv1010.zip -d /content/data\n",
        "!unzip -q bwv1011.zip -d /content/data\n",
        "!unzip -q bwv1012.zip -d /content/data"
      ],
      "execution_count": null,
      "outputs": []
    },
    {
      "cell_type": "code",
      "metadata": {
        "id": "i3HxEQgbJFb7"
      },
      "source": [
        "filename = 'cs1-1pre.mid'\n",
        "file = \"/content/data/{}\".format(filename)\n",
        "\n",
        "orig_score = converter.parse(file).chordify()"
      ],
      "execution_count": null,
      "outputs": []
    },
    {
      "cell_type": "code",
      "metadata": {
        "id": "sjH_xolzJZcI",
        "colab": {
          "base_uri": "https://localhost:8080/"
        },
        "outputId": "5245353d-cf2f-4bde-b921-55129f9a3056"
      },
      "source": [
        "orig_score.show('text')"
      ],
      "execution_count": null,
      "outputs": [
        {
          "output_type": "stream",
          "text": [
            "{0.0} <music21.instrument.Violoncello Violoncello>\n",
            "{0.0} <music21.tempo.MetronomeMark andantino Quarter=80.0>\n",
            "{0.0} <music21.key.Key of G major>\n",
            "{0.0} <music21.meter.TimeSignature 4/4>\n",
            "{0.0} <music21.chord.Chord G2>\n",
            "{0.25} <music21.chord.Chord D3>\n",
            "{0.5} <music21.chord.Chord B3>\n",
            "{0.75} <music21.chord.Chord A3>\n",
            "{1.0} <music21.chord.Chord B3>\n",
            "{1.25} <music21.chord.Chord D3>\n",
            "{1.5} <music21.chord.Chord B3>\n",
            "{1.75} <music21.chord.Chord D3>\n",
            "{2.0} <music21.chord.Chord G2>\n",
            "{2.25} <music21.chord.Chord D3>\n",
            "{2.5} <music21.chord.Chord B3>\n",
            "{2.75} <music21.chord.Chord A3>\n",
            "{3.0} <music21.chord.Chord B3>\n",
            "{3.25} <music21.chord.Chord D3>\n",
            "{3.5} <music21.chord.Chord B3>\n",
            "{3.75} <music21.chord.Chord D3>\n",
            "{4.0} <music21.chord.Chord G2>\n",
            "{4.25} <music21.chord.Chord E3>\n",
            "{4.5} <music21.chord.Chord C4>\n",
            "{4.75} <music21.chord.Chord B3>\n",
            "{5.0} <music21.chord.Chord C4>\n",
            "{5.25} <music21.chord.Chord E3>\n",
            "{5.5} <music21.chord.Chord C4>\n",
            "{5.75} <music21.chord.Chord E3>\n",
            "{6.0} <music21.chord.Chord G2>\n",
            "{6.25} <music21.chord.Chord E3>\n",
            "{6.5} <music21.chord.Chord C4>\n",
            "{6.75} <music21.chord.Chord B3>\n",
            "{7.0} <music21.chord.Chord C4>\n",
            "{7.25} <music21.chord.Chord E3>\n",
            "{7.5} <music21.chord.Chord C4>\n",
            "{7.75} <music21.chord.Chord E3>\n",
            "{8.0} <music21.chord.Chord G2>\n",
            "{8.25} <music21.chord.Chord F#3>\n",
            "{8.5} <music21.chord.Chord C4>\n",
            "{8.75} <music21.chord.Chord B3>\n",
            "{9.0} <music21.chord.Chord C4>\n",
            "{9.25} <music21.chord.Chord F#3>\n",
            "{9.5} <music21.chord.Chord C4>\n",
            "{9.75} <music21.chord.Chord F#3>\n",
            "{10.0} <music21.chord.Chord G2>\n",
            "{10.25} <music21.chord.Chord F#3>\n",
            "{10.5} <music21.chord.Chord C4>\n",
            "{10.75} <music21.chord.Chord B3>\n",
            "{11.0} <music21.chord.Chord C4>\n",
            "{11.25} <music21.chord.Chord F#3>\n",
            "{11.5} <music21.chord.Chord C4>\n",
            "{11.75} <music21.chord.Chord F#3>\n",
            "{12.0} <music21.chord.Chord G2>\n",
            "{12.25} <music21.chord.Chord G3>\n",
            "{12.5} <music21.chord.Chord B3>\n",
            "{12.75} <music21.chord.Chord A3>\n",
            "{13.0} <music21.chord.Chord B3>\n",
            "{13.25} <music21.chord.Chord G3>\n",
            "{13.5} <music21.chord.Chord B3>\n",
            "{13.75} <music21.chord.Chord G3>\n",
            "{14.0} <music21.chord.Chord G2>\n",
            "{14.25} <music21.chord.Chord G3>\n",
            "{14.5} <music21.chord.Chord B3>\n",
            "{14.75} <music21.chord.Chord A3>\n",
            "{15.0} <music21.chord.Chord B3>\n",
            "{15.25} <music21.chord.Chord G3>\n",
            "{15.5} <music21.chord.Chord B3>\n",
            "{15.75} <music21.chord.Chord F#3>\n",
            "{16.0} <music21.chord.Chord G2>\n",
            "{16.25} <music21.chord.Chord E3>\n",
            "{16.5} <music21.chord.Chord B3>\n",
            "{16.75} <music21.chord.Chord A3>\n",
            "{17.0} <music21.chord.Chord B3>\n",
            "{17.25} <music21.chord.Chord G3>\n",
            "{17.5} <music21.chord.Chord F#3>\n",
            "{17.75} <music21.chord.Chord G3>\n",
            "{18.0} <music21.chord.Chord E3>\n",
            "{18.25} <music21.chord.Chord G3>\n",
            "{18.5} <music21.chord.Chord F#3>\n",
            "{18.75} <music21.chord.Chord G3>\n",
            "{19.0} <music21.chord.Chord B2>\n",
            "{19.25} <music21.chord.Chord D3>\n",
            "{19.5} <music21.chord.Chord C#3>\n",
            "{19.75} <music21.chord.Chord B2>\n",
            "{20.0} <music21.chord.Chord C#3>\n",
            "{20.25} <music21.chord.Chord G3>\n",
            "{20.5} <music21.chord.Chord A3>\n",
            "{20.75} <music21.chord.Chord G3>\n",
            "{21.0} <music21.chord.Chord A3>\n",
            "{21.25} <music21.chord.Chord G3>\n",
            "{21.5} <music21.chord.Chord A3>\n",
            "{21.75} <music21.chord.Chord G3>\n",
            "{22.0} <music21.chord.Chord C#3>\n",
            "{22.25} <music21.chord.Chord G3>\n",
            "{22.5} <music21.chord.Chord A3>\n",
            "{22.75} <music21.chord.Chord G3>\n",
            "{23.0} <music21.chord.Chord A3>\n",
            "{23.25} <music21.chord.Chord G3>\n",
            "{23.5} <music21.chord.Chord A3>\n",
            "{23.75} <music21.chord.Chord G3>\n",
            "{24.0} <music21.chord.Chord F#3>\n",
            "{24.25} <music21.chord.Chord A3>\n",
            "{24.5} <music21.chord.Chord D4>\n",
            "{24.75} <music21.chord.Chord C#4>\n",
            "{25.0} <music21.chord.Chord D4>\n",
            "{25.25} <music21.chord.Chord A3>\n",
            "{25.5} <music21.chord.Chord G3>\n",
            "{25.75} <music21.chord.Chord A3>\n",
            "{26.0} <music21.chord.Chord F#3>\n",
            "{26.25} <music21.chord.Chord A3>\n",
            "{26.5} <music21.chord.Chord G3>\n",
            "{26.75} <music21.chord.Chord A3>\n",
            "{27.0} <music21.chord.Chord D3>\n",
            "{27.25} <music21.chord.Chord F#3>\n",
            "{27.5} <music21.chord.Chord E3>\n",
            "{27.75} <music21.chord.Chord D3>\n",
            "{28.0} <music21.chord.Chord E2>\n",
            "{28.25} <music21.chord.Chord B2>\n",
            "{28.5} <music21.chord.Chord G3>\n",
            "{28.75} <music21.chord.Chord F#3>\n",
            "{29.0} <music21.chord.Chord G3>\n",
            "{29.25} <music21.chord.Chord B2>\n",
            "{29.5} <music21.chord.Chord G3>\n",
            "{29.75} <music21.chord.Chord B2>\n",
            "{30.0} <music21.chord.Chord E2>\n",
            "{30.25} <music21.chord.Chord B2>\n",
            "{30.5} <music21.chord.Chord G3>\n",
            "{30.75} <music21.chord.Chord F#3>\n",
            "{31.0} <music21.chord.Chord G3>\n",
            "{31.25} <music21.chord.Chord B2>\n",
            "{31.5} <music21.chord.Chord G3>\n",
            "{31.75} <music21.chord.Chord B2>\n",
            "{32.0} <music21.chord.Chord E2>\n",
            "{32.25} <music21.chord.Chord C#3>\n",
            "{32.5} <music21.chord.Chord D3>\n",
            "{32.75} <music21.chord.Chord E3>\n",
            "{33.0} <music21.chord.Chord D3>\n",
            "{33.25} <music21.chord.Chord C#3>\n",
            "{33.5} <music21.chord.Chord B2>\n",
            "{33.75} <music21.chord.Chord A2>\n",
            "{34.0} <music21.chord.Chord G3>\n",
            "{34.25} <music21.chord.Chord F#3>\n",
            "{34.5} <music21.chord.Chord E3>\n",
            "{34.75} <music21.chord.Chord D4>\n",
            "{35.0} <music21.chord.Chord C#4>\n",
            "{35.25} <music21.chord.Chord B3>\n",
            "{35.5} <music21.chord.Chord A3>\n",
            "{35.75} <music21.chord.Chord G3>\n",
            "{36.0} <music21.chord.Chord F#3>\n",
            "{36.25} <music21.chord.Chord E3>\n",
            "{36.5} <music21.chord.Chord D3>\n",
            "{36.75} <music21.chord.Chord D4>\n",
            "{37.0} <music21.chord.Chord A3>\n",
            "{37.25} <music21.chord.Chord D4>\n",
            "{37.5} <music21.chord.Chord F#3>\n",
            "{37.75} <music21.chord.Chord A3>\n",
            "{38.0} <music21.chord.Chord D3>\n",
            "{38.25} <music21.chord.Chord E3>\n",
            "{38.5} <music21.chord.Chord F#3>\n",
            "{38.75} <music21.chord.Chord A3>\n",
            "{39.0} <music21.chord.Chord G3>\n",
            "{39.25} <music21.chord.Chord F#3>\n",
            "{39.5} <music21.chord.Chord E3>\n",
            "{39.75} <music21.chord.Chord D3>\n",
            "{40.0} <music21.chord.Chord G#3>\n",
            "{40.25} <music21.chord.Chord D3>\n",
            "{40.5} <music21.chord.Chord F3>\n",
            "{40.75} <music21.chord.Chord E3>\n",
            "{41.0} <music21.chord.Chord F3>\n",
            "{41.25} <music21.chord.Chord D3>\n",
            "{41.5} <music21.chord.Chord G#3>\n",
            "{41.75} <music21.chord.Chord D3>\n",
            "{42.0} <music21.chord.Chord B3>\n",
            "{42.25} <music21.chord.Chord D3>\n",
            "{42.5} <music21.chord.Chord F3>\n",
            "{42.75} <music21.chord.Chord E3>\n",
            "{43.0} <music21.chord.Chord F3>\n",
            "{43.25} <music21.chord.Chord D3>\n",
            "{43.5} <music21.chord.Chord G#3>\n",
            "{43.75} <music21.chord.Chord D3>\n",
            "{44.0} <music21.chord.Chord C3>\n",
            "{44.25} <music21.chord.Chord E3>\n",
            "{44.5} <music21.chord.Chord A3>\n",
            "{44.75} <music21.chord.Chord B3>\n",
            "{45.0} <music21.chord.Chord C4>\n",
            "{45.25} <music21.chord.Chord A3>\n",
            "{45.5} <music21.chord.Chord E3>\n",
            "{45.75} <music21.chord.Chord D3>\n",
            "{46.0} <music21.chord.Chord C3>\n",
            "{46.25} <music21.chord.Chord E3>\n",
            "{46.5} <music21.chord.Chord A3>\n",
            "{46.75} <music21.chord.Chord B3>\n",
            "{47.0} <music21.chord.Chord C4>\n",
            "{47.25} <music21.chord.Chord A3>\n",
            "{47.5} <music21.chord.Chord F#3>\n",
            "{47.75} <music21.chord.Chord E3>\n",
            "{48.0} <music21.chord.Chord E-3>\n",
            "{48.25} <music21.chord.Chord F#3>\n",
            "{48.5} <music21.chord.Chord E-3>\n",
            "{48.75} <music21.chord.Chord F#3>\n",
            "{49.0} <music21.chord.Chord A3>\n",
            "{49.25} <music21.chord.Chord F#3>\n",
            "{49.5} <music21.chord.Chord A3>\n",
            "{49.75} <music21.chord.Chord F#3>\n",
            "{50.0} <music21.chord.Chord E-3>\n",
            "{50.25} <music21.chord.Chord F#3>\n",
            "{50.5} <music21.chord.Chord E-3>\n",
            "{50.75} <music21.chord.Chord F#3>\n",
            "{51.0} <music21.chord.Chord A3>\n",
            "{51.25} <music21.chord.Chord F#3>\n",
            "{51.5} <music21.chord.Chord A3>\n",
            "{51.75} <music21.chord.Chord F#3>\n",
            "{52.0} <music21.chord.Chord G3>\n",
            "{52.25} <music21.chord.Chord F#3>\n",
            "{52.5} <music21.chord.Chord E3>\n",
            "{52.75} <music21.chord.Chord G3>\n",
            "{53.0} <music21.chord.Chord F#3>\n",
            "{53.25} <music21.chord.Chord G3>\n",
            "{53.5} <music21.chord.Chord A3>\n",
            "{53.75} <music21.chord.Chord F#3>\n",
            "{54.0} <music21.chord.Chord G3>\n",
            "{54.25} <music21.chord.Chord F#3>\n",
            "{54.5} <music21.chord.Chord E3>\n",
            "{54.75} <music21.chord.Chord D3>\n",
            "{55.0} <music21.chord.Chord C3>\n",
            "{55.25} <music21.chord.Chord B2>\n",
            "{55.5} <music21.chord.Chord A2>\n",
            "{55.75} <music21.chord.Chord G2>\n",
            "{56.0} <music21.chord.Chord F#2>\n",
            "{56.25} <music21.chord.Chord C3>\n",
            "{56.5} <music21.chord.Chord D3>\n",
            "{56.75} <music21.chord.Chord C3>\n",
            "{57.0} <music21.chord.Chord D3>\n",
            "{57.25} <music21.chord.Chord C3>\n",
            "{57.5} <music21.chord.Chord D3>\n",
            "{57.75} <music21.chord.Chord C3>\n",
            "{58.0} <music21.chord.Chord F#2>\n",
            "{58.25} <music21.chord.Chord C3>\n",
            "{58.5} <music21.chord.Chord D3>\n",
            "{58.75} <music21.chord.Chord C3>\n",
            "{59.0} <music21.chord.Chord D3>\n",
            "{59.25} <music21.chord.Chord C3>\n",
            "{59.5} <music21.chord.Chord D3>\n",
            "{59.75} <music21.chord.Chord C3>\n",
            "{60.0} <music21.chord.Chord G2>\n",
            "{60.25} <music21.chord.Chord B2>\n",
            "{60.5} <music21.chord.Chord F3>\n",
            "{60.75} <music21.chord.Chord E3>\n",
            "{61.0} <music21.chord.Chord F3>\n",
            "{61.25} <music21.chord.Chord B2>\n",
            "{61.5} <music21.chord.Chord F3>\n",
            "{61.75} <music21.chord.Chord B2>\n",
            "{62.0} <music21.chord.Chord G2>\n",
            "{62.25} <music21.chord.Chord B2>\n",
            "{62.5} <music21.chord.Chord F3>\n",
            "{62.75} <music21.chord.Chord E3>\n",
            "{63.0} <music21.chord.Chord F3>\n",
            "{63.25} <music21.chord.Chord B2>\n",
            "{63.5} <music21.chord.Chord F3>\n",
            "{63.75} <music21.chord.Chord B2>\n",
            "{64.0} <music21.chord.Chord G2>\n",
            "{64.25} <music21.chord.Chord C3>\n",
            "{64.5} <music21.chord.Chord E3>\n",
            "{64.75} <music21.chord.Chord D3>\n",
            "{65.0} <music21.chord.Chord E3>\n",
            "{65.25} <music21.chord.Chord C3>\n",
            "{65.5} <music21.chord.Chord E3>\n",
            "{65.75} <music21.chord.Chord C3>\n",
            "{66.0} <music21.chord.Chord G2>\n",
            "{66.25} <music21.chord.Chord C3>\n",
            "{66.5} <music21.chord.Chord E3>\n",
            "{66.75} <music21.chord.Chord D3>\n",
            "{67.0} <music21.chord.Chord E3>\n",
            "{67.25} <music21.chord.Chord C3>\n",
            "{67.5} <music21.chord.Chord E3>\n",
            "{67.75} <music21.chord.Chord C3>\n",
            "{68.0} <music21.chord.Chord G2>\n",
            "{68.25} <music21.chord.Chord F#3>\n",
            "{68.5} <music21.chord.Chord C4>\n",
            "{68.75} <music21.chord.Chord B3>\n",
            "{69.0} <music21.chord.Chord C4>\n",
            "{69.25} <music21.chord.Chord F#3>\n",
            "{69.5} <music21.chord.Chord C4>\n",
            "{69.75} <music21.chord.Chord F#3>\n",
            "{70.0} <music21.chord.Chord G2>\n",
            "{70.25} <music21.chord.Chord F#3>\n",
            "{70.5} <music21.chord.Chord C4>\n",
            "{70.75} <music21.chord.Chord B3>\n",
            "{71.0} <music21.chord.Chord C4>\n",
            "{71.25} <music21.chord.Chord F#3>\n",
            "{71.5} <music21.chord.Chord C4>\n",
            "{71.75} <music21.chord.Chord F#3>\n",
            "{72.0} <music21.chord.Chord G2>\n",
            "{72.25} <music21.chord.Chord D3>\n",
            "{72.5} <music21.chord.Chord B3>\n",
            "{72.75} <music21.chord.Chord A3>\n",
            "{73.0} <music21.chord.Chord B3>\n",
            "{73.25} <music21.chord.Chord G3>\n",
            "{73.5} <music21.chord.Chord F#3>\n",
            "{73.75} <music21.chord.Chord E3>\n",
            "{74.0} <music21.chord.Chord D3>\n",
            "{74.25} <music21.chord.Chord C3>\n",
            "{74.5} <music21.chord.Chord B2>\n",
            "{74.75} <music21.chord.Chord A2>\n",
            "{75.0} <music21.chord.Chord G2>\n",
            "{75.25} <music21.chord.Chord F#2>\n",
            "{75.5} <music21.chord.Chord E2>\n",
            "{75.75} <music21.chord.Chord D2>\n",
            "{76.0} <music21.chord.Chord C#2>\n",
            "{76.25} <music21.chord.Chord A2>\n",
            "{76.5} <music21.chord.Chord E3>\n",
            "{76.75} <music21.chord.Chord F#3>\n",
            "{77.0} <music21.chord.Chord G3>\n",
            "{77.25} <music21.chord.Chord E3>\n",
            "{77.5} <music21.chord.Chord F#3>\n",
            "{77.75} <music21.chord.Chord G3>\n",
            "{78.0} <music21.chord.Chord C#2>\n",
            "{78.25} <music21.chord.Chord A2>\n",
            "{78.5} <music21.chord.Chord E3>\n",
            "{78.75} <music21.chord.Chord F#3>\n",
            "{79.0} <music21.chord.Chord G3>\n",
            "{79.25} <music21.chord.Chord E3>\n",
            "{79.5} <music21.chord.Chord F#3>\n",
            "{79.75} <music21.chord.Chord G3>\n",
            "{80.0} <music21.chord.Chord C2>\n",
            "{80.25} <music21.chord.Chord A2>\n",
            "{80.5} <music21.chord.Chord D3>\n",
            "{80.75} <music21.chord.Chord E3>\n",
            "{81.0} <music21.chord.Chord F#3>\n",
            "{81.25} <music21.chord.Chord D3>\n",
            "{81.5} <music21.chord.Chord E3>\n",
            "{81.75} <music21.chord.Chord F#3>\n",
            "{82.0} <music21.chord.Chord C2>\n",
            "{82.25} <music21.chord.Chord A2>\n",
            "{82.5} <music21.chord.Chord D3>\n",
            "{82.75} <music21.chord.Chord E3>\n",
            "{83.0} <music21.chord.Chord F#3>\n",
            "{83.25} <music21.chord.Chord D3>\n",
            "{83.5} <music21.chord.Chord E3>\n",
            "{83.75} <music21.chord.Chord F#3>\n",
            "{84.0} <music21.chord.Chord C2>\n",
            "{84.25} <music21.chord.Chord A2>\n",
            "{84.5} <music21.chord.Chord D3>\n",
            "{84.75} <music21.chord.Chord F#3>\n",
            "{85.0} <music21.chord.Chord A3>\n",
            "{85.25} <music21.chord.Chord C#4>\n",
            "{85.5} <music21.tempo.MetronomeMark Quarter=20.0>\n",
            "{85.5} <music21.chord.Chord D4>\n",
            "{86.0} <music21.tempo.MetronomeMark Quarter=77.0>\n",
            "{86.25} <music21.chord.Chord A2>\n",
            "{86.5} <music21.chord.Chord B2>\n",
            "{86.75} <music21.chord.Chord C3>\n",
            "{87.0} <music21.chord.Chord D3>\n",
            "{87.25} <music21.chord.Chord E3>\n",
            "{87.5} <music21.chord.Chord F#3>\n",
            "{87.75} <music21.chord.Chord G3>\n",
            "{88.0} <music21.chord.Chord A3>\n",
            "{88.25} <music21.chord.Chord F#3>\n",
            "{88.5} <music21.chord.Chord D3>\n",
            "{88.75} <music21.chord.Chord E3>\n",
            "{89.0} <music21.chord.Chord F#3>\n",
            "{89.25} <music21.chord.Chord G3>\n",
            "{89.5} <music21.chord.Chord A3>\n",
            "{89.75} <music21.chord.Chord B3>\n",
            "{90.0} <music21.chord.Chord C4>\n",
            "{90.25} <music21.chord.Chord A3>\n",
            "{90.5} <music21.chord.Chord F#3>\n",
            "{90.75} <music21.chord.Chord G3>\n",
            "{91.0} <music21.chord.Chord A3>\n",
            "{91.25} <music21.chord.Chord B3>\n",
            "{91.5} <music21.chord.Chord C4>\n",
            "{91.75} <music21.chord.Chord D4>\n",
            "{92.0} <music21.chord.Chord E-4>\n",
            "{92.25} <music21.chord.Chord D4>\n",
            "{92.5} <music21.chord.Chord C#4>\n",
            "{92.75} <music21.chord.Chord D4>\n",
            "{93.0} <music21.chord.Chord D4>\n",
            "{93.25} <music21.chord.Chord C4>\n",
            "{93.5} <music21.chord.Chord B3>\n",
            "{93.75} <music21.chord.Chord C4>\n",
            "{94.0} <music21.chord.Chord C4>\n",
            "{94.25} <music21.chord.Chord A3>\n",
            "{94.5} <music21.chord.Chord F#3>\n",
            "{94.75} <music21.chord.Chord E3>\n",
            "{95.0} <music21.chord.Chord D3>\n",
            "{95.25} <music21.chord.Chord A2>\n",
            "{95.5} <music21.chord.Chord B2>\n",
            "{95.75} <music21.chord.Chord C3>\n",
            "{96.0} <music21.chord.Chord D2>\n",
            "{96.25} <music21.chord.Chord A2>\n",
            "{96.5} <music21.chord.Chord D3>\n",
            "{96.75} <music21.chord.Chord F#3>\n",
            "{97.0} <music21.chord.Chord A3>\n",
            "{97.25} <music21.chord.Chord B3>\n",
            "{97.5} <music21.chord.Chord C4>\n",
            "{97.75} <music21.chord.Chord A3>\n",
            "{98.0} <music21.chord.Chord B3>\n",
            "{98.25} <music21.chord.Chord G3>\n",
            "{98.5} <music21.chord.Chord D3>\n",
            "{98.75} <music21.chord.Chord C3>\n",
            "{99.0} <music21.chord.Chord B2>\n",
            "{99.25} <music21.chord.Chord G2>\n",
            "{99.5} <music21.chord.Chord A2>\n",
            "{99.75} <music21.chord.Chord B2>\n",
            "{100.0} <music21.chord.Chord D2>\n",
            "{100.25} <music21.chord.Chord G2>\n",
            "{100.5} <music21.chord.Chord B2>\n",
            "{100.75} <music21.chord.Chord D3>\n",
            "{101.0} <music21.chord.Chord G3>\n",
            "{101.25} <music21.chord.Chord A3>\n",
            "{101.5} <music21.chord.Chord B3>\n",
            "{101.75} <music21.chord.Chord G3>\n",
            "{102.0} <music21.chord.Chord C#4>\n",
            "{102.25} <music21.chord.Chord B3>\n",
            "{102.5} <music21.chord.Chord A3>\n",
            "{102.75} <music21.chord.Chord B-3>\n",
            "{103.0} <music21.chord.Chord B-3>\n",
            "{103.25} <music21.chord.Chord A3>\n",
            "{103.5} <music21.chord.Chord G#3>\n",
            "{103.75} <music21.chord.Chord A3>\n",
            "{104.0} <music21.chord.Chord A3>\n",
            "{104.25} <music21.chord.Chord G3>\n",
            "{104.5} <music21.chord.Chord F#3>\n",
            "{104.75} <music21.chord.Chord G3>\n",
            "{105.0} <music21.chord.Chord G3>\n",
            "{105.25} <music21.chord.Chord E3>\n",
            "{105.5} <music21.chord.Chord C#3>\n",
            "{105.75} <music21.chord.Chord B2>\n",
            "{106.0} <music21.chord.Chord A2>\n",
            "{106.25} <music21.chord.Chord C#3>\n",
            "{106.5} <music21.chord.Chord E3>\n",
            "{106.75} <music21.chord.Chord G3>\n",
            "{107.0} <music21.chord.Chord A3>\n",
            "{107.25} <music21.chord.Chord C#4>\n",
            "{107.5} <music21.chord.Chord D4>\n",
            "{107.75} <music21.chord.Chord C#4>\n",
            "{108.0} <music21.chord.Chord D4>\n",
            "{108.25} <music21.chord.Chord A3>\n",
            "{108.5} <music21.chord.Chord F#3>\n",
            "{108.75} <music21.chord.Chord E3>\n",
            "{109.0} <music21.chord.Chord F#3>\n",
            "{109.25} <music21.chord.Chord A3>\n",
            "{109.5} <music21.chord.Chord D3>\n",
            "{109.75} <music21.chord.Chord F#3>\n",
            "{110.0} <music21.chord.Chord A2>\n",
            "{110.25} <music21.chord.Chord D3>\n",
            "{110.5} <music21.chord.Chord C#3>\n",
            "{110.75} <music21.chord.Chord B2>\n",
            "{111.0} <music21.chord.Chord A2>\n",
            "{111.25} <music21.chord.Chord G2>\n",
            "{111.5} <music21.chord.Chord F#2>\n",
            "{111.75} <music21.chord.Chord E2>\n",
            "{112.0} <music21.chord.Chord D2>\n",
            "{112.5} <music21.chord.Chord C4>\n",
            "{112.75} <music21.chord.Chord B3>\n",
            "{113.0} <music21.chord.Chord A3>\n",
            "{113.25} <music21.chord.Chord G3>\n",
            "{113.5} <music21.chord.Chord F#3>\n",
            "{113.75} <music21.chord.Chord E3>\n",
            "{114.0} <music21.chord.Chord D3>\n",
            "{114.25} <music21.chord.Chord C4>\n",
            "{114.5} <music21.chord.Chord B3>\n",
            "{114.75} <music21.chord.Chord A3>\n",
            "{115.0} <music21.chord.Chord G3>\n",
            "{115.25} <music21.chord.Chord F#3>\n",
            "{115.5} <music21.chord.Chord E3>\n",
            "{115.75} <music21.chord.Chord D3>\n",
            "{116.0} <music21.chord.Chord C3>\n",
            "{116.25} <music21.chord.Chord B3>\n",
            "{116.5} <music21.chord.Chord A3>\n",
            "{116.75} <music21.chord.Chord G3>\n",
            "{117.0} <music21.chord.Chord F#3>\n",
            "{117.25} <music21.chord.Chord E3>\n",
            "{117.5} <music21.chord.Chord D3>\n",
            "{117.75} <music21.chord.Chord C3>\n",
            "{118.0} <music21.chord.Chord B2>\n",
            "{118.25} <music21.chord.Chord A3>\n",
            "{118.5} <music21.chord.Chord G3>\n",
            "{118.75} <music21.chord.Chord F#3>\n",
            "{119.0} <music21.chord.Chord E3>\n",
            "{119.25} <music21.chord.Chord D3>\n",
            "{119.5} <music21.chord.Chord C3>\n",
            "{119.75} <music21.chord.Chord B2>\n",
            "{120.0} <music21.chord.Chord A2>\n",
            "{120.25} <music21.chord.Chord G3>\n",
            "{120.5} <music21.chord.Chord F#3>\n",
            "{120.75} <music21.chord.Chord E3>\n",
            "{121.0} <music21.chord.Chord F#3>\n",
            "{121.25} <music21.chord.Chord A3>\n",
            "{121.5} <music21.chord.Chord D3>\n",
            "{121.75} <music21.chord.Chord A3>\n",
            "{122.0} <music21.chord.Chord E3>\n",
            "{122.25} <music21.chord.Chord A3>\n",
            "{122.5} <music21.chord.Chord F#3>\n",
            "{122.75} <music21.chord.Chord A3>\n",
            "{123.0} <music21.chord.Chord G3>\n",
            "{123.25} <music21.chord.Chord A3>\n",
            "{123.5} <music21.chord.Chord E3>\n",
            "{123.75} <music21.chord.Chord A3>\n",
            "{124.0} <music21.chord.Chord F#3>\n",
            "{124.25} <music21.chord.Chord A3>\n",
            "{124.5} <music21.chord.Chord D3>\n",
            "{124.75} <music21.chord.Chord A3>\n",
            "{125.0} <music21.chord.Chord G3>\n",
            "{125.25} <music21.chord.Chord A3>\n",
            "{125.5} <music21.chord.Chord E3>\n",
            "{125.75} <music21.chord.Chord A3>\n",
            "{126.0} <music21.chord.Chord F#3>\n",
            "{126.25} <music21.chord.Chord A3>\n",
            "{126.5} <music21.chord.Chord D3>\n",
            "{126.75} <music21.chord.Chord A3>\n",
            "{127.0} <music21.chord.Chord G3>\n",
            "{127.25} <music21.chord.Chord A3>\n",
            "{127.5} <music21.chord.Chord E3>\n",
            "{127.75} <music21.chord.Chord A3>\n",
            "{128.0} <music21.chord.Chord F#3>\n",
            "{128.25} <music21.chord.Chord A3>\n",
            "{128.5} <music21.chord.Chord D3>\n",
            "{128.75} <music21.chord.Chord A3>\n",
            "{129.0} <music21.chord.Chord E3>\n",
            "{129.25} <music21.chord.Chord A3>\n",
            "{129.5} <music21.chord.Chord F#3>\n",
            "{129.75} <music21.chord.Chord A3>\n",
            "{130.0} <music21.chord.Chord G3>\n",
            "{130.25} <music21.chord.Chord A3>\n",
            "{130.5} <music21.chord.Chord A3>\n",
            "{130.75} <music21.chord.Chord A3>\n",
            "{131.0} <music21.chord.Chord B3>\n",
            "{131.25} <music21.chord.Chord A3>\n",
            "{131.5} <music21.chord.Chord D3>\n",
            "{131.75} <music21.chord.Chord A3>\n",
            "{132.0} <music21.chord.Chord A3>\n",
            "{132.25} <music21.chord.Chord A3>\n",
            "{132.5} <music21.chord.Chord B3>\n",
            "{132.75} <music21.chord.Chord A3>\n",
            "{133.0} <music21.chord.Chord C4>\n",
            "{133.25} <music21.chord.Chord A3>\n",
            "{133.5} <music21.chord.Chord D3>\n",
            "{133.75} <music21.chord.Chord A3>\n",
            "{134.0} <music21.chord.Chord B3>\n",
            "{134.25} <music21.chord.Chord A3>\n",
            "{134.5} <music21.chord.Chord C4>\n",
            "{134.75} <music21.chord.Chord A3>\n",
            "{135.0} <music21.chord.Chord D4>\n",
            "{135.25} <music21.chord.Chord A3>\n",
            "{135.5} <music21.chord.Chord B3>\n",
            "{135.75} <music21.chord.Chord A3>\n",
            "{136.0} <music21.chord.Chord C4>\n",
            "{136.25} <music21.chord.Chord A3>\n",
            "{136.5} <music21.chord.Chord B3>\n",
            "{136.75} <music21.chord.Chord A3>\n",
            "{137.0} <music21.chord.Chord C4>\n",
            "{137.25} <music21.chord.Chord A3>\n",
            "{137.5} <music21.chord.Chord A3>\n",
            "{137.75} <music21.chord.Chord A3>\n",
            "{138.0} <music21.chord.Chord B3>\n",
            "{138.25} <music21.chord.Chord A3>\n",
            "{138.5} <music21.chord.Chord A3>\n",
            "{138.75} <music21.chord.Chord A3>\n",
            "{139.0} <music21.chord.Chord B3>\n",
            "{139.25} <music21.chord.Chord A3>\n",
            "{139.5} <music21.chord.Chord G3>\n",
            "{139.75} <music21.chord.Chord A3>\n",
            "{140.0} <music21.chord.Chord A3>\n",
            "{140.25} <music21.chord.Chord A3>\n",
            "{140.5} <music21.chord.Chord G3>\n",
            "{140.75} <music21.chord.Chord A3>\n",
            "{141.0} <music21.chord.Chord A3>\n",
            "{141.25} <music21.chord.Chord A3>\n",
            "{141.5} <music21.chord.Chord F#3>\n",
            "{141.75} <music21.chord.Chord A3>\n",
            "{142.0} <music21.chord.Chord G3>\n",
            "{142.25} <music21.chord.Chord A3>\n",
            "{142.5} <music21.chord.Chord F#3>\n",
            "{142.75} <music21.chord.Chord A3>\n",
            "{143.0} <music21.chord.Chord G3>\n",
            "{143.25} <music21.chord.Chord A3>\n",
            "{143.5} <music21.chord.Chord E3>\n",
            "{143.75} <music21.chord.Chord A3>\n",
            "{144.0} <music21.chord.Chord F#3>\n",
            "{144.25} <music21.chord.Chord A3>\n",
            "{144.5} <music21.chord.Chord D3>\n",
            "{144.75} <music21.chord.Chord E3>\n",
            "{145.0} <music21.chord.Chord F3>\n",
            "{145.25} <music21.chord.Chord D3>\n",
            "{145.5} <music21.chord.Chord F#3>\n",
            "{145.75} <music21.chord.Chord D3>\n",
            "{146.0} <music21.chord.Chord G3>\n",
            "{146.25} <music21.chord.Chord D3>\n",
            "{146.5} <music21.chord.Chord G#3>\n",
            "{146.75} <music21.chord.Chord D3>\n",
            "{147.0} <music21.chord.Chord A3>\n",
            "{147.25} <music21.chord.Chord D3>\n",
            "{147.5} <music21.chord.Chord B-3>\n",
            "{147.75} <music21.chord.Chord D3>\n",
            "{148.0} <music21.chord.Chord B3>\n",
            "{148.25} <music21.chord.Chord D3>\n",
            "{148.5} <music21.chord.Chord C4>\n",
            "{148.75} <music21.chord.Chord D3>\n",
            "{149.0} <music21.chord.Chord C#4>\n",
            "{149.25} <music21.chord.Chord D3>\n",
            "{149.5} <music21.chord.Chord D4>\n",
            "{149.75} <music21.chord.Chord D3>\n",
            "{150.0} <music21.chord.Chord E-4>\n",
            "{150.25} <music21.chord.Chord D3>\n",
            "{150.5} <music21.chord.Chord E4>\n",
            "{150.75} <music21.chord.Chord D3>\n",
            "{151.0} <music21.chord.Chord F4>\n",
            "{151.25} <music21.chord.Chord D3>\n",
            "{151.5} <music21.chord.Chord F#4>\n",
            "{151.75} <music21.chord.Chord D3>\n",
            "{152.0} <music21.chord.Chord G4>\n",
            "{152.25} <music21.chord.Chord B3>\n",
            "{152.5} <music21.chord.Chord D3>\n",
            "{152.75} <music21.chord.Chord B3>\n",
            "{153.0} <music21.chord.Chord G4>\n",
            "{153.25} <music21.chord.Chord B3>\n",
            "{153.5} <music21.chord.Chord G4>\n",
            "{153.75} <music21.chord.Chord B3>\n",
            "{154.0} <music21.chord.Chord G4>\n",
            "{154.25} <music21.chord.Chord B3>\n",
            "{154.5} <music21.chord.Chord D3>\n",
            "{154.75} <music21.chord.Chord B3>\n",
            "{155.0} <music21.chord.Chord G4>\n",
            "{155.25} <music21.chord.Chord B3>\n",
            "{155.5} <music21.chord.Chord G4>\n",
            "{155.75} <music21.chord.Chord B3>\n",
            "{156.0} <music21.chord.Chord G4>\n",
            "{156.25} <music21.chord.Chord A3>\n",
            "{156.5} <music21.chord.Chord D3>\n",
            "{156.75} <music21.chord.Chord A3>\n",
            "{157.0} <music21.chord.Chord G4>\n",
            "{157.25} <music21.chord.Chord A3>\n",
            "{157.5} <music21.chord.Chord G4>\n",
            "{157.75} <music21.chord.Chord A3>\n",
            "{158.0} <music21.chord.Chord G4>\n",
            "{158.25} <music21.chord.Chord A3>\n",
            "{158.5} <music21.chord.Chord D3>\n",
            "{158.75} <music21.chord.Chord A3>\n",
            "{159.0} <music21.chord.Chord G4>\n",
            "{159.25} <music21.chord.Chord A3>\n",
            "{159.5} <music21.chord.Chord G4>\n",
            "{159.75} <music21.chord.Chord A3>\n",
            "{160.0} <music21.chord.Chord F#4>\n",
            "{160.25} <music21.chord.Chord C4>\n",
            "{160.5} <music21.chord.Chord D3>\n",
            "{160.75} <music21.chord.Chord C4>\n",
            "{161.0} <music21.chord.Chord F#4>\n",
            "{161.25} <music21.chord.Chord C4>\n",
            "{161.5} <music21.chord.Chord F#4>\n",
            "{161.75} <music21.chord.Chord C4>\n",
            "{162.0} <music21.chord.Chord F#4>\n",
            "{162.25} <music21.chord.Chord C4>\n",
            "{162.5} <music21.chord.Chord D3>\n",
            "{162.75} <music21.chord.Chord C4>\n",
            "{163.0} <music21.chord.Chord F#4>\n",
            "{163.25} <music21.chord.Chord C4>\n",
            "{163.5} <music21.chord.Chord F#4>\n",
            "{163.75} <music21.chord.Chord C4>\n",
            "{164.0} <music21.chord.Chord G2 B3 G4>\n"
          ],
          "name": "stdout"
        }
      ]
    },
    {
      "cell_type": "code",
      "metadata": {
        "id": "uzOpqvf9Jj4g"
      },
      "source": [
        "notes = []\n",
        "durations = []\n",
        "\n",
        "for element in orig_score.flat:\n",
        "    \n",
        "    if isinstance(element, chord.Chord):\n",
        "        notes.append('.'.join(n.nameWithOctave for n in element.pitches))\n",
        "        durations.append(element.duration.quarterLength)\n",
        "\n",
        "    elif isinstance(element, note.Note):\n",
        "        if element.isRest:\n",
        "            notes.append(str(element.name))\n",
        "            durations.append(element.duration.quarterLength)\n",
        "        else:\n",
        "            notes.append(str(element.nameWithOctave))\n",
        "            durations.append(element.duration.quarterLength)\n"
      ],
      "execution_count": null,
      "outputs": []
    },
    {
      "cell_type": "code",
      "metadata": {
        "colab": {
          "base_uri": "https://localhost:8080/"
        },
        "id": "YnuZM9yqMOT_",
        "outputId": "473bcd56-ea1c-42f8-80cf-a5b3967845db"
      },
      "source": [
        "N_NOTES = 10 # shows the starting 10 notes\n",
        "\n",
        "# take minimum of these 2 in case we have less notes in the song than N_NOTES\n",
        "n_notes = min(N_NOTES, len(notes))\n",
        "\n",
        "print(\"Showing first {} notes:\".format(n_notes))\n",
        "\n",
        "print('\\nDuration', 'Pitch')\n",
        "for ind, nd in enumerate(zip(notes, durations)):\n",
        "    print(nd[1], '\\t', nd[0])\n",
        "    if (ind > n_notes):\n",
        "      break"
      ],
      "execution_count": null,
      "outputs": [
        {
          "output_type": "stream",
          "text": [
            "Showing first 10 notes:\n",
            "\n",
            "Duration Pitch\n",
            "0.25 \t G2\n",
            "0.25 \t D3\n",
            "0.25 \t B3\n",
            "0.25 \t A3\n",
            "0.25 \t B3\n",
            "0.25 \t D3\n",
            "0.25 \t B3\n",
            "0.25 \t D3\n",
            "0.25 \t G2\n",
            "0.25 \t D3\n",
            "0.25 \t B3\n",
            "0.25 \t A3\n"
          ],
          "name": "stdout"
        }
      ]
    },
    {
      "cell_type": "code",
      "metadata": {
        "id": "mok6YB7KQLFq"
      },
      "source": [
        "DATA_FOLDER = '/content/data'"
      ],
      "execution_count": null,
      "outputs": []
    },
    {
      "cell_type": "code",
      "metadata": {
        "id": "IDD3-g7fj6yo"
      },
      "source": [
        "intervals = range(1)\n",
        "SEQ_LEN = 32"
      ],
      "execution_count": null,
      "outputs": []
    },
    {
      "cell_type": "code",
      "metadata": {
        "colab": {
          "base_uri": "https://localhost:8080/"
        },
        "id": "RHjquUtXM-mt",
        "outputId": "8c018f04-6620-4f02-9204-47cacb9419b6"
      },
      "source": [
        "files = glob.glob(os.path.join(DATA_FOLDER, \"*.mid\"))\n",
        "print(\"Starting parsing of {} files to extract data.\".format(len(files)))\n",
        "\n",
        "notes = []\n",
        "durations = []\n",
        "\n",
        "print(\"Parsing files: \")\n",
        "for idx, file in enumerate(files):\n",
        "  print(\"{0} {1}\".format(idx + 1, file))\n",
        "\n",
        "  score = converter.parse(file).chordify()\n",
        "\n",
        "  for interval in intervals:\n",
        "    sc = score.transpose(interval)\n",
        "\n",
        "    notes.extend(['START'] * SEQ_LEN)\n",
        "    durations.extend([0] * SEQ_LEN)\n",
        "\n",
        "    for element in sc.flat:\n",
        "      if isinstance(element, chord.Chord):\n",
        "        notes.append('.'.join(npitch.nameWithOctave for npitch in element.pitches))\n",
        "        durations.append(element.duration.quarterLength)\n",
        "\n",
        "      elif isinstance(element, note.Note):\n",
        "          if element.isRest:\n",
        "              notes.append(str(element.name))\n",
        "              durations.append(element.duration.quarterLength)\n",
        "          else:\n",
        "              notes.append(str(element.nameWithOctave))\n",
        "              durations.append(element.duration.quarterLength)\n"
      ],
      "execution_count": null,
      "outputs": [
        {
          "output_type": "stream",
          "text": [
            "Starting parsing of 36 files to extract data.\n",
            "Parsing files: \n",
            "1 /content/data/cs2-5men.mid\n",
            "2 /content/data/cs2-3cou.mid\n",
            "3 /content/data/cs2-4sar.mid\n",
            "4 /content/data/cs5-6gig.mid\n",
            "5 /content/data/cs6-6gig.mid\n",
            "6 /content/data/cs1-1pre.mid\n",
            "7 /content/data/cs3-5bou.mid\n",
            "8 /content/data/cs5-1pre.mid\n",
            "9 /content/data/cs6-3cou.mid\n",
            "10 /content/data/cs1-5men.mid\n",
            "11 /content/data/cs4-4sar.mid\n",
            "12 /content/data/cs1-2all.mid\n",
            "13 /content/data/cs5-3cou.mid\n",
            "14 /content/data/cs4-3cou.mid\n",
            "15 /content/data/cs3-4sar.mid\n",
            "16 /content/data/cs2-6gig.mid\n",
            "17 /content/data/cs3-3cou.mid\n",
            "18 /content/data/cs2-2all.mid\n",
            "19 /content/data/cs3-2all.mid\n",
            "20 /content/data/cs4-5bou.mid\n",
            "21 /content/data/cs1-3cou.mid\n",
            "22 /content/data/cs6-4sar.mid\n",
            "23 /content/data/cs4-6gig.mid\n",
            "24 /content/data/cs3-1pre.mid\n",
            "25 /content/data/cs5-2all.mid\n",
            "26 /content/data/cs1-4sar.mid\n",
            "27 /content/data/cs4-2all.mid\n",
            "28 /content/data/cs6-1pre.mid\n",
            "29 /content/data/cs6-2all.mid\n",
            "30 /content/data/cs1-6gig.mid\n",
            "31 /content/data/cs5-5gav.mid\n",
            "32 /content/data/cs5-4sar.mid\n",
            "33 /content/data/cs2-1pre.mid\n",
            "34 /content/data/cs6-5gav.mid\n",
            "35 /content/data/cs4-1pre.mid\n",
            "36 /content/data/cs3-6gig.mid\n"
          ],
          "name": "stdout"
        }
      ]
    },
    {
      "cell_type": "code",
      "metadata": {
        "colab": {
          "base_uri": "https://localhost:8080/"
        },
        "id": "N0wCUXSikyl_",
        "outputId": "59d0c1cb-9dbd-4475-e793-9d09bd1f1883"
      },
      "source": [
        "# let's have a preview\n",
        "# upto first SEQ_LEN entries we have only 'START'\n",
        "print(notes[(SEQ_LEN - 1):(SEQ_LEN + 10)])\n",
        "print(durations[(SEQ_LEN - 1):(SEQ_LEN + 10)])\n",
        "\n",
        "print(len(notes), len(durations))"
      ],
      "execution_count": null,
      "outputs": [
        {
          "output_type": "stream",
          "text": [
            "['START', 'D3.F3.A3', 'B-3', 'C3.E3.B-3', 'A3', 'B-3', 'G3', 'A3', 'B-2.D3', 'G3', 'F3']\n",
            "[0, 2.0, 1.0, 0.5, 0.5, 0.5, 0.5, 1.0, 1.0, 1.0, 0.5]\n",
            "28813 28813\n"
          ],
          "name": "stdout"
        }
      ]
    },
    {
      "cell_type": "code",
      "metadata": {
        "id": "sGO7McYemo1M"
      },
      "source": [
        "!mkdir /content/processed"
      ],
      "execution_count": null,
      "outputs": []
    },
    {
      "cell_type": "code",
      "metadata": {
        "id": "8hwLcSxclmDm"
      },
      "source": [
        "PROCESSED_DATA_FOLDER = \"/content/processed\"\n",
        "NOTES_FILEN = \"notes.hmm\"\n",
        "DURATIONS_FILEN = \"durations.hmm\""
      ],
      "execution_count": null,
      "outputs": []
    },
    {
      "cell_type": "code",
      "metadata": {
        "id": "J11Fh4RYnFSX"
      },
      "source": [
        "# Save the extracted notes:\n",
        "with open(os.path.join(PROCESSED_DATA_FOLDER, NOTES_FILEN), 'wb') as file_h:\n",
        "  pickle.dump(notes, file_h)"
      ],
      "execution_count": null,
      "outputs": []
    },
    {
      "cell_type": "code",
      "metadata": {
        "id": "z9BEytJ0nq32"
      },
      "source": [
        "# Save the extracted durations\n",
        "with open(os.path.join(PROCESSED_DATA_FOLDER, DURATIONS_FILEN), 'wb') as file_h:\n",
        "  pickle.dump(durations, file_h)"
      ],
      "execution_count": null,
      "outputs": []
    },
    {
      "cell_type": "code",
      "metadata": {
        "id": "8gBsbnE5qN_4"
      },
      "source": [
        "DISTINCTS_FILEN = \"distinct_notes_durations.hmm\""
      ],
      "execution_count": null,
      "outputs": []
    },
    {
      "cell_type": "code",
      "metadata": {
        "id": "C3QsAIcln2_6"
      },
      "source": [
        "unique_notes = sorted(set(notes))\n",
        "n_u_notes = len(unique_notes)\n",
        "\n",
        "unique_durations = sorted(set(durations))\n",
        "n_u_durations = len(unique_durations)\n",
        "\n",
        "# To make pickling all this together easy:\n",
        "# (Note that while deserializing too, this order should be followed)\n",
        "distincts = [unique_notes, n_u_notes, unique_durations, n_u_durations]\n",
        "\n",
        "with open(os.path.join(PROCESSED_DATA_FOLDER, DISTINCTS_FILEN), 'wb') as file_h:\n",
        "  pickle.dump(distincts, file_h)"
      ],
      "execution_count": null,
      "outputs": []
    },
    {
      "cell_type": "code",
      "metadata": {
        "id": "EYuD0OJJsXFc"
      },
      "source": [
        "LOOKUP_FILEN = \"lookups.hmm\""
      ],
      "execution_count": null,
      "outputs": []
    },
    {
      "cell_type": "code",
      "metadata": {
        "id": "5Yd3WjQQqwEe"
      },
      "source": [
        "note_int = {note: idx for (idx, note) in enumerate(unique_notes)}\n",
        "int_note = {idx: note for (idx, note) in enumerate(unique_notes)}\n",
        "\n",
        "duration_int = {dur: idx for (idx, dur) in enumerate(unique_durations)}\n",
        "int_duration = {idx: dur for (idx, dur) in enumerate(unique_durations)}"
      ],
      "execution_count": null,
      "outputs": []
    },
    {
      "cell_type": "code",
      "metadata": {
        "id": "3TiWOZTKsI_K"
      },
      "source": [
        "# So that we can save them all together:\n",
        "# (Note that this order must be followed during deserialization too.)\n",
        "lookups = [note_int, int_note, duration_int, int_duration]"
      ],
      "execution_count": null,
      "outputs": []
    },
    {
      "cell_type": "code",
      "metadata": {
        "id": "mG6555TqsUzK"
      },
      "source": [
        "with open(os.path.join(PROCESSED_DATA_FOLDER, LOOKUP_FILEN), 'wb') as file_h:\n",
        "  pickle.dump(lookups, file_h)"
      ],
      "execution_count": null,
      "outputs": []
    },
    {
      "cell_type": "code",
      "metadata": {
        "colab": {
          "base_uri": "https://localhost:8080/"
        },
        "id": "QtruLlcdsj1Q",
        "outputId": "b7b2f963-c38d-4d86-d854-ec5b55eb39ce"
      },
      "source": [
        "duration_int"
      ],
      "execution_count": null,
      "outputs": [
        {
          "output_type": "execute_result",
          "data": {
            "text/plain": [
              "{0: 0,\n",
              " Fraction(1, 12): 1,\n",
              " Fraction(1, 6): 2,\n",
              " 0.25: 3,\n",
              " Fraction(1, 3): 4,\n",
              " Fraction(5, 12): 5,\n",
              " 0.5: 6,\n",
              " Fraction(2, 3): 7,\n",
              " 0.75: 8,\n",
              " 1.0: 9,\n",
              " 1.25: 10,\n",
              " Fraction(4, 3): 11,\n",
              " 1.5: 12,\n",
              " 1.75: 13,\n",
              " 2.0: 14,\n",
              " 2.25: 15,\n",
              " 2.5: 16,\n",
              " 3.0: 17,\n",
              " 4.0: 18}"
            ]
          },
          "metadata": {
            "tags": []
          },
          "execution_count": 31
        }
      ]
    },
    {
      "cell_type": "code",
      "metadata": {
        "colab": {
          "base_uri": "https://localhost:8080/"
        },
        "id": "6VmDCiIqtBaS",
        "outputId": "84b1dc18-aba7-4bcc-ce0f-ab2d0a26a44a"
      },
      "source": [
        "int_duration"
      ],
      "execution_count": null,
      "outputs": [
        {
          "output_type": "execute_result",
          "data": {
            "text/plain": [
              "{0: 0,\n",
              " 1: Fraction(1, 12),\n",
              " 2: Fraction(1, 6),\n",
              " 3: 0.25,\n",
              " 4: Fraction(1, 3),\n",
              " 5: Fraction(5, 12),\n",
              " 6: 0.5,\n",
              " 7: Fraction(2, 3),\n",
              " 8: 0.75,\n",
              " 9: 1.0,\n",
              " 10: 1.25,\n",
              " 11: Fraction(4, 3),\n",
              " 12: 1.5,\n",
              " 13: 1.75,\n",
              " 14: 2.0,\n",
              " 15: 2.25,\n",
              " 16: 2.5,\n",
              " 17: 3.0,\n",
              " 18: 4.0}"
            ]
          },
          "metadata": {
            "tags": []
          },
          "execution_count": 32
        }
      ]
    },
    {
      "cell_type": "code",
      "metadata": {
        "id": "reMquN9iwWKe"
      },
      "source": [
        "notes_net_inp = []\n",
        "notes_net_out = []\n",
        "\n",
        "durations_net_inp = []\n",
        "durations_net_out = []"
      ],
      "execution_count": null,
      "outputs": []
    },
    {
      "cell_type": "code",
      "metadata": {
        "id": "uRJemJWzy8Jc"
      },
      "source": [
        "for i in range(len(notes) - SEQ_LEN):\n",
        "  notes_inp_seq = notes[i:(i + SEQ_LEN)]\n",
        "  notes_out_seq = notes[i + SEQ_LEN]\n",
        "\n",
        "  # note_int is the dictionary lookup to get index for a note in our dictionary\n",
        "  notes_net_inp.append([note_int[in_note] for in_note in notes_inp_seq]) # several notes in notes_inp_seq\n",
        "  notes_net_out.append(note_int[notes_out_seq]) # only one note as output\n",
        "\n",
        "  # do the same thing for the durations:\n",
        "\n",
        "  dur_inp_seq = durations[i:(i + SEQ_LEN)]\n",
        "  dur_out_seq = durations[i + SEQ_LEN]\n",
        "\n",
        "  # duration_int is the dictionary lookup to get index for a note in our dictionary\n",
        "  durations_net_inp.append([duration_int[in_dur] for in_dur in dur_inp_seq])\n",
        "  durations_net_out.append(duration_int[dur_out_seq])"
      ],
      "execution_count": null,
      "outputs": []
    },
    {
      "cell_type": "code",
      "metadata": {
        "id": "YhwjVd1f3TH2"
      },
      "source": [
        "n_training_instances = len(notes_net_inp)\n",
        "\n",
        "# reshape the input into a format compatible with LSTM layers\n",
        "notes_net_inp = np.reshape(notes_net_inp, (n_training_instances, SEQ_LEN))\n",
        "durations_net_inp = np.reshape(durations_net_inp, (n_training_instances, SEQ_LEN))\n",
        "net_input = [notes_net_inp, durations_net_inp]\n",
        "\n",
        "notes_net_out = np_utils.to_categorical(notes_net_out, num_classes=n_u_notes)\n",
        "durations_net_out = np_utils.to_categorical(durations_net_out, num_classes=n_u_durations)\n",
        "net_output = [notes_net_out, durations_net_out]"
      ],
      "execution_count": null,
      "outputs": []
    },
    {
      "cell_type": "code",
      "metadata": {
        "colab": {
          "base_uri": "https://localhost:8080/"
        },
        "id": "YBkP-8yQDJ-j",
        "outputId": "c8ed5f3f-2fac-4bee-df05-7256b62e3dab"
      },
      "source": [
        "net_input"
      ],
      "execution_count": null,
      "outputs": [
        {
          "output_type": "execute_result",
          "data": {
            "text/plain": [
              "[array([[460, 460, 460, ..., 460, 460, 460],\n",
              "        [460, 460, 460, ..., 460, 460, 231],\n",
              "        [460, 460, 460, ..., 460, 231,  72],\n",
              "        ...,\n",
              "        [284, 444,  29, ..., 187,  78, 161],\n",
              "        [444,  29, 206, ...,  78, 161, 284],\n",
              "        [ 29, 206, 355, ..., 161, 284, 444]]),\n",
              " array([[ 0,  0,  0, ...,  0,  0,  0],\n",
              "        [ 0,  0,  0, ...,  0,  0, 14],\n",
              "        [ 0,  0,  0, ...,  0, 14,  9],\n",
              "        ...,\n",
              "        [ 3,  6,  6, ...,  3,  3,  6],\n",
              "        [ 6,  6,  3, ...,  3,  6,  6],\n",
              "        [ 6,  3,  3, ...,  6,  6,  6]])]"
            ]
          },
          "metadata": {
            "tags": []
          },
          "execution_count": 36
        }
      ]
    },
    {
      "cell_type": "code",
      "metadata": {
        "colab": {
          "base_uri": "https://localhost:8080/"
        },
        "id": "21R2N-1bEmDY",
        "outputId": "114b840e-26be-4ff6-83ad-f13ea73a7f72"
      },
      "source": [
        "net_output"
      ],
      "execution_count": null,
      "outputs": [
        {
          "output_type": "execute_result",
          "data": {
            "text/plain": [
              "[array([[0., 0., 0., ..., 0., 0., 0.],\n",
              "        [0., 0., 0., ..., 0., 0., 0.],\n",
              "        [0., 0., 0., ..., 0., 0., 0.],\n",
              "        ...,\n",
              "        [0., 0., 0., ..., 0., 0., 0.],\n",
              "        [0., 0., 0., ..., 0., 0., 0.],\n",
              "        [0., 0., 0., ..., 0., 0., 0.]], dtype=float32),\n",
              " array([[0., 0., 0., ..., 0., 0., 0.],\n",
              "        [0., 0., 0., ..., 0., 0., 0.],\n",
              "        [0., 0., 0., ..., 0., 0., 0.],\n",
              "        ...,\n",
              "        [0., 0., 0., ..., 0., 0., 0.],\n",
              "        [0., 0., 0., ..., 0., 0., 0.],\n",
              "        [0., 0., 0., ..., 0., 0., 0.]], dtype=float32)]"
            ]
          },
          "metadata": {
            "tags": []
          },
          "execution_count": 37
        }
      ]
    },
    {
      "cell_type": "code",
      "metadata": {
        "id": "9mo3lBJmEolg"
      },
      "source": [
        "MODEL_TRAIN_DATA_FILEN = \"training_data.hmm\""
      ],
      "execution_count": null,
      "outputs": []
    },
    {
      "cell_type": "code",
      "metadata": {
        "id": "vVF8YKHKE30N"
      },
      "source": [
        "net_inp_out = [net_input, net_output]\n",
        " \n",
        "with open(os.path.join(PROCESSED_DATA_FOLDER, MODEL_TRAIN_DATA_FILEN), 'wb') as file_h:\n",
        "  pickle.dump(net_inp_out, file_h)"
      ],
      "execution_count": null,
      "outputs": []
    },
    {
      "cell_type": "markdown",
      "metadata": {
        "id": "npOUtv7NFrXG"
      },
      "source": [
        "**End of preprocessing of raw data.**"
      ]
    },
    {
      "cell_type": "markdown",
      "metadata": {
        "id": "8fUDkRUsXLjK"
      },
      "source": [
        "# Making the model\n",
        "\n",
        "Embeded plus LSTM plus Bidirectional"
      ]
    },
    {
      "cell_type": "code",
      "metadata": {
        "id": "q_2cD5Yoxpbh"
      },
      "source": [
        "with open(\"/content/processed/training_data.hmm\", \"rb\") as file_td:\n",
        "  net_input, net_output = pickle.load(file_td)"
      ],
      "execution_count": null,
      "outputs": []
    },
    {
      "cell_type": "code",
      "metadata": {
        "id": "RnEMhO0Cyn3M"
      },
      "source": [
        "with open(\"/content/processed/distinct_notes_durations.hmm\", \"rb\") as file_nd:\n",
        "  unique_notes, n_notes, unique_durations, n_u_durations = pickle.load(file_nd)"
      ],
      "execution_count": null,
      "outputs": []
    },
    {
      "cell_type": "code",
      "metadata": {
        "id": "atRGs-Cg1ExZ"
      },
      "source": [
        "from keras.layers import LSTM, Input, Dropout, Dense, Activation, Embedding, Concatenate, Reshape, Bidirectional\n",
        "from keras.layers import Flatten, RepeatVector, Permute, TimeDistributed\n",
        "from keras.layers import Multiply, Lambda, Softmax\n",
        "import keras.backend as K \n",
        "from keras.models import Model\n",
        "from keras.optimizers import RMSprop\n",
        "from keras.callbacks import ModelCheckpoint, EarlyStopping"
      ],
      "execution_count": null,
      "outputs": []
    },
    {
      "cell_type": "code",
      "metadata": {
        "id": "murVe-EKzWmG"
      },
      "source": [
        "def create_network(n_notes, n_durations, embed_size = 100, rnn_units = 256, use_attention = False):\n",
        "    \"\"\" create the structure of the neural network \"\"\"\n",
        "\n",
        "    notes_in = Input(shape = (None,))\n",
        "    durations_in = Input(shape = (None,))\n",
        "\n",
        "    x1 = Embedding(n_notes, embed_size)(notes_in)\n",
        "    x2 = Embedding(n_durations, embed_size)(durations_in) \n",
        "\n",
        "    x = Concatenate()([x1,x2])\n",
        "\n",
        "    x = LSTM(rnn_units, return_sequences=True)(x)\n",
        "    # x = Dropout(0.2)(x)\n",
        "\n",
        "    if use_attention:\n",
        "\n",
        "        x = LSTM(rnn_units, return_sequences=True)(x)\n",
        "        # x = Dropout(0.2)(x)\n",
        "\n",
        "        e = Dense(1, activation='tanh')(x)\n",
        "        e = Reshape([-1])(e)\n",
        "        alpha = Activation('softmax')(e)\n",
        "\n",
        "        alpha_repeated = Permute([2, 1])(RepeatVector(rnn_units)(alpha))\n",
        "\n",
        "        c = Multiply()([x, alpha_repeated])\n",
        "        c = Lambda(lambda xin: K.sum(xin, axis=1), output_shape=(rnn_units,))(c)\n",
        "    \n",
        "    else:\n",
        "        c = LSTM(rnn_units)(x)\n",
        "        # c = Dropout(0.2)(c)\n",
        "                                    \n",
        "    notes_out = Dense(n_notes, activation = 'softmax', name = 'pitch')(c)\n",
        "    durations_out = Dense(n_durations, activation = 'softmax', name = 'duration')(c)\n",
        "   \n",
        "    model = Model([notes_in, durations_in], [notes_out, durations_out])\n",
        "    \n",
        "\n",
        "    if use_attention:\n",
        "        att_model = Model([notes_in, durations_in], alpha)\n",
        "    else:\n",
        "        att_model = None\n",
        "\n",
        "\n",
        "    opti = RMSprop(lr = 0.001)\n",
        "    model.compile(loss=['categorical_crossentropy', 'categorical_crossentropy'], optimizer=opti)\n",
        "\n",
        "    return model, att_model"
      ],
      "execution_count": null,
      "outputs": []
    },
    {
      "cell_type": "code",
      "metadata": {
        "id": "GPIm17uZ2JkU"
      },
      "source": [
        "# run params\n",
        "section = 'compose'\n",
        "run_id = '0006'\n",
        "music_name = 'cello'\n",
        "\n",
        "run_folder = 'run/{}/'.format(section)\n",
        "run_folder += '_'.join([run_id, music_name])\n",
        "\n",
        "\n",
        "store_folder = os.path.join(run_folder, 'store')\n",
        "data_folder = os.path.join('data', music_name)\n",
        "\n",
        "mode = 'build' # 'load' # \n",
        "\n",
        "# data params\n",
        "intervals = range(1)\n",
        "seq_len = 32\n",
        "\n",
        "# model params\n",
        "embed_size = 100\n",
        "rnn_units = 256\n",
        "use_attention = True"
      ],
      "execution_count": null,
      "outputs": []
    },
    {
      "cell_type": "code",
      "metadata": {
        "colab": {
          "base_uri": "https://localhost:8080/"
        },
        "id": "Zr8V5Z_B1Ioc",
        "outputId": "9da43f35-feb0-4ccd-b6ee-e046c1b5aea4"
      },
      "source": [
        "model, att_model = create_network(n_notes, n_u_durations, embed_size, rnn_units, use_attention)\n",
        "model.summary()"
      ],
      "execution_count": null,
      "outputs": [
        {
          "output_type": "stream",
          "text": [
            "Model: \"model\"\n",
            "__________________________________________________________________________________________________\n",
            "Layer (type)                    Output Shape         Param #     Connected to                     \n",
            "==================================================================================================\n",
            "input_1 (InputLayer)            [(None, None)]       0                                            \n",
            "__________________________________________________________________________________________________\n",
            "input_2 (InputLayer)            [(None, None)]       0                                            \n",
            "__________________________________________________________________________________________________\n",
            "embedding (Embedding)           (None, None, 100)    46100       input_1[0][0]                    \n",
            "__________________________________________________________________________________________________\n",
            "embedding_1 (Embedding)         (None, None, 100)    1900        input_2[0][0]                    \n",
            "__________________________________________________________________________________________________\n",
            "concatenate (Concatenate)       (None, None, 200)    0           embedding[0][0]                  \n",
            "                                                                 embedding_1[0][0]                \n",
            "__________________________________________________________________________________________________\n",
            "lstm (LSTM)                     (None, None, 256)    467968      concatenate[0][0]                \n",
            "__________________________________________________________________________________________________\n",
            "lstm_1 (LSTM)                   (None, None, 256)    525312      lstm[0][0]                       \n",
            "__________________________________________________________________________________________________\n",
            "dense (Dense)                   (None, None, 1)      257         lstm_1[0][0]                     \n",
            "__________________________________________________________________________________________________\n",
            "reshape (Reshape)               (None, None)         0           dense[0][0]                      \n",
            "__________________________________________________________________________________________________\n",
            "activation (Activation)         (None, None)         0           reshape[0][0]                    \n",
            "__________________________________________________________________________________________________\n",
            "repeat_vector (RepeatVector)    (None, 256, None)    0           activation[0][0]                 \n",
            "__________________________________________________________________________________________________\n",
            "permute (Permute)               (None, None, 256)    0           repeat_vector[0][0]              \n",
            "__________________________________________________________________________________________________\n",
            "multiply (Multiply)             (None, None, 256)    0           lstm_1[0][0]                     \n",
            "                                                                 permute[0][0]                    \n",
            "__________________________________________________________________________________________________\n",
            "lambda (Lambda)                 (None, 256)          0           multiply[0][0]                   \n",
            "__________________________________________________________________________________________________\n",
            "pitch (Dense)                   (None, 461)          118477      lambda[0][0]                     \n",
            "__________________________________________________________________________________________________\n",
            "duration (Dense)                (None, 19)           4883        lambda[0][0]                     \n",
            "==================================================================================================\n",
            "Total params: 1,164,897\n",
            "Trainable params: 1,164,897\n",
            "Non-trainable params: 0\n",
            "__________________________________________________________________________________________________\n"
          ],
          "name": "stdout"
        },
        {
          "output_type": "stream",
          "text": [
            "/usr/local/lib/python3.7/dist-packages/tensorflow/python/keras/optimizer_v2/optimizer_v2.py:375: UserWarning: The `lr` argument is deprecated, use `learning_rate` instead.\n",
            "  \"The `lr` argument is deprecated, use `learning_rate` instead.\")\n"
          ],
          "name": "stderr"
        }
      ]
    },
    {
      "cell_type": "code",
      "metadata": {
        "id": "HSUle2fl2lmo"
      },
      "source": [
        "weights_folder = os.path.join(run_folder, 'weights')\n",
        "# model.load_weights(os.path.join(weights_folder, \"weights.h5\"))"
      ],
      "execution_count": null,
      "outputs": []
    },
    {
      "cell_type": "code",
      "metadata": {
        "colab": {
          "base_uri": "https://localhost:8080/"
        },
        "id": "Jl00xaMG2yZz",
        "outputId": "22de8a63-eb86-44bf-bc44-3433c8423dad"
      },
      "source": [
        "weights_folder = os.path.join(run_folder, 'weights')\n",
        "\n",
        "checkpoint1 = ModelCheckpoint(\n",
        "    os.path.join(weights_folder, \"weights-improvement-{epoch:02d}-{loss:.4f}-bigger.h5\"),\n",
        "    monitor='loss',\n",
        "    verbose=0,\n",
        "    save_best_only=True,\n",
        "    mode='min'\n",
        ")\n",
        "\n",
        "checkpoint2 = ModelCheckpoint(\n",
        "    os.path.join(weights_folder, \"weights.h5\"),\n",
        "    monitor='loss',\n",
        "    verbose=0,\n",
        "    save_best_only=True,\n",
        "    mode='min'\n",
        ")\n",
        "\n",
        "early_stopping = EarlyStopping(\n",
        "    monitor='loss'\n",
        "    , restore_best_weights=True\n",
        "    , patience = 10\n",
        ")\n",
        "\n",
        "\n",
        "callbacks_list = [\n",
        "    checkpoint1\n",
        "    , checkpoint2\n",
        "    , early_stopping\n",
        " ]\n",
        "\n",
        "model.fit(net_input, net_output\n",
        "          , epochs=2000000, batch_size=32\n",
        "          , validation_split = 0.2\n",
        "          , callbacks=callbacks_list\n",
        "          , shuffle=True\n",
        "         )"
      ],
      "execution_count": null,
      "outputs": [
        {
          "output_type": "stream",
          "text": [
            "Epoch 1/2000000\n",
            "720/720 [==============================] - 34s 14ms/step - loss: 4.5665 - pitch_loss: 3.6743 - duration_loss: 0.8922 - val_loss: 3.7003 - val_pitch_loss: 3.1755 - val_duration_loss: 0.5248\n",
            "Epoch 2/2000000\n",
            "720/720 [==============================] - 9s 12ms/step - loss: 3.4628 - pitch_loss: 2.9511 - duration_loss: 0.5117 - val_loss: 3.5941 - val_pitch_loss: 3.1294 - val_duration_loss: 0.4648\n",
            "Epoch 3/2000000\n",
            "720/720 [==============================] - 9s 12ms/step - loss: 3.1267 - pitch_loss: 2.6726 - duration_loss: 0.4541 - val_loss: 3.5256 - val_pitch_loss: 3.0637 - val_duration_loss: 0.4619\n",
            "Epoch 4/2000000\n",
            "720/720 [==============================] - 9s 12ms/step - loss: 2.7773 - pitch_loss: 2.4092 - duration_loss: 0.3681 - val_loss: 3.5044 - val_pitch_loss: 3.0406 - val_duration_loss: 0.4638\n",
            "Epoch 5/2000000\n",
            "720/720 [==============================] - 9s 12ms/step - loss: 2.3827 - pitch_loss: 2.0846 - duration_loss: 0.2981 - val_loss: 3.5979 - val_pitch_loss: 3.1259 - val_duration_loss: 0.4721\n",
            "Epoch 6/2000000\n",
            "720/720 [==============================] - 9s 12ms/step - loss: 2.0315 - pitch_loss: 1.8047 - duration_loss: 0.2268 - val_loss: 3.7157 - val_pitch_loss: 3.1917 - val_duration_loss: 0.5240\n",
            "Epoch 7/2000000\n",
            "720/720 [==============================] - 9s 12ms/step - loss: 1.6956 - pitch_loss: 1.5300 - duration_loss: 0.1656 - val_loss: 3.8424 - val_pitch_loss: 3.3016 - val_duration_loss: 0.5408\n",
            "Epoch 8/2000000\n",
            "720/720 [==============================] - 9s 12ms/step - loss: 1.3356 - pitch_loss: 1.2204 - duration_loss: 0.1152 - val_loss: 4.1398 - val_pitch_loss: 3.5132 - val_duration_loss: 0.6266\n",
            "Epoch 9/2000000\n",
            "720/720 [==============================] - 9s 12ms/step - loss: 1.0766 - pitch_loss: 0.9927 - duration_loss: 0.0838 - val_loss: 4.2904 - val_pitch_loss: 3.6549 - val_duration_loss: 0.6355\n",
            "Epoch 10/2000000\n",
            "720/720 [==============================] - 9s 12ms/step - loss: 0.8525 - pitch_loss: 0.7890 - duration_loss: 0.0635 - val_loss: 4.5609 - val_pitch_loss: 3.8558 - val_duration_loss: 0.7051\n",
            "Epoch 11/2000000\n",
            "720/720 [==============================] - 9s 12ms/step - loss: 0.6908 - pitch_loss: 0.6384 - duration_loss: 0.0524 - val_loss: 4.8371 - val_pitch_loss: 4.0063 - val_duration_loss: 0.8309\n",
            "Epoch 12/2000000\n",
            "720/720 [==============================] - 9s 12ms/step - loss: 0.5881 - pitch_loss: 0.5457 - duration_loss: 0.0424 - val_loss: 5.0010 - val_pitch_loss: 4.1915 - val_duration_loss: 0.8095\n",
            "Epoch 13/2000000\n",
            "720/720 [==============================] - 9s 12ms/step - loss: 0.5273 - pitch_loss: 0.4939 - duration_loss: 0.0334 - val_loss: 5.2034 - val_pitch_loss: 4.3193 - val_duration_loss: 0.8841\n",
            "Epoch 14/2000000\n",
            "720/720 [==============================] - 9s 12ms/step - loss: 0.4904 - pitch_loss: 0.4611 - duration_loss: 0.0294 - val_loss: 5.3529 - val_pitch_loss: 4.4995 - val_duration_loss: 0.8533\n",
            "Epoch 15/2000000\n",
            "720/720 [==============================] - 9s 12ms/step - loss: 0.4687 - pitch_loss: 0.4395 - duration_loss: 0.0292 - val_loss: 5.4884 - val_pitch_loss: 4.5784 - val_duration_loss: 0.9100\n",
            "Epoch 16/2000000\n",
            "720/720 [==============================] - 9s 12ms/step - loss: 0.4253 - pitch_loss: 0.4025 - duration_loss: 0.0228 - val_loss: 5.5986 - val_pitch_loss: 4.6427 - val_duration_loss: 0.9559\n",
            "Epoch 17/2000000\n",
            "720/720 [==============================] - 9s 12ms/step - loss: 0.3981 - pitch_loss: 0.3757 - duration_loss: 0.0224 - val_loss: 5.6275 - val_pitch_loss: 4.6796 - val_duration_loss: 0.9480\n",
            "Epoch 18/2000000\n",
            "720/720 [==============================] - 9s 12ms/step - loss: 0.3804 - pitch_loss: 0.3593 - duration_loss: 0.0211 - val_loss: 5.7858 - val_pitch_loss: 4.8415 - val_duration_loss: 0.9443\n",
            "Epoch 19/2000000\n",
            "720/720 [==============================] - 9s 12ms/step - loss: 0.3662 - pitch_loss: 0.3466 - duration_loss: 0.0197 - val_loss: 5.8150 - val_pitch_loss: 4.8868 - val_duration_loss: 0.9282\n",
            "Epoch 20/2000000\n",
            "720/720 [==============================] - 9s 12ms/step - loss: 0.3329 - pitch_loss: 0.3164 - duration_loss: 0.0165 - val_loss: 5.9653 - val_pitch_loss: 4.9619 - val_duration_loss: 1.0033\n",
            "Epoch 21/2000000\n",
            "720/720 [==============================] - 9s 12ms/step - loss: 0.3220 - pitch_loss: 0.3034 - duration_loss: 0.0186 - val_loss: 5.9747 - val_pitch_loss: 4.9793 - val_duration_loss: 0.9955\n",
            "Epoch 22/2000000\n",
            "720/720 [==============================] - 9s 12ms/step - loss: 0.3029 - pitch_loss: 0.2860 - duration_loss: 0.0170 - val_loss: 6.0932 - val_pitch_loss: 5.0852 - val_duration_loss: 1.0080\n",
            "Epoch 23/2000000\n",
            "720/720 [==============================] - 9s 12ms/step - loss: 0.2722 - pitch_loss: 0.2558 - duration_loss: 0.0164 - val_loss: 6.1698 - val_pitch_loss: 5.1445 - val_duration_loss: 1.0253\n",
            "Epoch 24/2000000\n",
            "720/720 [==============================] - 9s 12ms/step - loss: 0.2612 - pitch_loss: 0.2431 - duration_loss: 0.0181 - val_loss: 6.1637 - val_pitch_loss: 5.1947 - val_duration_loss: 0.9689\n",
            "Epoch 25/2000000\n",
            "720/720 [==============================] - 9s 12ms/step - loss: 0.2454 - pitch_loss: 0.2307 - duration_loss: 0.0147 - val_loss: 6.2715 - val_pitch_loss: 5.2600 - val_duration_loss: 1.0115\n",
            "Epoch 26/2000000\n",
            "720/720 [==============================] - 9s 12ms/step - loss: 0.2408 - pitch_loss: 0.2242 - duration_loss: 0.0166 - val_loss: 6.1748 - val_pitch_loss: 5.1818 - val_duration_loss: 0.9930\n",
            "Epoch 27/2000000\n",
            "720/720 [==============================] - 9s 12ms/step - loss: 0.2161 - pitch_loss: 0.2007 - duration_loss: 0.0154 - val_loss: 6.3693 - val_pitch_loss: 5.2948 - val_duration_loss: 1.0746\n",
            "Epoch 28/2000000\n",
            "720/720 [==============================] - 9s 12ms/step - loss: 0.2088 - pitch_loss: 0.1919 - duration_loss: 0.0170 - val_loss: 6.4391 - val_pitch_loss: 5.3654 - val_duration_loss: 1.0737\n",
            "Epoch 29/2000000\n",
            "720/720 [==============================] - 9s 12ms/step - loss: 0.2087 - pitch_loss: 0.1938 - duration_loss: 0.0149 - val_loss: 6.4689 - val_pitch_loss: 5.3291 - val_duration_loss: 1.1398\n",
            "Epoch 30/2000000\n",
            "720/720 [==============================] - 9s 12ms/step - loss: 0.1829 - pitch_loss: 0.1671 - duration_loss: 0.0158 - val_loss: 6.4726 - val_pitch_loss: 5.3898 - val_duration_loss: 1.0828\n",
            "Epoch 31/2000000\n",
            "720/720 [==============================] - 9s 12ms/step - loss: 0.1744 - pitch_loss: 0.1624 - duration_loss: 0.0120 - val_loss: 6.4928 - val_pitch_loss: 5.4159 - val_duration_loss: 1.0769\n",
            "Epoch 32/2000000\n",
            "720/720 [==============================] - 9s 12ms/step - loss: 0.1691 - pitch_loss: 0.1524 - duration_loss: 0.0167 - val_loss: 6.5079 - val_pitch_loss: 5.3762 - val_duration_loss: 1.1317\n",
            "Epoch 33/2000000\n",
            "720/720 [==============================] - 9s 12ms/step - loss: 0.1563 - pitch_loss: 0.1443 - duration_loss: 0.0120 - val_loss: 6.6998 - val_pitch_loss: 5.5305 - val_duration_loss: 1.1693\n",
            "Epoch 34/2000000\n",
            "720/720 [==============================] - 9s 12ms/step - loss: 0.1433 - pitch_loss: 0.1294 - duration_loss: 0.0138 - val_loss: 6.7454 - val_pitch_loss: 5.6361 - val_duration_loss: 1.1094\n",
            "Epoch 35/2000000\n",
            "720/720 [==============================] - 9s 12ms/step - loss: 0.1445 - pitch_loss: 0.1307 - duration_loss: 0.0138 - val_loss: 6.7229 - val_pitch_loss: 5.5493 - val_duration_loss: 1.1735\n",
            "Epoch 36/2000000\n",
            "720/720 [==============================] - 9s 12ms/step - loss: 0.1377 - pitch_loss: 0.1257 - duration_loss: 0.0120 - val_loss: 6.8538 - val_pitch_loss: 5.6387 - val_duration_loss: 1.2150\n",
            "Epoch 37/2000000\n",
            "720/720 [==============================] - 9s 12ms/step - loss: 0.1210 - pitch_loss: 0.1109 - duration_loss: 0.0101 - val_loss: 6.7351 - val_pitch_loss: 5.6265 - val_duration_loss: 1.1085\n",
            "Epoch 38/2000000\n",
            "720/720 [==============================] - 9s 12ms/step - loss: 0.1219 - pitch_loss: 0.1106 - duration_loss: 0.0113 - val_loss: 6.8588 - val_pitch_loss: 5.6932 - val_duration_loss: 1.1656\n",
            "Epoch 39/2000000\n",
            "720/720 [==============================] - 9s 12ms/step - loss: 0.1162 - pitch_loss: 0.1059 - duration_loss: 0.0103 - val_loss: 6.9095 - val_pitch_loss: 5.7520 - val_duration_loss: 1.1575\n",
            "Epoch 40/2000000\n",
            "720/720 [==============================] - 9s 12ms/step - loss: 0.1094 - pitch_loss: 0.0939 - duration_loss: 0.0155 - val_loss: 6.9864 - val_pitch_loss: 5.8180 - val_duration_loss: 1.1684\n",
            "Epoch 41/2000000\n",
            "720/720 [==============================] - 9s 12ms/step - loss: 0.1097 - pitch_loss: 0.0978 - duration_loss: 0.0119 - val_loss: 6.9638 - val_pitch_loss: 5.7656 - val_duration_loss: 1.1982\n",
            "Epoch 42/2000000\n",
            "720/720 [==============================] - 9s 12ms/step - loss: 0.0988 - pitch_loss: 0.0877 - duration_loss: 0.0111 - val_loss: 7.0052 - val_pitch_loss: 5.8328 - val_duration_loss: 1.1724\n",
            "Epoch 43/2000000\n",
            "720/720 [==============================] - 9s 12ms/step - loss: 0.0923 - pitch_loss: 0.0805 - duration_loss: 0.0118 - val_loss: 7.0877 - val_pitch_loss: 5.8590 - val_duration_loss: 1.2287\n",
            "Epoch 44/2000000\n",
            "720/720 [==============================] - 9s 12ms/step - loss: 0.0921 - pitch_loss: 0.0794 - duration_loss: 0.0127 - val_loss: 7.1100 - val_pitch_loss: 5.8988 - val_duration_loss: 1.2112\n",
            "Epoch 45/2000000\n",
            "720/720 [==============================] - 9s 12ms/step - loss: 0.0863 - pitch_loss: 0.0757 - duration_loss: 0.0106 - val_loss: 7.2455 - val_pitch_loss: 5.9859 - val_duration_loss: 1.2596\n",
            "Epoch 46/2000000\n",
            "720/720 [==============================] - 9s 12ms/step - loss: 0.0894 - pitch_loss: 0.0767 - duration_loss: 0.0127 - val_loss: 7.1265 - val_pitch_loss: 5.9194 - val_duration_loss: 1.2071\n",
            "Epoch 47/2000000\n",
            "720/720 [==============================] - 9s 12ms/step - loss: 0.0838 - pitch_loss: 0.0696 - duration_loss: 0.0142 - val_loss: 7.2463 - val_pitch_loss: 5.9712 - val_duration_loss: 1.2751\n",
            "Epoch 48/2000000\n",
            "720/720 [==============================] - 9s 12ms/step - loss: 0.0746 - pitch_loss: 0.0646 - duration_loss: 0.0101 - val_loss: 7.2864 - val_pitch_loss: 6.0276 - val_duration_loss: 1.2588\n",
            "Epoch 49/2000000\n",
            "720/720 [==============================] - 9s 12ms/step - loss: 0.0755 - pitch_loss: 0.0622 - duration_loss: 0.0133 - val_loss: 7.3452 - val_pitch_loss: 6.0361 - val_duration_loss: 1.3091\n",
            "Epoch 50/2000000\n",
            "720/720 [==============================] - 9s 12ms/step - loss: 0.0755 - pitch_loss: 0.0653 - duration_loss: 0.0102 - val_loss: 7.3537 - val_pitch_loss: 6.0864 - val_duration_loss: 1.2673\n",
            "Epoch 51/2000000\n",
            "720/720 [==============================] - 9s 12ms/step - loss: 0.0733 - pitch_loss: 0.0621 - duration_loss: 0.0111 - val_loss: 7.3607 - val_pitch_loss: 6.0732 - val_duration_loss: 1.2875\n",
            "Epoch 52/2000000\n",
            "720/720 [==============================] - 9s 12ms/step - loss: 0.0808 - pitch_loss: 0.0650 - duration_loss: 0.0159 - val_loss: 7.4571 - val_pitch_loss: 6.1501 - val_duration_loss: 1.3070\n",
            "Epoch 53/2000000\n",
            "720/720 [==============================] - 9s 12ms/step - loss: 0.0695 - pitch_loss: 0.0561 - duration_loss: 0.0134 - val_loss: 7.4057 - val_pitch_loss: 6.1446 - val_duration_loss: 1.2610\n",
            "Epoch 54/2000000\n",
            "720/720 [==============================] - 9s 12ms/step - loss: 0.0681 - pitch_loss: 0.0558 - duration_loss: 0.0124 - val_loss: 7.4487 - val_pitch_loss: 6.1755 - val_duration_loss: 1.2732\n",
            "Epoch 55/2000000\n",
            "720/720 [==============================] - 9s 12ms/step - loss: 0.0637 - pitch_loss: 0.0533 - duration_loss: 0.0104 - val_loss: 7.3945 - val_pitch_loss: 6.1085 - val_duration_loss: 1.2860\n",
            "Epoch 56/2000000\n",
            "720/720 [==============================] - 9s 12ms/step - loss: 0.0614 - pitch_loss: 0.0507 - duration_loss: 0.0107 - val_loss: 7.5161 - val_pitch_loss: 6.2218 - val_duration_loss: 1.2942\n",
            "Epoch 57/2000000\n",
            "720/720 [==============================] - 9s 12ms/step - loss: 0.0630 - pitch_loss: 0.0529 - duration_loss: 0.0101 - val_loss: 7.5376 - val_pitch_loss: 6.1904 - val_duration_loss: 1.3472\n",
            "Epoch 58/2000000\n",
            "720/720 [==============================] - 9s 12ms/step - loss: 0.0642 - pitch_loss: 0.0525 - duration_loss: 0.0117 - val_loss: 7.6771 - val_pitch_loss: 6.3540 - val_duration_loss: 1.3230\n",
            "Epoch 59/2000000\n",
            "720/720 [==============================] - 9s 12ms/step - loss: 0.0549 - pitch_loss: 0.0466 - duration_loss: 0.0083 - val_loss: 7.6971 - val_pitch_loss: 6.3104 - val_duration_loss: 1.3868\n",
            "Epoch 60/2000000\n",
            "720/720 [==============================] - 9s 12ms/step - loss: 0.0579 - pitch_loss: 0.0448 - duration_loss: 0.0131 - val_loss: 7.6326 - val_pitch_loss: 6.2936 - val_duration_loss: 1.3390\n",
            "Epoch 61/2000000\n",
            "720/720 [==============================] - 9s 12ms/step - loss: 0.0595 - pitch_loss: 0.0482 - duration_loss: 0.0113 - val_loss: 7.7874 - val_pitch_loss: 6.3561 - val_duration_loss: 1.4313\n",
            "Epoch 62/2000000\n",
            "720/720 [==============================] - 9s 12ms/step - loss: 0.0606 - pitch_loss: 0.0450 - duration_loss: 0.0156 - val_loss: 7.7491 - val_pitch_loss: 6.3698 - val_duration_loss: 1.3793\n",
            "Epoch 63/2000000\n",
            "720/720 [==============================] - 9s 12ms/step - loss: 0.0532 - pitch_loss: 0.0431 - duration_loss: 0.0101 - val_loss: 7.7474 - val_pitch_loss: 6.3952 - val_duration_loss: 1.3522\n",
            "Epoch 64/2000000\n",
            "720/720 [==============================] - 9s 12ms/step - loss: 0.0544 - pitch_loss: 0.0427 - duration_loss: 0.0117 - val_loss: 7.6261 - val_pitch_loss: 6.2772 - val_duration_loss: 1.3489\n",
            "Epoch 65/2000000\n",
            "720/720 [==============================] - 9s 12ms/step - loss: 0.0607 - pitch_loss: 0.0470 - duration_loss: 0.0136 - val_loss: 7.8532 - val_pitch_loss: 6.4573 - val_duration_loss: 1.3958\n",
            "Epoch 66/2000000\n",
            "720/720 [==============================] - 9s 12ms/step - loss: 0.0499 - pitch_loss: 0.0406 - duration_loss: 0.0093 - val_loss: 7.8044 - val_pitch_loss: 6.4329 - val_duration_loss: 1.3715\n",
            "Epoch 67/2000000\n",
            "720/720 [==============================] - 9s 12ms/step - loss: 0.0482 - pitch_loss: 0.0386 - duration_loss: 0.0095 - val_loss: 7.7719 - val_pitch_loss: 6.3942 - val_duration_loss: 1.3778\n",
            "Epoch 68/2000000\n",
            "720/720 [==============================] - 9s 12ms/step - loss: 0.0518 - pitch_loss: 0.0414 - duration_loss: 0.0105 - val_loss: 7.8070 - val_pitch_loss: 6.4009 - val_duration_loss: 1.4061\n",
            "Epoch 69/2000000\n",
            "720/720 [==============================] - 9s 12ms/step - loss: 0.0560 - pitch_loss: 0.0447 - duration_loss: 0.0113 - val_loss: 7.9282 - val_pitch_loss: 6.5614 - val_duration_loss: 1.3668\n",
            "Epoch 70/2000000\n",
            "720/720 [==============================] - 9s 12ms/step - loss: 0.0510 - pitch_loss: 0.0402 - duration_loss: 0.0108 - val_loss: 8.0664 - val_pitch_loss: 6.6426 - val_duration_loss: 1.4237\n",
            "Epoch 71/2000000\n",
            "720/720 [==============================] - 9s 12ms/step - loss: 0.0528 - pitch_loss: 0.0416 - duration_loss: 0.0112 - val_loss: 7.9309 - val_pitch_loss: 6.5677 - val_duration_loss: 1.3632\n",
            "Epoch 72/2000000\n",
            "720/720 [==============================] - 9s 12ms/step - loss: 0.0508 - pitch_loss: 0.0389 - duration_loss: 0.0119 - val_loss: 7.9825 - val_pitch_loss: 6.6007 - val_duration_loss: 1.3819\n",
            "Epoch 73/2000000\n",
            "720/720 [==============================] - 9s 12ms/step - loss: 0.0552 - pitch_loss: 0.0430 - duration_loss: 0.0122 - val_loss: 8.0541 - val_pitch_loss: 6.6694 - val_duration_loss: 1.3847\n",
            "Epoch 74/2000000\n",
            "720/720 [==============================] - 9s 12ms/step - loss: 0.0541 - pitch_loss: 0.0442 - duration_loss: 0.0099 - val_loss: 8.0438 - val_pitch_loss: 6.7121 - val_duration_loss: 1.3317\n",
            "Epoch 75/2000000\n",
            "720/720 [==============================] - 9s 12ms/step - loss: 0.0530 - pitch_loss: 0.0427 - duration_loss: 0.0102 - val_loss: 8.1088 - val_pitch_loss: 6.7507 - val_duration_loss: 1.3581\n",
            "Epoch 76/2000000\n",
            "720/720 [==============================] - 9s 12ms/step - loss: 0.0514 - pitch_loss: 0.0385 - duration_loss: 0.0129 - val_loss: 8.1982 - val_pitch_loss: 6.7281 - val_duration_loss: 1.4701\n",
            "Epoch 77/2000000\n",
            "720/720 [==============================] - 9s 12ms/step - loss: 0.0527 - pitch_loss: 0.0417 - duration_loss: 0.0110 - val_loss: 8.1213 - val_pitch_loss: 6.6786 - val_duration_loss: 1.4427\n",
            "Epoch 78/2000000\n",
            "720/720 [==============================] - 9s 12ms/step - loss: 0.0483 - pitch_loss: 0.0368 - duration_loss: 0.0115 - val_loss: 8.1550 - val_pitch_loss: 6.7755 - val_duration_loss: 1.3796\n",
            "Epoch 79/2000000\n",
            "720/720 [==============================] - 9s 12ms/step - loss: 0.0577 - pitch_loss: 0.0419 - duration_loss: 0.0158 - val_loss: 8.1457 - val_pitch_loss: 6.7206 - val_duration_loss: 1.4251\n",
            "Epoch 80/2000000\n",
            "720/720 [==============================] - 9s 12ms/step - loss: 0.0442 - pitch_loss: 0.0337 - duration_loss: 0.0105 - val_loss: 8.2644 - val_pitch_loss: 6.8063 - val_duration_loss: 1.4581\n",
            "Epoch 81/2000000\n",
            "720/720 [==============================] - 9s 12ms/step - loss: 0.0501 - pitch_loss: 0.0378 - duration_loss: 0.0123 - val_loss: 8.0120 - val_pitch_loss: 6.7228 - val_duration_loss: 1.2892\n",
            "Epoch 82/2000000\n",
            "720/720 [==============================] - 9s 12ms/step - loss: 0.0480 - pitch_loss: 0.0359 - duration_loss: 0.0121 - val_loss: 8.0867 - val_pitch_loss: 6.7431 - val_duration_loss: 1.3436\n",
            "Epoch 83/2000000\n",
            "720/720 [==============================] - 9s 12ms/step - loss: 0.0464 - pitch_loss: 0.0356 - duration_loss: 0.0108 - val_loss: 8.2840 - val_pitch_loss: 6.8641 - val_duration_loss: 1.4199\n",
            "Epoch 84/2000000\n",
            "720/720 [==============================] - 9s 12ms/step - loss: 0.0487 - pitch_loss: 0.0363 - duration_loss: 0.0123 - val_loss: 8.2736 - val_pitch_loss: 6.8882 - val_duration_loss: 1.3853\n",
            "Epoch 85/2000000\n",
            "720/720 [==============================] - 9s 12ms/step - loss: 0.0486 - pitch_loss: 0.0363 - duration_loss: 0.0124 - val_loss: 8.1975 - val_pitch_loss: 6.8137 - val_duration_loss: 1.3838\n",
            "Epoch 86/2000000\n",
            "720/720 [==============================] - 9s 12ms/step - loss: 0.0479 - pitch_loss: 0.0369 - duration_loss: 0.0110 - val_loss: 8.3359 - val_pitch_loss: 6.9067 - val_duration_loss: 1.4292\n",
            "Epoch 87/2000000\n",
            "720/720 [==============================] - 9s 12ms/step - loss: 0.0491 - pitch_loss: 0.0367 - duration_loss: 0.0124 - val_loss: 8.4267 - val_pitch_loss: 6.9520 - val_duration_loss: 1.4747\n",
            "Epoch 88/2000000\n",
            "720/720 [==============================] - 9s 12ms/step - loss: 0.0461 - pitch_loss: 0.0345 - duration_loss: 0.0116 - val_loss: 8.3155 - val_pitch_loss: 6.8872 - val_duration_loss: 1.4283\n",
            "Epoch 89/2000000\n",
            "720/720 [==============================] - 9s 12ms/step - loss: 0.0550 - pitch_loss: 0.0398 - duration_loss: 0.0152 - val_loss: 8.3431 - val_pitch_loss: 6.8829 - val_duration_loss: 1.4602\n",
            "Epoch 90/2000000\n",
            "720/720 [==============================] - 9s 12ms/step - loss: 0.0492 - pitch_loss: 0.0388 - duration_loss: 0.0104 - val_loss: 8.3222 - val_pitch_loss: 6.9354 - val_duration_loss: 1.3868\n",
            "Epoch 91/2000000\n",
            "720/720 [==============================] - 9s 12ms/step - loss: 0.0478 - pitch_loss: 0.0379 - duration_loss: 0.0099 - val_loss: 8.4348 - val_pitch_loss: 6.9432 - val_duration_loss: 1.4915\n",
            "Epoch 92/2000000\n",
            "720/720 [==============================] - 9s 12ms/step - loss: 0.0529 - pitch_loss: 0.0398 - duration_loss: 0.0130 - val_loss: 8.3839 - val_pitch_loss: 6.9547 - val_duration_loss: 1.4292\n"
          ],
          "name": "stdout"
        },
        {
          "output_type": "execute_result",
          "data": {
            "text/plain": [
              "<keras.callbacks.History at 0x7fef3a63ff10>"
            ]
          },
          "metadata": {
            "tags": []
          },
          "execution_count": 44
        }
      ]
    },
    {
      "cell_type": "code",
      "metadata": {
        "id": "vaedkmR7dYT-"
      },
      "source": [
        "model.save('processed/Attention.h5')"
      ],
      "execution_count": null,
      "outputs": []
    },
    {
      "cell_type": "markdown",
      "metadata": {
        "id": "a5dcsRcgarPY"
      },
      "source": [
        "# Prediction"
      ]
    },
    {
      "cell_type": "code",
      "metadata": {
        "id": "I8H9tnkRK2rT"
      },
      "source": [
        "with open(\"/content/processed/lookups.hmm\", \"rb\") as file_lp:\n",
        "  note_to_int, int_to_note, duration_to_int, int_to_duration = pickle.load(file_lp)\n",
        "\n",
        "with open(\"/content/processed/distinct_notes_durations.hmm\", \"rb\") as file_nd:\n",
        "  note_names, n_notes, duration_names, n_durations = pickle.load(file_nd)"
      ],
      "execution_count": null,
      "outputs": []
    },
    {
      "cell_type": "code",
      "metadata": {
        "colab": {
          "base_uri": "https://localhost:8080/"
        },
        "id": "H6dUt4nPNwuE",
        "outputId": "bcc4b0b9-84b9-45e9-8a3d-c6be68ea124d"
      },
      "source": [
        "weights_folder = os.path.join(run_folder, 'weights')\n",
        "weights_file = 'weights.h5'\n",
        "\n",
        "model, att_model = create_network(n_notes, n_durations, embed_size, rnn_units)\n",
        "\n",
        "# Load the weights to each node\n",
        "weight_source = os.path.join(weights_folder,weights_file)\n",
        "model.load_weights(weight_source)\n",
        "model.summary()"
      ],
      "execution_count": null,
      "outputs": [
        {
          "output_type": "stream",
          "text": [
            "Model: \"model_3\"\n",
            "__________________________________________________________________________________________________\n",
            "Layer (type)                    Output Shape         Param #     Connected to                     \n",
            "==================================================================================================\n",
            "input_7 (InputLayer)            [(None, None)]       0                                            \n",
            "__________________________________________________________________________________________________\n",
            "input_8 (InputLayer)            [(None, None)]       0                                            \n",
            "__________________________________________________________________________________________________\n",
            "embedding_6 (Embedding)         (None, None, 100)    46100       input_7[0][0]                    \n",
            "__________________________________________________________________________________________________\n",
            "embedding_7 (Embedding)         (None, None, 100)    1900        input_8[0][0]                    \n",
            "__________________________________________________________________________________________________\n",
            "concatenate_3 (Concatenate)     (None, None, 200)    0           embedding_6[0][0]                \n",
            "                                                                 embedding_7[0][0]                \n",
            "__________________________________________________________________________________________________\n",
            "lstm_6 (LSTM)                   (None, None, 256)    467968      concatenate_3[0][0]              \n",
            "__________________________________________________________________________________________________\n",
            "lstm_7 (LSTM)                   (None, 256)          525312      lstm_6[0][0]                     \n",
            "__________________________________________________________________________________________________\n",
            "pitch (Dense)                   (None, 461)          118477      lstm_7[0][0]                     \n",
            "__________________________________________________________________________________________________\n",
            "duration (Dense)                (None, 19)           4883        lstm_7[0][0]                     \n",
            "==================================================================================================\n",
            "Total params: 1,164,640\n",
            "Trainable params: 1,164,640\n",
            "Non-trainable params: 0\n",
            "__________________________________________________________________________________________________\n"
          ],
          "name": "stdout"
        },
        {
          "output_type": "stream",
          "text": [
            "/usr/local/lib/python3.7/dist-packages/tensorflow/python/keras/optimizer_v2/optimizer_v2.py:375: UserWarning: The `lr` argument is deprecated, use `learning_rate` instead.\n",
            "  \"The `lr` argument is deprecated, use `learning_rate` instead.\")\n"
          ],
          "name": "stderr"
        }
      ]
    },
    {
      "cell_type": "code",
      "metadata": {
        "id": "5WihxnfJOUVJ"
      },
      "source": [
        "# prediction params\n",
        "notes_temp=0.5\n",
        "duration_temp = 0.5\n",
        "max_extra_notes = 50\n",
        "max_seq_len = 32\n",
        "seq_len = 32\n",
        "\n",
        "# notes = ['START', 'D3', 'D3', 'E3', 'D3', 'G3', 'F#3','D3', 'D3', 'E3', 'D3', 'G3', 'F#3','D3', 'D3', 'E3', 'D3', 'G3', 'F#3','D3', 'D3', 'E3', 'D3', 'G3', 'F#3']\n",
        "# durations = [0, 0.75, 0.25, 1, 1, 1, 2, 0.75, 0.25, 1, 1, 1, 2, 0.75, 0.25, 1, 1, 1, 2, 0.75, 0.25, 1, 1, 1, 2]\n",
        "\n",
        "\n",
        "# notes = ['START', 'F#3', 'G#3', 'F#3', 'E3', 'F#3', 'G#3', 'F#3', 'E3', 'F#3', 'G#3', 'F#3', 'E3','F#3', 'G#3', 'F#3', 'E3', 'F#3', 'G#3', 'F#3', 'E3', 'F#3', 'G#3', 'F#3', 'E3']\n",
        "# durations = [0, 0.75, 0.25, 1, 1, 1, 2, 0.75, 0.25, 1, 1, 1, 2, 0.75, 0.25, 1, 1, 1, 2, 0.75, 0.25, 1, 1, 1, 2]\n",
        "\n",
        "\n",
        "notes = ['START']\n",
        "durations = [0]\n",
        "\n",
        "if seq_len is not None:\n",
        "    notes = ['START'] * (seq_len - len(notes)) + notes\n",
        "    durations = [0] * (seq_len - len(durations)) + durations\n",
        "\n",
        "\n",
        "sequence_length = len(notes)"
      ],
      "execution_count": null,
      "outputs": []
    },
    {
      "cell_type": "code",
      "metadata": {
        "id": "21qiZcCKPSQJ"
      },
      "source": [
        "def sample_with_temp(preds, temperature):\n",
        "\n",
        "    if temperature == 0:\n",
        "        return np.argmax(preds)\n",
        "    else:\n",
        "        preds = np.log(preds) / temperature\n",
        "        exp_preds = np.exp(preds)\n",
        "        preds = exp_preds / np.sum(exp_preds)\n",
        "        return np.random.choice(len(preds), p=preds)"
      ],
      "execution_count": null,
      "outputs": []
    },
    {
      "cell_type": "code",
      "metadata": {
        "colab": {
          "base_uri": "https://localhost:8080/"
        },
        "id": "4Uj6H8w5OWVO",
        "outputId": "063979e6-2958-4cc7-daec-4835f7f1107a"
      },
      "source": [
        "prediction_output = []\n",
        "notes_input_sequence = []\n",
        "durations_input_sequence = []\n",
        "\n",
        "overall_preds = []\n",
        "\n",
        "for n, d in zip(notes,durations):\n",
        "    note_int = note_to_int[n]\n",
        "    duration_int = duration_to_int[d]\n",
        "    \n",
        "    notes_input_sequence.append(note_int)\n",
        "    durations_input_sequence.append(duration_int)\n",
        "    \n",
        "    prediction_output.append([n, d])\n",
        "    \n",
        "    if n != 'START':\n",
        "        midi_note = note.Note(n)\n",
        "\n",
        "        new_note = np.zeros(128)\n",
        "        new_note[midi_note.pitch.midi] = 1\n",
        "        overall_preds.append(new_note)\n",
        "\n",
        "\n",
        "att_matrix = np.zeros(shape = (max_extra_notes+sequence_length, max_extra_notes))\n",
        "\n",
        "for note_index in range(max_extra_notes):\n",
        "\n",
        "    prediction_input = [\n",
        "        np.array([notes_input_sequence])\n",
        "        , np.array([durations_input_sequence])\n",
        "       ]\n",
        "\n",
        "    notes_prediction, durations_prediction = model.predict(prediction_input, verbose=0)\n",
        "    # if use_attention:\n",
        "    #     att_prediction = att_model.predict(prediction_input, verbose=0)[0]\n",
        "    #     att_matrix[(note_index-len(att_prediction)+sequence_length):(note_index+sequence_length), note_index] = att_prediction\n",
        "    \n",
        "    new_note = np.zeros(128)\n",
        "    \n",
        "    for idx, n_i in enumerate(notes_prediction[0]):\n",
        "        try:\n",
        "            note_name = int_to_note[idx]\n",
        "            midi_note = note.Note(note_name)\n",
        "            new_note[midi_note.pitch.midi] = n_i\n",
        "            \n",
        "        except:\n",
        "            pass\n",
        "        \n",
        "    overall_preds.append(new_note)\n",
        "            \n",
        "    \n",
        "    i1 = sample_with_temp(notes_prediction[0], notes_temp)\n",
        "    i2 = sample_with_temp(durations_prediction[0], duration_temp)\n",
        "    \n",
        "\n",
        "    note_result = int_to_note[i1]\n",
        "    duration_result = int_to_duration[i2]\n",
        "    \n",
        "    prediction_output.append([note_result, duration_result])\n",
        "\n",
        "    notes_input_sequence.append(i1)\n",
        "    durations_input_sequence.append(i2)\n",
        "    \n",
        "    if len(notes_input_sequence) > max_seq_len:\n",
        "        notes_input_sequence = notes_input_sequence[1:]\n",
        "        durations_input_sequence = durations_input_sequence[1:]\n",
        "        \n",
        "#     print(note_result)\n",
        "#     print(duration_result)\n",
        "        \n",
        "    if note_result == 'START':\n",
        "        break\n",
        "\n",
        "overall_preds = np.transpose(np.array(overall_preds)) \n",
        "print('Generated sequence of {} notes'.format(len(prediction_output)))"
      ],
      "execution_count": null,
      "outputs": [
        {
          "output_type": "stream",
          "text": [
            "Generated sequence of 82 notes\n"
          ],
          "name": "stdout"
        }
      ]
    }
  ]
}